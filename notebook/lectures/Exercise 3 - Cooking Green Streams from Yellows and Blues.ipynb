{
 "cells": [
  {
   "cell_type": "markdown",
   "metadata": {},
   "source": [
    "# Colorstream\n",
    "### Processing: cooking greens from yellows and blues"
   ]
  },
  {
   "cell_type": "code",
   "execution_count": 1,
   "metadata": {},
   "outputs": [
    {
     "data": {
      "image/png": "[encoded data removed]",
      "text/plain": [
       "<IPython.core.display.Image object>"
      ]
     },
     "execution_count": 1,
     "metadata": {},
     "output_type": "execute_result"
    }
   ],
   "source": [
    "from IPython.display import Image\n",
    "Image(filename=\"./images/cooking-greens.png\")"
   ]
  },
  {
   "cell_type": "markdown",
   "metadata": {},
   "source": [
    "### Inspect the sources\n",
    "\n",
    "- a description of the stream is available at [http://colorstream:8080/colors](http://colorstream:8080/colors)\n",
    "- the stream can be consumed via websocket at [ws://colorstream:5555](ws://colorstream:5555)"
   ]
  },
  {
   "cell_type": "markdown",
   "metadata": {},
   "source": [
    "### Import rsplib and initialize the RSPEngine"
   ]
  },
  {
   "cell_type": "code",
   "execution_count": 2,
   "metadata": {},
   "outputs": [],
   "source": [
    "from rsplib import RSPEngine"
   ]
  },
  {
   "cell_type": "code",
   "execution_count": 3,
   "metadata": {},
   "outputs": [],
   "source": [
    "jasper = RSPEngine(\"http://jasper:8181/jasper\")"
   ]
  },
  {
   "cell_type": "markdown",
   "metadata": {},
   "source": [
    "### Define the query, specifing the query id, the t-box and the body of the query"
   ]
  },
  {
   "cell_type": "code",
   "execution_count": 4,
   "metadata": {},
   "outputs": [],
   "source": [
    "qid  = 'green'"
   ]
  },
  {
   "cell_type": "code",
   "execution_count": 5,
   "metadata": {},
   "outputs": [],
   "source": [
    "tbox = 'https://linkeddata.stream/ontologies/colors.owl'"
   ]
  },
  {
   "cell_type": "code",
   "execution_count": 6,
   "metadata": {},
   "outputs": [],
   "source": [
    "body = '''\n",
    "    CONSTRUCT { \n",
    "        ?green a <http://www.streamreasoning.org/ontologies/2018/9/colors#Green> ; \n",
    "            <http://www.streamreasoning.org/ontologies/2018/9/colors#from> ?yellow , ?blue .\n",
    "    }\n",
    "    FROM NAMED WINDOW <colorwindow> ON <http://colorstream:8080/colors> [RANGE PT15S STEP PT15S]\n",
    "    WHERE {\n",
    "        { WINDOW <colorwindow> { ?yellow a <http://www.streamreasoning.org/ontologies/2018/9/colors#Yellow> . } }\n",
    "            UNION\n",
    "        { WINDOW <colorwindow> { ?blue a <http://www.streamreasoning.org/ontologies/2018/9/colors#Blue> .} }\n",
    "\n",
    "        BIND( UUID() as ?green )\n",
    "    }\n",
    "    '''"
   ]
  },
  {
   "cell_type": "code",
   "execution_count": 7,
   "metadata": {},
   "outputs": [],
   "source": [
    "green_query = jasper.create(qid, body, tbox)"
   ]
  },
  {
   "cell_type": "code",
   "execution_count": 8,
   "metadata": {},
   "outputs": [
    {
     "data": {
      "text/plain": [
       "[GET http://colorstream:8080/colors]"
      ]
     },
     "execution_count": 8,
     "metadata": {},
     "output_type": "execute_result"
    }
   ],
   "source": [
    "green_query.sources()"
   ]
  },
  {
   "cell_type": "markdown",
   "metadata": {},
   "source": [
    "### The stream has no endpoint\n"
   ]
  },
  {
   "cell_type": "code",
   "execution_count": 9,
   "metadata": {},
   "outputs": [
    {
     "data": {
      "text/plain": [
       "[]"
      ]
     },
     "execution_count": 9,
     "metadata": {},
     "output_type": "execute_result"
    }
   ],
   "source": [
    "green_query.stream().endpoints()"
   ]
  },
  {
   "cell_type": "markdown",
   "metadata": {},
   "source": [
    "### Create a stream endpoint\n"
   ]
  },
  {
   "cell_type": "code",
   "execution_count": 10,
   "metadata": {},
   "outputs": [],
   "source": [
    "response = jasper.expose(qid, 'WEBSOCKET')"
   ]
  },
  {
   "cell_type": "code",
   "execution_count": 11,
   "metadata": {},
   "outputs": [
    {
     "data": {
      "text/plain": [
       "[http://jasper:8181/jasper/streams/green, http://colorstream:8080/colors]"
      ]
     },
     "execution_count": 11,
     "metadata": {},
     "output_type": "execute_result"
    }
   ],
   "source": [
    "jasper.streams()"
   ]
  },
  {
   "cell_type": "markdown",
   "metadata": {},
   "source": [
    "### Inspect and call the response endpoints"
   ]
  },
  {
   "cell_type": "code",
   "execution_count": 12,
   "metadata": {},
   "outputs": [
    {
     "data": {
      "text/plain": [
       "[GET ws://jasper:8182/jasper/streams/green/observers/810254591]"
      ]
     },
     "execution_count": 12,
     "metadata": {},
     "output_type": "execute_result"
    }
   ],
   "source": [
    "response.endpoints()"
   ]
  },
  {
   "cell_type": "code",
   "execution_count": 13,
   "metadata": {
    "scrolled": false
   },
   "outputs": [
    {
     "name": "stdout",
     "output_type": "stream",
     "text": [
      "WARNING: WebSocket will be open for a single connection!\n"
     ]
    },
    {
     "data": {
      "text/plain": [
       "{\n",
       "    \"@graph\": [\n",
       "        {\n",
       "            \"@id\": \"urn:uuid:01a80298-280b-4a1c-8e23-a74510b72451\",\n",
       "            \"@type\": \"http://www.streamreasoning.org/ontologies/2018/9/colors#Green\",\n",
       "            \"from\": \"http://jasper:8181/e693d4b5-4708-41dc-81c6-c3b95ed65130\"\n",
       "        },\n",
       "        {\n",
       "            \"@id\": \"urn:uuid:03e17eea-ffd6-45c4-8d57-a46d0e8425b2\",\n",
       "            \"@type\": \"http://www.streamreasoning.org/ontologies/2018/9/colors#Green\",\n",
       "            \"from\": \"http://jasper:8181/05970314-dac2-4f5a-a240-fb53c23e350f\"\n",
       "        },\n",
       "        {\n",
       "            \"@id\": \"urn:uuid:0951bfea-6966-4518-81a9-2f6e7de4c1be\",\n",
       "            \"@type\": \"http://www.streamreasoning.org/ontologies/2018/9/colors#Green\",\n",
       "            \"from\": \"http://jasper:8181/8949fa86-a770-40ab-8c78-f7bae7ff6ad5\"\n",
       "        },\n",
       "        {\n",
       "            \"@id\": \"urn:uuid:11f2e775-9b30-447d-a6e9-61ec3e31d719\",\n",
       "            \"@type\": \"http://www.streamreasoning.org/ontologies/2018/9/colors#Green\",\n",
       "            \"from\": \"http://jasper:8181/56fa597a-7053-4fd0-955a-a02f83795339\"\n",
       "        },\n",
       "        {\n",
       "            \"@id\": \"urn:uuid:13bc6130-7eec-40d4-ab55-bf73c7b3d161\",\n",
       "            \"@type\": \"http://www.streamreasoning.org/ontologies/2018/9/colors#Green\",\n",
       "            \"from\": \"http://jasper:8181/3afcc380-7ed2-468a-a870-ed646f4348c3\"\n",
       "        },\n",
       "        {\n",
       "            \"@id\": \"urn:uuid:1cb36233-3290-4f99-8dbc-f652c1fb526e\",\n",
       "            \"@type\": \"http://www.streamreasoning.org/ontologies/2018/9/colors#Green\",\n",
       "            \"from\": \"http://jasper:8181/593b7350-3aa7-43ff-84f6-d60347128efd\"\n",
       "        },\n",
       "        {\n",
       "            \"@id\": \"urn:uuid:3d37cbb5-0e19-4f6c-bfeb-20d6c9083dd6\",\n",
       "            \"@type\": \"http://www.streamreasoning.org/ontologies/2018/9/colors#Green\",\n",
       "            \"from\": \"http://jasper:8181/e37e1a3e-64e3-4b2a-b7ca-1433092508f2\"\n",
       "        },\n",
       "        {\n",
       "            \"@id\": \"urn:uuid:4bde4c5e-6d7d-4e12-9190-b7c14b30657d\",\n",
       "            \"@type\": \"http://www.streamreasoning.org/ontologies/2018/9/colors#Green\",\n",
       "            \"from\": \"http://jasper:8181/d3ecc324-74b4-422c-b228-206e2c8b6a97\"\n",
       "        },\n",
       "        {\n",
       "            \"@id\": \"urn:uuid:642c11c0-1125-44a1-a467-b15641cbd93e\",\n",
       "            \"@type\": \"http://www.streamreasoning.org/ontologies/2018/9/colors#Green\",\n",
       "            \"from\": \"http://jasper:8181/5ff0e985-a8b4-4a0a-b8df-c5dcf87dc471\"\n",
       "        },\n",
       "        {\n",
       "            \"@id\": \"urn:uuid:66aebd96-4b31-411f-9932-be25a7259876\",\n",
       "            \"@type\": \"http://www.streamreasoning.org/ontologies/2018/9/colors#Green\",\n",
       "            \"from\": \"http://jasper:8181/a8f7e759-85ef-4976-8c10-bdcaa3693291\"\n",
       "        },\n",
       "        {\n",
       "            \"@id\": \"urn:uuid:82f7d4be-076a-43bc-83a6-f2f7098e9d7f\",\n",
       "            \"@type\": \"http://www.streamreasoning.org/ontologies/2018/9/colors#Green\",\n",
       "            \"from\": \"http://jasper:8181/40b0743f-bf98-43b4-b7ed-61b2aa79a9ed\"\n",
       "        },\n",
       "        {\n",
       "            \"@id\": \"urn:uuid:9293a224-c95a-4c27-8257-2c3a46d16388\",\n",
       "            \"@type\": \"http://www.streamreasoning.org/ontologies/2018/9/colors#Green\",\n",
       "            \"from\": \"http://jasper:8181/6b5e7478-580c-46db-873b-4aacbabe563b\"\n",
       "        },\n",
       "        {\n",
       "            \"@id\": \"urn:uuid:9453de5e-24c6-4bc7-b8c0-a4fc05fc8061\",\n",
       "            \"@type\": \"http://www.streamreasoning.org/ontologies/2018/9/colors#Green\",\n",
       "            \"from\": \"http://jasper:8181/f5abd2b6-8cca-4378-a708-dbe5e2d8f954\"\n",
       "        },\n",
       "        {\n",
       "            \"@id\": \"urn:uuid:a169341d-dec2-4734-9866-16a6626f04c1\",\n",
       "            \"@type\": \"http://www.streamreasoning.org/ontologies/2018/9/colors#Green\",\n",
       "            \"from\": \"http://jasper:8181/976a8558-2a3f-4c35-b0d5-56cbc1522890\"\n",
       "        },\n",
       "        {\n",
       "            \"@id\": \"urn:uuid:be4bda3d-f8e4-4021-b185-65f86a2fa0d6\",\n",
       "            \"@type\": \"http://www.streamreasoning.org/ontologies/2018/9/colors#Green\",\n",
       "            \"from\": \"http://jasper:8181/c835bd01-1af1-46ec-93f3-c2f70dc20ca7\"\n",
       "        },\n",
       "        {\n",
       "            \"@id\": \"urn:uuid:ec346d13-4131-4f75-b6b9-62542a80e5aa\",\n",
       "            \"@type\": \"http://www.streamreasoning.org/ontologies/2018/9/colors#Green\",\n",
       "            \"from\": \"http://jasper:8181/fcf1a8e5-f8ee-4fad-9b78-f856207f99b0\"\n",
       "        },\n",
       "        {\n",
       "            \"@id\": \"urn:uuid:f00f30c7-6048-4b0f-b1fd-da55707a9767\",\n",
       "            \"@type\": \"http://www.streamreasoning.org/ontologies/2018/9/colors#Green\",\n",
       "            \"from\": \"http://jasper:8181/0b6551e1-11c0-4590-ba94-29dc476041d5\"\n",
       "        },\n",
       "        {\n",
       "            \"@id\": \"urn:uuid:f7b3fb3c-a58d-44fb-9f98-34f2ab84024b\",\n",
       "            \"@type\": \"http://www.streamreasoning.org/ontologies/2018/9/colors#Green\",\n",
       "            \"from\": \"http://jasper:8181/ae593d8a-6a1e-40e1-ab19-9124d0367695\"\n",
       "        }\n",
       "    ],\n",
       "    \"@context\": {\n",
       "        \"from\": {\n",
       "            \"@id\": \"http://www.streamreasoning.org/ontologies/2018/9/colors#from\",\n",
       "            \"@type\": \"@id\"\n",
       "        }\n",
       "    }\n",
       "}"
      ]
     },
     "execution_count": 13,
     "metadata": {},
     "output_type": "execute_result"
    }
   ],
   "source": [
    "output = response.endpoints()[0].call()\n",
    "output"
   ]
  },
  {
   "cell_type": "code",
   "execution_count": 14,
   "metadata": {},
   "outputs": [
    {
     "data": {
      "text/plain": [
       "{\n",
       "    \"@id\": \"queries/green\",\n",
       "    \"@type\": \"vprov:Task\",\n",
       "    \"prov:generated\": {\n",
       "        \"@id\": \"streams/green\"\n",
       "    },\n",
       "    \"prov:uses\": {\n",
       "        \"@id\": \"http://colorstream:8080/colors\"\n",
       "    },\n",
       "    \"@context\": {\n",
       "        \"@base\": \"http://jasper:8181/jasper/\",\n",
       "        \"rdf\": \"http://www.w3.org/1999/02/22-rdf-syntax-ns#\",\n",
       "        \"vsd\": \"http://w3id.org/rsp/vocals-sd#\",\n",
       "        \"vocals\": \"http://w3id.org/rsp/vocals#\",\n",
       "        \"xsd\": \"http://www.w3.org/2001/XMLSchema#\",\n",
       "        \"format\": \"http://www.w3.org/ns/formats/\",\n",
       "        \"rdfs\": \"http://www.w3.org/2000/01/rdf-schema#\",\n",
       "        \"vprov\": \"http://w3id.org/rsp/vocals-prov#\",\n",
       "        \"dcat\": \"http://www.w3.org/ns/dcat#\",\n",
       "        \"prov\": \"http://www.w3.org/ns/prov#\"\n",
       "    }\n",
       "}"
      ]
     },
     "execution_count": 14,
     "metadata": {},
     "output_type": "execute_result"
    }
   ],
   "source": [
    "jasper.delete(qid)"
   ]
  },
  {
   "cell_type": "code",
   "execution_count": null,
   "metadata": {},
   "outputs": [],
   "source": []
  }
 ],
 "metadata": {
  "kernelspec": {
   "display_name": "Python 3",
   "language": "python",
   "name": "python3"
  },
  "language_info": {
   "codemirror_mode": {
    "name": "ipython",
    "version": 3
   },
   "file_extension": ".py",
   "mimetype": "text/x-python",
   "name": "python",
   "nbconvert_exporter": "python",
   "pygments_lexer": "ipython3",
   "version": "3.6.7"
  }
 },
 "nbformat": 4,
 "nbformat_minor": 2
}
