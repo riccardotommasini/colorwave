{
 "cells": [
  {
   "cell_type": "markdown",
   "metadata": {},
   "source": [
    "# Colorstream\n",
    "## Counting blue occurrences"
   ]
  },
  {
   "cell_type": "markdown",
   "metadata": {},
   "source": [
    "### Import rsplib and initialize the RSPEngine"
   ]
  },
  {
   "cell_type": "code",
   "execution_count": 1,
   "metadata": {},
   "outputs": [],
   "source": [
    "from rsplib import RSPEngine"
   ]
  },
  {
   "cell_type": "code",
   "execution_count": 2,
   "metadata": {},
   "outputs": [],
   "source": [
    "jasper = RSPEngine(\"http://jasper:8181/jasper\")"
   ]
  },
  {
   "cell_type": "code",
   "execution_count": 3,
   "metadata": {},
   "outputs": [
    {
     "data": {
      "text/plain": [
       "[]"
      ]
     },
     "execution_count": 3,
     "metadata": {},
     "output_type": "execute_result"
    }
   ],
   "source": [
    "jasper.streams()"
   ]
  },
  {
   "cell_type": "markdown",
   "metadata": {},
   "source": [
    "### Define the query, specifing the query id, the t-box and the body of the query"
   ]
  },
  {
   "cell_type": "code",
   "execution_count": 4,
   "metadata": {},
   "outputs": [],
   "source": [
    "qid  = 'bluecount'"
   ]
  },
  {
   "cell_type": "code",
   "execution_count": 5,
   "metadata": {},
   "outputs": [],
   "source": [
    "tbox = 'https://linkeddata.stream/ontologies/colors.owl'"
   ]
  },
  {
   "cell_type": "code",
   "execution_count": 6,
   "metadata": {},
   "outputs": [],
   "source": [
    "body ='''\n",
    "SELECT (COUNT(?b) as ?blueCount)\n",
    "FROM NAMED WINDOW <bw> ON <http://streamhub:9292/streamhub/streams/colorstream> [RANGE PT15S STEP PT5S]\n",
    "WHERE {\n",
    "    WINDOW ?bw { ?b a <http://www.streamreasoning.org/ontologies/2018/9/colors#Blue> .}\n",
    "}\n",
    "'''"
   ]
  },
  {
   "cell_type": "code",
   "execution_count": 7,
   "metadata": {},
   "outputs": [],
   "source": [
    "frmt = 'JSON'"
   ]
  },
  {
   "cell_type": "markdown",
   "metadata": {},
   "source": [
    "### Register the query into jasper"
   ]
  },
  {
   "cell_type": "code",
   "execution_count": 8,
   "metadata": {},
   "outputs": [],
   "source": [
    "bluecount_query = jasper.create(qid, body, tbox, frmt)"
   ]
  },
  {
   "cell_type": "code",
   "execution_count": 9,
   "metadata": {},
   "outputs": [
    {
     "data": {
      "text/plain": [
       "[GET http://streamhub:9292/streamhub/streams/colorstream]"
      ]
     },
     "execution_count": 9,
     "metadata": {},
     "output_type": "execute_result"
    }
   ],
   "source": [
    "bluecount_query.sources()"
   ]
  },
  {
   "cell_type": "markdown",
   "metadata": {},
   "source": [
    "### The stream has no endpoint. "
   ]
  },
  {
   "cell_type": "code",
   "execution_count": 10,
   "metadata": {},
   "outputs": [
    {
     "data": {
      "text/plain": [
       "[]"
      ]
     },
     "execution_count": 10,
     "metadata": {},
     "output_type": "execute_result"
    }
   ],
   "source": [
    "bluecount_stream = bluecount_query.stream()\n",
    "bluecount_stream.endpoints()"
   ]
  },
  {
   "cell_type": "markdown",
   "metadata": {},
   "source": [
    "### Create a stream endpoint"
   ]
  },
  {
   "cell_type": "code",
   "execution_count": 11,
   "metadata": {},
   "outputs": [],
   "source": [
    "response = jasper.expose(qid, 'HTTP', retention=5)"
   ]
  },
  {
   "cell_type": "code",
   "execution_count": 12,
   "metadata": {},
   "outputs": [
    {
     "data": {
      "text/plain": [
       "[http://streamhub:9292/streamhub/streams/colorstream,\n",
       " http://jasper:8181/jasper/streams/bluecount]"
      ]
     },
     "execution_count": 12,
     "metadata": {},
     "output_type": "execute_result"
    }
   ],
   "source": [
    "jasper.streams()"
   ]
  },
  {
   "cell_type": "markdown",
   "metadata": {},
   "source": [
    "### Inspect and call the response endpoints"
   ]
  },
  {
   "cell_type": "code",
   "execution_count": 13,
   "metadata": {},
   "outputs": [
    {
     "data": {
      "text/plain": [
       "[GET http://jasper:8182/jasper/streams/bluecount/observers/1363234447]"
      ]
     },
     "execution_count": 13,
     "metadata": {},
     "output_type": "execute_result"
    }
   ],
   "source": [
    "response.endpoints()"
   ]
  },
  {
   "cell_type": "code",
   "execution_count": 14,
   "metadata": {},
   "outputs": [
    {
     "data": {
      "text/plain": [
       "[\n",
       "    {\n",
       "        \"head\": {\n",
       "            \"vars\": [\n",
       "                \"blueCount\"\n",
       "            ]\n",
       "        },\n",
       "        \"results\": {\n",
       "            \"bindings\": [\n",
       "                {\n",
       "                    \"blueCount\": {\n",
       "                        \"type\": \"literal\",\n",
       "                        \"datatype\": \"http://www.w3.org/2001/XMLSchema#integer\",\n",
       "                        \"value\": \"12\"\n",
       "                    }\n",
       "                }\n",
       "            ]\n",
       "        }\n",
       "    },\n",
       "    {\n",
       "        \"head\": {\n",
       "            \"vars\": [\n",
       "                \"blueCount\"\n",
       "            ]\n",
       "        },\n",
       "        \"results\": {\n",
       "            \"bindings\": [\n",
       "                {\n",
       "                    \"blueCount\": {\n",
       "                        \"type\": \"literal\",\n",
       "                        \"datatype\": \"http://www.w3.org/2001/XMLSchema#integer\",\n",
       "                        \"value\": \"16\"\n",
       "                    }\n",
       "                }\n",
       "            ]\n",
       "        }\n",
       "    },\n",
       "    {\n",
       "        \"head\": {\n",
       "            \"vars\": [\n",
       "                \"blueCount\"\n",
       "            ]\n",
       "        },\n",
       "        \"results\": {\n",
       "            \"bindings\": [\n",
       "                {\n",
       "                    \"blueCount\": {\n",
       "                        \"type\": \"literal\",\n",
       "                        \"datatype\": \"http://www.w3.org/2001/XMLSchema#integer\",\n",
       "                        \"value\": \"17\"\n",
       "                    }\n",
       "                }\n",
       "            ]\n",
       "        }\n",
       "    },\n",
       "    {\n",
       "        \"head\": {\n",
       "            \"vars\": [\n",
       "                \"blueCount\"\n",
       "            ]\n",
       "        },\n",
       "        \"results\": {\n",
       "            \"bindings\": [\n",
       "                {\n",
       "                    \"blueCount\": {\n",
       "                        \"type\": \"literal\",\n",
       "                        \"datatype\": \"http://www.w3.org/2001/XMLSchema#integer\",\n",
       "                        \"value\": \"18\"\n",
       "                    }\n",
       "                }\n",
       "            ]\n",
       "        }\n",
       "    }\n",
       "]"
      ]
     },
     "execution_count": 14,
     "metadata": {},
     "output_type": "execute_result"
    }
   ],
   "source": [
    "from time import sleep\n",
    "# just wait for few windows to be evaluated\n",
    "sleep(10)\n",
    "\n",
    "output = response.endpoints()[0].call()\n",
    "output"
   ]
  },
  {
   "cell_type": "code",
   "execution_count": 15,
   "metadata": {},
   "outputs": [
    {
     "data": {
      "text/html": [
       "<div>\n",
       "<style scoped>\n",
       "    .dataframe tbody tr th:only-of-type {\n",
       "        vertical-align: middle;\n",
       "    }\n",
       "\n",
       "    .dataframe tbody tr th {\n",
       "        vertical-align: top;\n",
       "    }\n",
       "\n",
       "    .dataframe thead th {\n",
       "        text-align: right;\n",
       "    }\n",
       "</style>\n",
       "<table border=\"1\" class=\"dataframe\">\n",
       "  <thead>\n",
       "    <tr style=\"text-align: right;\">\n",
       "      <th></th>\n",
       "      <th>results_bindings_0_blueCount_value</th>\n",
       "    </tr>\n",
       "  </thead>\n",
       "  <tbody>\n",
       "    <tr>\n",
       "      <th>0</th>\n",
       "      <td>12</td>\n",
       "    </tr>\n",
       "    <tr>\n",
       "      <th>1</th>\n",
       "      <td>16</td>\n",
       "    </tr>\n",
       "    <tr>\n",
       "      <th>2</th>\n",
       "      <td>17</td>\n",
       "    </tr>\n",
       "    <tr>\n",
       "      <th>3</th>\n",
       "      <td>18</td>\n",
       "    </tr>\n",
       "  </tbody>\n",
       "</table>\n",
       "</div>"
      ],
      "text/plain": [
       "   results_bindings_0_blueCount_value\n",
       "0                                  12\n",
       "1                                  16\n",
       "2                                  17\n",
       "3                                  18"
      ]
     },
     "execution_count": 15,
     "metadata": {},
     "output_type": "execute_result"
    }
   ],
   "source": [
    "output_df = output.flatten().dataframe()[['results_bindings_0_blueCount_value']]\n",
    "output_df = output_df.astype({'results_bindings_0_blueCount_value': 'int32'})\n",
    "output_df"
   ]
  },
  {
   "cell_type": "code",
   "execution_count": 16,
   "metadata": {},
   "outputs": [
    {
     "data": {
      "image/png": "[encoded data removed]",
      "text/plain": [
       "<Figure size 432x288 with 1 Axes>"
      ]
     },
     "metadata": {
      "needs_background": "light"
     },
     "output_type": "display_data"
    }
   ],
   "source": [
    "%matplotlib inline\n",
    "output_df.plot(kind='bar');"
   ]
  },
  {
   "cell_type": "code",
   "execution_count": 17,
   "metadata": {},
   "outputs": [
    {
     "data": {
      "text/plain": [
       "{\n",
       "    \"@id\": \"queries/bluecount\",\n",
       "    \"@type\": \"vprov:Task\",\n",
       "    \"prov:generated\": {\n",
       "        \"@id\": \"streams/bluecount\"\n",
       "    },\n",
       "    \"prov:uses\": {\n",
       "        \"@id\": \"http://streamhub:9292/streamhub/streams/colorstream\"\n",
       "    },\n",
       "    \"@context\": {\n",
       "        \"@base\": \"http://jasper:8181/jasper/\",\n",
       "        \"rdf\": \"http://www.w3.org/1999/02/22-rdf-syntax-ns#\",\n",
       "        \"vsd\": \"http://w3id.org/rsp/vocals-sd#\",\n",
       "        \"vocals\": \"http://w3id.org/rsp/vocals#\",\n",
       "        \"xsd\": \"http://www.w3.org/2001/XMLSchema#\",\n",
       "        \"format\": \"http://www.w3.org/ns/formats/\",\n",
       "        \"rdfs\": \"http://www.w3.org/2000/01/rdf-schema#\",\n",
       "        \"vprov\": \"http://w3id.org/rsp/vocals-prov#\",\n",
       "        \"dcat\": \"http://www.w3.org/ns/dcat#\",\n",
       "        \"prov\": \"http://www.w3.org/ns/prov#\"\n",
       "    }\n",
       "}"
      ]
     },
     "execution_count": 17,
     "metadata": {},
     "output_type": "execute_result"
    }
   ],
   "source": [
    "jasper.delete(qid)"
   ]
  },
  {
   "cell_type": "code",
   "execution_count": null,
   "metadata": {},
   "outputs": [],
   "source": []
  }
 ],
 "metadata": {
  "kernelspec": {
   "display_name": "Python 3",
   "language": "python",
   "name": "python3"
  },
  "language_info": {
   "codemirror_mode": {
    "name": "ipython",
    "version": 3
   },
   "file_extension": ".py",
   "mimetype": "text/x-python",
   "name": "python",
   "nbconvert_exporter": "python",
   "pygments_lexer": "ipython3",
   "version": "3.6.7"
  }
 },
 "nbformat": 4,
 "nbformat_minor": 2
}
