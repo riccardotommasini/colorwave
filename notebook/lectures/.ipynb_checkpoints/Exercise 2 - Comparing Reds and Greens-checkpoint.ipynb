{
 "cells": [
  {
   "cell_type": "code",
   "execution_count": 22,
   "metadata": {},
   "outputs": [],
   "source": [
    "from rsplib import RSPEngine, RSPPublisher, Stream, rdf_table,load_graph, accessURL"
   ]
  },
  {
   "cell_type": "code",
   "execution_count": 23,
   "metadata": {},
   "outputs": [],
   "source": [
    "jasper = RSPEngine(\"http://jasper:8181/jasper\")"
   ]
  },
  {
   "cell_type": "code",
   "execution_count": 24,
   "metadata": {},
   "outputs": [
    {
     "data": {
      "text/plain": [
       "[http://redstream:1255/red,\n",
       " http://greenstream:2255/green,\n",
       " http://jasper:8181/jasper/streams/redcount,\n",
       " http://jasper:8181/jasper/streams/redgreen]"
      ]
     },
     "execution_count": 24,
     "metadata": {},
     "output_type": "execute_result"
    }
   ],
   "source": [
    "jasper.streams()"
   ]
  },
  {
   "cell_type": "code",
   "execution_count": 4,
   "metadata": {},
   "outputs": [
    {
     "data": {
      "text/plain": [
       "[<rsplib.rsp.Task at 0x7f7343ad0e80>]"
      ]
     },
     "execution_count": 4,
     "metadata": {},
     "output_type": "execute_result"
    }
   ],
   "source": [
    "jasper.tasks()"
   ]
  },
  {
   "cell_type": "code",
   "execution_count": 5,
   "metadata": {},
   "outputs": [],
   "source": [
    "qid = 'redgreen'\n",
    "tbox = 'https://raw.githubusercontent.com/riccardotommasini/colorwave/master/colors.owl'\n",
    "frmt = 'JSON'\n",
    "body = '''\n",
    "    \n",
    "SELECT (COUNT(?r) AS ?cntr) (count(?g) AS ?cntg) ((?cntr>?cntg) as ?moreRedsThanGreens)\n",
    "FROM NAMED WINDOW <rw> ON <http://redstream:1255/red> [RANGE PT15S STEP PT5S]\n",
    "FROM NAMED WINDOW <gw> ON <http://greenstream:2255/green> [RANGE PT15S STEP PT5S]\n",
    "WHERE {\n",
    "    { WINDOW <rw> { ?r a <http://www.streamreasoning.org/ontologies/2018/9/colors#Red> .} }\n",
    "    UNION \n",
    "    { WINDOW <gw> { ?g a <http://www.streamreasoning.org/ontologies/2018/9/colors#Green> .} }\n",
    "}\n",
    "\n",
    "    '''"
   ]
  },
  {
   "cell_type": "code",
   "execution_count": 6,
   "metadata": {},
   "outputs": [
    {
     "data": {
      "text/html": [
       "<div id=\"247b87e8-a1a1-405f-bafc-e6f6c2e7c085\" style=\"height: 150px; width:100%;\"></div>"
      ]
     },
     "metadata": {},
     "output_type": "display_data"
    },
    {
     "data": {
      "application/javascript": [
       "\n",
       "        require([\"https://cdn.jsdelivr.net/gh/caldwell/renderjson/renderjson.js\"], function() {\n",
       "          document.getElementById('247b87e8-a1a1-405f-bafc-e6f6c2e7c085').appendChild(renderjson([\n",
       "  {\n",
       "    \"@id\": \"http://jasper:8181/jasper/queries/redgreen\",\n",
       "    \"@type\": [\n",
       "      \"http://w3id.org/rsp/vocals-prov#Task\"\n",
       "    ],\n",
       "    \"http://www.w3.org/ns/prov#generated\": [\n",
       "      {\n",
       "        \"@id\": \"http://jasper:8181/jasper/streams/redgreen\"\n",
       "      }\n",
       "    ],\n",
       "    \"http://www.w3.org/ns/prov#uses\": [\n",
       "      {\n",
       "        \"@id\": \"http://greenstream:2255/green\"\n",
       "      }\n",
       "    ]\n",
       "  }\n",
       "]))\n",
       "        });\n",
       "        "
      ]
     },
     "metadata": {},
     "output_type": "display_data"
    }
   ],
   "source": [
    "jasper.create(qid, body, tbox, frmt)"
   ]
  },
  {
   "cell_type": "code",
   "execution_count": 25,
   "metadata": {},
   "outputs": [
    {
     "data": {
      "text/plain": [
       "[http://redstream:1255/red,\n",
       " http://greenstream:2255/green,\n",
       " http://jasper:8181/jasper/streams/redcount,\n",
       " http://jasper:8181/jasper/streams/redgreen]"
      ]
     },
     "execution_count": 25,
     "metadata": {},
     "output_type": "execute_result"
    }
   ],
   "source": [
    "jasper.streams()"
   ]
  },
  {
   "cell_type": "code",
   "execution_count": 26,
   "metadata": {},
   "outputs": [],
   "source": [
    "redgreen = jasper.streams()[3]"
   ]
  },
  {
   "cell_type": "code",
   "execution_count": 10,
   "metadata": {},
   "outputs": [],
   "source": [
    "r = jasper.expose(qid, 'HTTP', retention=5)"
   ]
  },
  {
   "cell_type": "code",
   "execution_count": 27,
   "metadata": {},
   "outputs": [
    {
     "data": {
      "text/html": [
       "<div id=\"5db8db11-0e3f-4912-84ce-74cd84d2f165\" style=\"height: 150px; width:100%;\"></div>"
      ]
     },
     "metadata": {},
     "output_type": "display_data"
    },
    {
     "data": {
      "application/javascript": [
       "\n",
       "        require([\"https://cdn.jsdelivr.net/gh/caldwell/renderjson/renderjson.js\"], function() {\n",
       "          document.getElementById('5db8db11-0e3f-4912-84ce-74cd84d2f165').appendChild(renderjson([\n",
       "  {\n",
       "    \"@id\": \"_:Na0e08a3f6a9f46dc8be1059d92d5b9f4\",\n",
       "    \"@type\": [\n",
       "      \"vocals:StreamDescriptor\"\n",
       "    ],\n",
       "    \"dcat:dataset\": [\n",
       "      {\n",
       "        \"@id\": \"http://jasper:8181/jasper/streams/redgreen\"\n",
       "      }\n",
       "    ]\n",
       "  },\n",
       "  {\n",
       "    \"@id\": \"http://jasper:8181/jasper/streams/redgreen\",\n",
       "    \"@type\": [\n",
       "      \"vocals:RDFStream\"\n",
       "    ],\n",
       "    \"vocals:hasEndpoint\": [\n",
       "      {\n",
       "        \"@id\": \"_:N2abb8ffa1d8c45a7be6bfcd977d06ef2\"\n",
       "      },\n",
       "      {\n",
       "        \"@id\": \"_:N08580f20ecd7494f8cc9b9563a04dcf5\"\n",
       "      }\n",
       "    ]\n",
       "  },\n",
       "  {\n",
       "    \"@id\": \"_:N2abb8ffa1d8c45a7be6bfcd977d06ef2\",\n",
       "    \"@type\": [\n",
       "      \"vocals:StreamEndpoint\"\n",
       "    ],\n",
       "    \"dcat:accessURL\": [\n",
       "      {\n",
       "        \"@value\": \"http://jasper:8183/jasper/streams/redgreen/observers/778118921\"\n",
       "      }\n",
       "    ]\n",
       "  },\n",
       "  {\n",
       "    \"@id\": \"_:N08580f20ecd7494f8cc9b9563a04dcf5\",\n",
       "    \"@type\": [\n",
       "      \"vocals:StreamEndpoint\"\n",
       "    ],\n",
       "    \"dcat:accessURL\": [\n",
       "      {\n",
       "        \"@value\": \"http://jasper:8183/jasper/streams/redgreen/observers/778118921\"\n",
       "      }\n",
       "    ]\n",
       "  }\n",
       "]))\n",
       "        });\n",
       "        "
      ]
     },
     "metadata": {},
     "output_type": "display_data"
    }
   ],
   "source": [
    "r"
   ]
  },
  {
   "cell_type": "code",
   "execution_count": 28,
   "metadata": {},
   "outputs": [
    {
     "data": {
      "text/html": [
       "<div id=\"cc531246-d673-4d3c-ab2a-566dcb5bf526\" style=\"height: 150px; width:100%;\"></div>"
      ]
     },
     "metadata": {},
     "output_type": "display_data"
    },
    {
     "data": {
      "application/javascript": [
       "\n",
       "        require([\"https://cdn.jsdelivr.net/gh/caldwell/renderjson/renderjson.js\"], function() {\n",
       "          document.getElementById('cc531246-d673-4d3c-ab2a-566dcb5bf526').appendChild(renderjson([\n",
       "  {\n",
       "    \"@id\": \"_:N935cc3d8690244f5b54e90649c9b6d01\",\n",
       "    \"@type\": [\n",
       "      \"vocals:StreamDescriptor\"\n",
       "    ],\n",
       "    \"dcat:dataset\": [\n",
       "      {\n",
       "        \"@id\": \"http://jasper:8181/jasper/streams/redgreen\"\n",
       "      }\n",
       "    ]\n",
       "  },\n",
       "  {\n",
       "    \"@id\": \"http://jasper:8181/jasper/streams/redgreen\",\n",
       "    \"@type\": [\n",
       "      \"vocals:RDFStream\"\n",
       "    ],\n",
       "    \"vocals:hasEndpoint\": [\n",
       "      {\n",
       "        \"@id\": \"_:Nb635ec4de2884f14bf6ee8a6759c269d\"\n",
       "      },\n",
       "      {\n",
       "        \"@id\": \"_:Ncf259cb18539446a8a23cc1271c1c248\"\n",
       "      }\n",
       "    ]\n",
       "  },\n",
       "  {\n",
       "    \"@id\": \"_:Nb635ec4de2884f14bf6ee8a6759c269d\",\n",
       "    \"@type\": [\n",
       "      \"vocals:StreamEndpoint\"\n",
       "    ],\n",
       "    \"dcat:accessURL\": [\n",
       "      {\n",
       "        \"@value\": \"http://jasper:8183/jasper/streams/redgreen/observers/778118921\"\n",
       "      }\n",
       "    ]\n",
       "  },\n",
       "  {\n",
       "    \"@id\": \"_:Ncf259cb18539446a8a23cc1271c1c248\",\n",
       "    \"@type\": [\n",
       "      \"vocals:StreamEndpoint\"\n",
       "    ],\n",
       "    \"dcat:accessURL\": [\n",
       "      {\n",
       "        \"@value\": \"http://jasper:8183/jasper/streams/redgreen/observers/778118921\"\n",
       "      }\n",
       "    ]\n",
       "  }\n",
       "]))\n",
       "        });\n",
       "        "
      ]
     },
     "metadata": {},
     "output_type": "display_data"
    }
   ],
   "source": [
    "redgreen"
   ]
  },
  {
   "cell_type": "code",
   "execution_count": 29,
   "metadata": {},
   "outputs": [
    {
     "data": {
      "text/plain": [
       "[GET http://jasper:8183/jasper/streams/redgreen/observers/778118921]"
      ]
     },
     "execution_count": 29,
     "metadata": {},
     "output_type": "execute_result"
    }
   ],
   "source": [
    "redgreen.endpoints()\n"
   ]
  },
  {
   "cell_type": "code",
   "execution_count": 30,
   "metadata": {},
   "outputs": [],
   "source": [
    "endpoint = redgreen.endpoints()[0]"
   ]
  },
  {
   "cell_type": "code",
   "execution_count": 31,
   "metadata": {},
   "outputs": [],
   "source": [
    "resp = endpoint.call()"
   ]
  },
  {
   "cell_type": "code",
   "execution_count": 32,
   "metadata": {},
   "outputs": [
    {
     "data": {
      "text/html": [
       "<div id=\"ed9217c7-7d83-4682-9a9f-4805aa7db6d9\" style=\"height: 150px; width:100%;\"></div>"
      ]
     },
     "metadata": {},
     "output_type": "display_data"
    },
    {
     "data": {
      "application/javascript": [
       "\n",
       "        require([\"https://cdn.jsdelivr.net/gh/caldwell/renderjson/renderjson.js\"], function() {\n",
       "          document.getElementById('ed9217c7-7d83-4682-9a9f-4805aa7db6d9').appendChild(renderjson([{\"head\": {\"vars\": [\"cntr\", \"cntg\", \"moreRedsThanGreens\"]}, \"results\": {\"bindings\": [{\"cntr\": {\"type\": \"literal\", \"datatype\": \"http://www.w3.org/2001/XMLSchema#integer\", \"value\": \"2\"}, \"cntg\": {\"type\": \"literal\", \"datatype\": \"http://www.w3.org/2001/XMLSchema#integer\", \"value\": \"5\"}, \"moreRedsThanGreens\": {\"type\": \"literal\", \"datatype\": \"http://www.w3.org/2001/XMLSchema#boolean\", \"value\": \"false\"}}]}}, {\"head\": {\"vars\": [\"cntr\", \"cntg\", \"moreRedsThanGreens\"]}, \"results\": {\"bindings\": [{\"cntr\": {\"type\": \"literal\", \"datatype\": \"http://www.w3.org/2001/XMLSchema#integer\", \"value\": \"3\"}, \"cntg\": {\"type\": \"literal\", \"datatype\": \"http://www.w3.org/2001/XMLSchema#integer\", \"value\": \"3\"}, \"moreRedsThanGreens\": {\"type\": \"literal\", \"datatype\": \"http://www.w3.org/2001/XMLSchema#boolean\", \"value\": \"false\"}}]}}, {\"head\": {\"vars\": [\"cntr\", \"cntg\", \"moreRedsThanGreens\"]}, \"results\": {\"bindings\": [{\"cntr\": {\"type\": \"literal\", \"datatype\": \"http://www.w3.org/2001/XMLSchema#integer\", \"value\": \"2\"}, \"cntg\": {\"type\": \"literal\", \"datatype\": \"http://www.w3.org/2001/XMLSchema#integer\", \"value\": \"3\"}, \"moreRedsThanGreens\": {\"type\": \"literal\", \"datatype\": \"http://www.w3.org/2001/XMLSchema#boolean\", \"value\": \"false\"}}]}}, {\"head\": {\"vars\": [\"cntr\", \"cntg\", \"moreRedsThanGreens\"]}, \"results\": {\"bindings\": [{\"cntr\": {\"type\": \"literal\", \"datatype\": \"http://www.w3.org/2001/XMLSchema#integer\", \"value\": \"5\"}, \"cntg\": {\"type\": \"literal\", \"datatype\": \"http://www.w3.org/2001/XMLSchema#integer\", \"value\": \"3\"}, \"moreRedsThanGreens\": {\"type\": \"literal\", \"datatype\": \"http://www.w3.org/2001/XMLSchema#boolean\", \"value\": \"true\"}}]}}, {\"head\": {\"vars\": [\"cntr\", \"cntg\", \"moreRedsThanGreens\"]}, \"results\": {\"bindings\": [{\"cntr\": {\"type\": \"literal\", \"datatype\": \"http://www.w3.org/2001/XMLSchema#integer\", \"value\": \"5\"}, \"cntg\": {\"type\": \"literal\", \"datatype\": \"http://www.w3.org/2001/XMLSchema#integer\", \"value\": \"2\"}, \"moreRedsThanGreens\": {\"type\": \"literal\", \"datatype\": \"http://www.w3.org/2001/XMLSchema#boolean\", \"value\": \"true\"}}]}}]))\n",
       "        });\n",
       "        "
      ]
     },
     "metadata": {},
     "output_type": "display_data"
    }
   ],
   "source": [
    "resp"
   ]
  },
  {
   "cell_type": "code",
   "execution_count": 33,
   "metadata": {},
   "outputs": [
    {
     "data": {
      "text/html": [
       "<div>\n",
       "<table border=\"1\" class=\"dataframe\">\n",
       "  <thead>\n",
       "    <tr style=\"text-align: right;\">\n",
       "      <th></th>\n",
       "      <th>head_vars_0</th>\n",
       "      <th>head_vars_1</th>\n",
       "      <th>head_vars_2</th>\n",
       "      <th>results_bindings_0_cntg_datatype</th>\n",
       "      <th>results_bindings_0_cntg_type</th>\n",
       "      <th>results_bindings_0_cntg_value</th>\n",
       "      <th>results_bindings_0_cntr_datatype</th>\n",
       "      <th>results_bindings_0_cntr_type</th>\n",
       "      <th>results_bindings_0_cntr_value</th>\n",
       "      <th>results_bindings_0_moreRedsThanGreens_datatype</th>\n",
       "      <th>results_bindings_0_moreRedsThanGreens_type</th>\n",
       "      <th>results_bindings_0_moreRedsThanGreens_value</th>\n",
       "    </tr>\n",
       "  </thead>\n",
       "  <tbody>\n",
       "    <tr>\n",
       "      <th>0</th>\n",
       "      <td>cntr</td>\n",
       "      <td>cntg</td>\n",
       "      <td>moreRedsThanGreens</td>\n",
       "      <td>http://www.w3.org/2001/XMLSchema#integer</td>\n",
       "      <td>literal</td>\n",
       "      <td>5</td>\n",
       "      <td>http://www.w3.org/2001/XMLSchema#integer</td>\n",
       "      <td>literal</td>\n",
       "      <td>2</td>\n",
       "      <td>http://www.w3.org/2001/XMLSchema#boolean</td>\n",
       "      <td>literal</td>\n",
       "      <td>false</td>\n",
       "    </tr>\n",
       "    <tr>\n",
       "      <th>1</th>\n",
       "      <td>cntr</td>\n",
       "      <td>cntg</td>\n",
       "      <td>moreRedsThanGreens</td>\n",
       "      <td>http://www.w3.org/2001/XMLSchema#integer</td>\n",
       "      <td>literal</td>\n",
       "      <td>3</td>\n",
       "      <td>http://www.w3.org/2001/XMLSchema#integer</td>\n",
       "      <td>literal</td>\n",
       "      <td>3</td>\n",
       "      <td>http://www.w3.org/2001/XMLSchema#boolean</td>\n",
       "      <td>literal</td>\n",
       "      <td>false</td>\n",
       "    </tr>\n",
       "    <tr>\n",
       "      <th>2</th>\n",
       "      <td>cntr</td>\n",
       "      <td>cntg</td>\n",
       "      <td>moreRedsThanGreens</td>\n",
       "      <td>http://www.w3.org/2001/XMLSchema#integer</td>\n",
       "      <td>literal</td>\n",
       "      <td>3</td>\n",
       "      <td>http://www.w3.org/2001/XMLSchema#integer</td>\n",
       "      <td>literal</td>\n",
       "      <td>2</td>\n",
       "      <td>http://www.w3.org/2001/XMLSchema#boolean</td>\n",
       "      <td>literal</td>\n",
       "      <td>false</td>\n",
       "    </tr>\n",
       "    <tr>\n",
       "      <th>3</th>\n",
       "      <td>cntr</td>\n",
       "      <td>cntg</td>\n",
       "      <td>moreRedsThanGreens</td>\n",
       "      <td>http://www.w3.org/2001/XMLSchema#integer</td>\n",
       "      <td>literal</td>\n",
       "      <td>3</td>\n",
       "      <td>http://www.w3.org/2001/XMLSchema#integer</td>\n",
       "      <td>literal</td>\n",
       "      <td>5</td>\n",
       "      <td>http://www.w3.org/2001/XMLSchema#boolean</td>\n",
       "      <td>literal</td>\n",
       "      <td>true</td>\n",
       "    </tr>\n",
       "    <tr>\n",
       "      <th>4</th>\n",
       "      <td>cntr</td>\n",
       "      <td>cntg</td>\n",
       "      <td>moreRedsThanGreens</td>\n",
       "      <td>http://www.w3.org/2001/XMLSchema#integer</td>\n",
       "      <td>literal</td>\n",
       "      <td>2</td>\n",
       "      <td>http://www.w3.org/2001/XMLSchema#integer</td>\n",
       "      <td>literal</td>\n",
       "      <td>5</td>\n",
       "      <td>http://www.w3.org/2001/XMLSchema#boolean</td>\n",
       "      <td>literal</td>\n",
       "      <td>true</td>\n",
       "    </tr>\n",
       "  </tbody>\n",
       "</table>\n",
       "</div>"
      ],
      "text/plain": [
       "  head_vars_0 head_vars_1         head_vars_2  \\\n",
       "0        cntr        cntg  moreRedsThanGreens   \n",
       "1        cntr        cntg  moreRedsThanGreens   \n",
       "2        cntr        cntg  moreRedsThanGreens   \n",
       "3        cntr        cntg  moreRedsThanGreens   \n",
       "4        cntr        cntg  moreRedsThanGreens   \n",
       "\n",
       "           results_bindings_0_cntg_datatype results_bindings_0_cntg_type  \\\n",
       "0  http://www.w3.org/2001/XMLSchema#integer                      literal   \n",
       "1  http://www.w3.org/2001/XMLSchema#integer                      literal   \n",
       "2  http://www.w3.org/2001/XMLSchema#integer                      literal   \n",
       "3  http://www.w3.org/2001/XMLSchema#integer                      literal   \n",
       "4  http://www.w3.org/2001/XMLSchema#integer                      literal   \n",
       "\n",
       "   results_bindings_0_cntg_value          results_bindings_0_cntr_datatype  \\\n",
       "0                              5  http://www.w3.org/2001/XMLSchema#integer   \n",
       "1                              3  http://www.w3.org/2001/XMLSchema#integer   \n",
       "2                              3  http://www.w3.org/2001/XMLSchema#integer   \n",
       "3                              3  http://www.w3.org/2001/XMLSchema#integer   \n",
       "4                              2  http://www.w3.org/2001/XMLSchema#integer   \n",
       "\n",
       "  results_bindings_0_cntr_type  results_bindings_0_cntr_value  \\\n",
       "0                      literal                              2   \n",
       "1                      literal                              3   \n",
       "2                      literal                              2   \n",
       "3                      literal                              5   \n",
       "4                      literal                              5   \n",
       "\n",
       "  results_bindings_0_moreRedsThanGreens_datatype  \\\n",
       "0       http://www.w3.org/2001/XMLSchema#boolean   \n",
       "1       http://www.w3.org/2001/XMLSchema#boolean   \n",
       "2       http://www.w3.org/2001/XMLSchema#boolean   \n",
       "3       http://www.w3.org/2001/XMLSchema#boolean   \n",
       "4       http://www.w3.org/2001/XMLSchema#boolean   \n",
       "\n",
       "  results_bindings_0_moreRedsThanGreens_type  \\\n",
       "0                                    literal   \n",
       "1                                    literal   \n",
       "2                                    literal   \n",
       "3                                    literal   \n",
       "4                                    literal   \n",
       "\n",
       "  results_bindings_0_moreRedsThanGreens_value  \n",
       "0                                       false  \n",
       "1                                       false  \n",
       "2                                       false  \n",
       "3                                        true  \n",
       "4                                        true  "
      ]
     },
     "execution_count": 33,
     "metadata": {},
     "output_type": "execute_result"
    }
   ],
   "source": [
    "df = resp.flatten().dataframe(['results_bindings_0_cntg_value', 'results_bindings_0_cntr_value'])\n",
    "df"
   ]
  },
  {
   "cell_type": "code",
   "execution_count": 34,
   "metadata": {},
   "outputs": [
    {
     "data": {
      "image/png": "[encoded data removed]",
      "text/plain": [
       "<matplotlib.figure.Figure at 0x7f7341879c88>"
      ]
     },
     "metadata": {},
     "output_type": "display_data"
    }
   ],
   "source": [
    "%matplotlib inline\n",
    "import pandas as pd\n",
    "\n",
    "df1 = df[['results_bindings_0_cntg_value','results_bindings_0_cntr_value']]\n",
    "cntg_mean = df1['results_bindings_0_cntg_value'].mean()\n",
    "cntr_mean = df1['results_bindings_0_cntr_value'].mean()\n",
    "\n",
    "df = pd.DataFrame({'means': [cntg_mean, cntr_mean]}, index=['red', 'green'])\n",
    "plot = df.plot.pie(y='means', colors=[\"#e10000\", \"#00e100\"], figsize=(5, 5))"
   ]
  },
  {
   "cell_type": "code",
   "execution_count": null,
   "metadata": {},
   "outputs": [],
   "source": []
  },
  {
   "cell_type": "code",
   "execution_count": null,
   "metadata": {},
   "outputs": [],
   "source": []
  }
 ],
 "metadata": {
  "kernelspec": {
   "display_name": "Python 3",
   "language": "python",
   "name": "python3"
  },
  "language_info": {
   "codemirror_mode": {
    "name": "ipython",
    "version": 3
   },
   "file_extension": ".py",
   "mimetype": "text/x-python",
   "name": "python",
   "nbconvert_exporter": "python",
   "pygments_lexer": "ipython3",
   "version": "3.6.2"
  }
 },
 "nbformat": 4,
 "nbformat_minor": 2
}
