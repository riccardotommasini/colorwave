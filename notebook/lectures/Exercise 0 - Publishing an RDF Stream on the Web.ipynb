{
 "cells": [
  {
   "cell_type": "markdown",
   "metadata": {},
   "source": [
    "# Publishing a Stream"
   ]
  },
  {
   "cell_type": "code",
   "execution_count": 1,
   "metadata": {},
   "outputs": [],
   "source": [
    "from rsplib import RSPPublisher"
   ]
  },
  {
   "cell_type": "code",
   "execution_count": 2,
   "metadata": {},
   "outputs": [],
   "source": [
    "streamhub = RSPPublisher(\"http://streamhub:9292/streamhub\")"
   ]
  },
  {
   "cell_type": "markdown",
   "metadata": {},
   "source": [
    "## Publication Query - SPARQL-like Syntax"
   ]
  },
  {
   "cell_type": "code",
   "execution_count": 3,
   "metadata": {},
   "outputs": [],
   "source": [
    "vocals = '''\n",
    "BASE  <http://streamhub:9292/streamhub>\n",
    "PREFIX xsd: <http://www.w3.org/2001/XMLSchema#>\n",
    "PREFIX rdfs: <http://www.w3.org/2000/01/rdf-schema#>\n",
    "PREFIX dcat: <http://www.w3.org/ns/dcat#>\n",
    "PREFIX frmt: <http://www.w3.org/ns/formats/>\n",
    "PREFIX vocals: <http://w3id.org/rsp/vocals#>\n",
    "PREFIX vsd: <http://w3id.org/rsp/vocals-sd#>\n",
    "REGISTER STREAM :colorstream\n",
    "FROM SOURCE <ws://colorstream:5555>\n",
    "WHERE {\n",
    "\n",
    "           {this} a vocals:StreamDescriptor .\n",
    "\n",
    "           {publisher} a vsd:PublishingService ;\n",
    "                         vsd:hasFeature vsd:replaying ;\n",
    "                         vsd:resultFormat frmt:JSON-LD .\n",
    "\n",
    "           :ColorEndpoint a vocals:StreamEndpoint ;\n",
    "                            dcat:title \"A Color Stream Endpoint\"^^xsd:string ;\n",
    "                            dcat:description \"Streaming endpoint to consume Colors via WebSocket\"^^xsd:string ;\n",
    "                            dcat:license <https://creativecommons.org/licenses/by-nc/4.0/> ;\n",
    "                            dcat:format frmt:JSON-LD ;\n",
    "                            dcat:accessURL {source} ;\n",
    "                            vsd:publishedBy {publisher} .\n",
    "\n",
    "           {stream} a vocals:RDFStream ;\n",
    "                    dcat:title \"Color Stream\"^^xsd:string ;\n",
    "                    dcat:description \"Stream of colors\"^^xsd:string ;\n",
    "                    dcat:publisher {publisher} ;\n",
    "                    dcat:landingPage <https://example.org/rw/colors/> ;\n",
    "                    vocals:hasEndpoint :ColorEndpoint  .\n",
    "\n",
    "}'''"
   ]
  },
  {
   "cell_type": "code",
   "execution_count": 4,
   "metadata": {},
   "outputs": [
    {
     "data": {
      "text/plain": [
       "{\n",
       "    \"@id\": \"streams/colorstream\",\n",
       "    \"@type\": \"vocals:StreamDescriptor\",\n",
       "    \"dcat:dataset\": {\n",
       "        \"@id\": \"streams/colorstream\",\n",
       "        \"@type\": \"vocals:RDFStream\",\n",
       "        \"dcat:description\": \"Stream of colors\",\n",
       "        \"dcat:landingPage\": \"https://example.org/rw/colors/\",\n",
       "        \"dcat:publisher\": \"http://streamhub:9292/streamhub\",\n",
       "        \"dcat:title\": \"Color Stream\",\n",
       "        \"vocals:hasEndpoint\": [\n",
       "            [\n",
       "                {\n",
       "                    \"@id\": \"http://streamhub:9292/streamhub/ColorEndpoint\",\n",
       "                    \"@type\": \"http://w3id.org/rsp/vocals#StreamEndpoint\",\n",
       "                    \"dcat:title\": \"A Color Stream Endpoint\",\n",
       "                    \"dcat:description\": \"Streaming endpoint to consume Colors via WebSocket\",\n",
       "                    \"dcat:license\": \"https://creativecommons.org/licenses/by-nc/4.0/\",\n",
       "                    \"dcat:format\": \"http://www.w3.org/ns/formats/JSON-LD\",\n",
       "                    \"dcat:accessURL\": \"ws://colorstream:5555\",\n",
       "                    \"vsd:publishedBy\": \"http://streamhub:9292/streamhub\"\n",
       "                }\n",
       "            ],\n",
       "            \"http://streamhub:9292/streamhub/ColorEndpoint\"\n",
       "        ]\n",
       "    },\n",
       "    \"vsd:publishedBy\": {\n",
       "        \"@id\": \"./\",\n",
       "        \"@type\": \"vsd:PublishingService\",\n",
       "        \"vsd:hasFeature\": \"http://w3id.org/rsp/vocals-sd#replaying\",\n",
       "        \"vsd:resultFormat\": \"http://www.w3.org/ns/formats/JSON-LD\"\n",
       "    },\n",
       "    \"@context\": {\n",
       "        \"frmt\": \"http://www.w3.org/ns/formats/\",\n",
       "        \"owl\": \"http://www.w3.org/2002/07/owl#\",\n",
       "        \"rdf\": \"http://www.w3.org/1999/02/22-rdf-syntax-ns#\",\n",
       "        \"vsd\": \"http://w3id.org/rsp/vocals-sd#\",\n",
       "        \"xsd\": \"http://www.w3.org/2001/XMLSchema#\",\n",
       "        \"format\": \"http://www.w3.org/ns/formats/\",\n",
       "        \"vocals\": \"http://w3id.org/rsp/vocals#\",\n",
       "        \"rdfs\": \"http://www.w3.org/2000/01/rdf-schema#\",\n",
       "        \"vprov\": \"http://w3id.org/rsp/vocals-prov#\",\n",
       "        \"dcat\": \"http://www.w3.org/ns/dcat#\",\n",
       "        \"@base\": \"http://streamhub:9292/streamhub/\",\n",
       "        \"dcat:accessURL\": {\n",
       "            \"@type\": \"xsd:string\"\n",
       "        },\n",
       "        \"dcat:description\": {\n",
       "            \"@type\": \"http://www.w3.org/2001/XMLSchema#string\"\n",
       "        },\n",
       "        \"dcat:title\": {\n",
       "            \"@type\": \"http://www.w3.org/2001/XMLSchema#string\"\n",
       "        }\n",
       "    }\n",
       "}"
      ]
     },
     "execution_count": 4,
     "metadata": {},
     "output_type": "execute_result"
    }
   ],
   "source": [
    "streamhub.publish(vocals)"
   ]
  },
  {
   "cell_type": "markdown",
   "metadata": {},
   "source": [
    "## Checking if there is any stream"
   ]
  },
  {
   "cell_type": "code",
   "execution_count": 5,
   "metadata": {},
   "outputs": [
    {
     "data": {
      "text/plain": [
       "[http://streamhub:9292/streamhub/streams/colorstream]"
      ]
     },
     "execution_count": 5,
     "metadata": {},
     "output_type": "execute_result"
    }
   ],
   "source": [
    "streamhub.lists()"
   ]
  },
  {
   "cell_type": "code",
   "execution_count": 6,
   "metadata": {},
   "outputs": [
    {
     "data": {
      "text/plain": [
       "[GET ws://colorstream:5555]"
      ]
     },
     "execution_count": 6,
     "metadata": {},
     "output_type": "execute_result"
    }
   ],
   "source": [
    "streamhub.lists()[0].endpoints()"
   ]
  },
  {
   "cell_type": "markdown",
   "metadata": {},
   "source": [
    "## Getting the stream just registered"
   ]
  },
  {
   "cell_type": "code",
   "execution_count": 7,
   "metadata": {},
   "outputs": [],
   "source": [
    "colorstream = streamhub.lists()[0].endpoints()[0]"
   ]
  },
  {
   "cell_type": "code",
   "execution_count": 8,
   "metadata": {},
   "outputs": [
    {
     "name": "stdout",
     "output_type": "stream",
     "text": [
      "WARNING: WebSocket will be open for a single connection!\n"
     ]
    },
    {
     "data": {
      "text/plain": [
       "{\n",
       "    \"@context\": {\n",
       "        \"color\": \"http://www.streamreasoning.org/ontologies/2018/9/colors#\",\n",
       "        \"rdf\": \"http://www.w3.org/1999/02/22-rdf-syntax-ns#\",\n",
       "        \"rdfs\": \"http://www.w3.org/2000/01/rdf-schema#\"\n",
       "    },\n",
       "    \"@id\": \"41c09eb0-0d7d-4094-a84a-62db3577cb1b\",\n",
       "    \"@type\": \"color:Blue\"\n",
       "}"
      ]
     },
     "execution_count": 8,
     "metadata": {},
     "output_type": "execute_result"
    }
   ],
   "source": [
    "colorstream.call()"
   ]
  },
  {
   "cell_type": "markdown",
   "metadata": {},
   "source": [
    "## Deleting the stream registered"
   ]
  },
  {
   "cell_type": "code",
   "execution_count": 9,
   "metadata": {},
   "outputs": [
    {
     "data": {
      "text/plain": [
       "{\n",
       "    \"@id\": \"streams/colorstream\",\n",
       "    \"@type\": \"vocals:StreamDescriptor\",\n",
       "    \"dcat:dataset\": {\n",
       "        \"@id\": \"streams/colorstream\",\n",
       "        \"@type\": \"vocals:RDFStream\",\n",
       "        \"dcat:description\": \"Stream of colors\",\n",
       "        \"dcat:landingPage\": \"https://example.org/rw/colors/\",\n",
       "        \"dcat:publisher\": \"http://streamhub:9292/streamhub\",\n",
       "        \"dcat:title\": \"Color Stream\",\n",
       "        \"vocals:hasEndpoint\": [\n",
       "            [\n",
       "                {\n",
       "                    \"@id\": \"http://streamhub:9292/streamhub/ColorEndpoint\",\n",
       "                    \"@type\": \"http://w3id.org/rsp/vocals#StreamEndpoint\",\n",
       "                    \"dcat:title\": \"A Color Stream Endpoint\",\n",
       "                    \"dcat:description\": \"Streaming endpoint to consume Colors via WebSocket\",\n",
       "                    \"dcat:license\": \"https://creativecommons.org/licenses/by-nc/4.0/\",\n",
       "                    \"dcat:format\": \"http://www.w3.org/ns/formats/JSON-LD\",\n",
       "                    \"dcat:accessURL\": \"ws://colorstream:5555\",\n",
       "                    \"vsd:publishedBy\": \"http://streamhub:9292/streamhub\"\n",
       "                }\n",
       "            ],\n",
       "            \"http://streamhub:9292/streamhub/ColorEndpoint\"\n",
       "        ]\n",
       "    },\n",
       "    \"vsd:publishedBy\": {\n",
       "        \"@id\": \"./\",\n",
       "        \"@type\": \"vsd:PublishingService\",\n",
       "        \"vsd:hasFeature\": \"http://w3id.org/rsp/vocals-sd#replaying\",\n",
       "        \"vsd:resultFormat\": \"http://www.w3.org/ns/formats/JSON-LD\"\n",
       "    },\n",
       "    \"@context\": {\n",
       "        \"frmt\": \"http://www.w3.org/ns/formats/\",\n",
       "        \"owl\": \"http://www.w3.org/2002/07/owl#\",\n",
       "        \"rdf\": \"http://www.w3.org/1999/02/22-rdf-syntax-ns#\",\n",
       "        \"vsd\": \"http://w3id.org/rsp/vocals-sd#\",\n",
       "        \"xsd\": \"http://www.w3.org/2001/XMLSchema#\",\n",
       "        \"format\": \"http://www.w3.org/ns/formats/\",\n",
       "        \"vocals\": \"http://w3id.org/rsp/vocals#\",\n",
       "        \"rdfs\": \"http://www.w3.org/2000/01/rdf-schema#\",\n",
       "        \"vprov\": \"http://w3id.org/rsp/vocals-prov#\",\n",
       "        \"dcat\": \"http://www.w3.org/ns/dcat#\",\n",
       "        \"@base\": \"http://streamhub:9292/streamhub/\",\n",
       "        \"dcat:accessURL\": {\n",
       "            \"@type\": \"xsd:string\"\n",
       "        },\n",
       "        \"dcat:description\": {\n",
       "            \"@type\": \"http://www.w3.org/2001/XMLSchema#string\"\n",
       "        },\n",
       "        \"dcat:title\": {\n",
       "            \"@type\": \"http://www.w3.org/2001/XMLSchema#string\"\n",
       "        }\n",
       "    }\n",
       "}"
      ]
     },
     "execution_count": 9,
     "metadata": {},
     "output_type": "execute_result"
    }
   ],
   "source": [
    "streamhub.delete('colorstream')"
   ]
  },
  {
   "cell_type": "code",
   "execution_count": 10,
   "metadata": {},
   "outputs": [
    {
     "data": {
      "text/plain": [
       "[]"
      ]
     },
     "execution_count": 10,
     "metadata": {},
     "output_type": "execute_result"
    }
   ],
   "source": [
    "streamhub.lists()"
   ]
  },
  {
   "cell_type": "code",
   "execution_count": null,
   "metadata": {},
   "outputs": [],
   "source": []
  }
 ],
 "metadata": {
  "kernelspec": {
   "display_name": "Python 3",
   "language": "python",
   "name": "python3"
  },
  "language_info": {
   "codemirror_mode": {
    "name": "ipython",
    "version": 3
   },
   "file_extension": ".py",
   "mimetype": "text/x-python",
   "name": "python",
   "nbconvert_exporter": "python",
   "pygments_lexer": "ipython3",
   "version": "3.6.7"
  }
 },
 "nbformat": 4,
 "nbformat_minor": 2
}
