{
 "cells": [
  {
   "cell_type": "code",
   "execution_count": 16,
   "metadata": {},
   "outputs": [],
   "source": [
    "from rsplib import RSPEngine, RSPPublisher, Stream, rdf_table,load_graph, accessURL"
   ]
  },
  {
   "cell_type": "code",
   "execution_count": 17,
   "metadata": {},
   "outputs": [],
   "source": [
    "jasper = RSPEngine(\"http://jasper:8181/jasper\")"
   ]
  },
  {
   "cell_type": "code",
   "execution_count": null,
   "metadata": {},
   "outputs": [],
   "source": []
  },
  {
   "cell_type": "code",
   "execution_count": 20,
   "metadata": {},
   "outputs": [],
   "source": [
    "qid  = 'yellow'\n",
    "tbox = 'https://raw.githubusercontent.com/riccardotommasini/colorwave/master/colors.owl'\n",
    "body = '''\n",
    "    CONSTRUCT { \n",
    "           ?y a <http://www.streamreasoning.org/ontologies/2018/9/colors#Yellow>; \n",
    "               <http://www.streamreasoning.org/ontologies/2018/9/colors#from> ?r ; \n",
    "               <http://www.streamreasoning.org/ontologies/2018/9/colors#from> ?g .\n",
    "    }\n",
    "    FROM NAMED WINDOW <rw> ON <http://redstream:1255/red> [RANGE PT15S STEP PT5S]\n",
    "    FROM NAMED WINDOW <gw> ON <http://greenstream:2255/green> [RANGE PT15S STEP PT5S]\n",
    "    WHERE {\n",
    "        WINDOW <rw> { ?r a <http://www.streamreasoning.org/ontologies/2018/9/colors#Red> .}\n",
    "\n",
    "        WINDOW <gw> { ?g a <http://www.streamreasoning.org/ontologies/2018/9/colors#Green> .}\n",
    "\n",
    "    BIND( UUID() as ?y )\n",
    "    '''"
   ]
  },
  {
   "cell_type": "code",
   "execution_count": 21,
   "metadata": {},
   "outputs": [],
   "source": [
    "yelloq = jasper.create(qid, body, tbox)"
   ]
  },
  {
   "cell_type": "code",
   "execution_count": 22,
   "metadata": {},
   "outputs": [
    {
     "data": {
      "text/plain": [
       "[http://redstream:1255/red,\n",
       " http://greenstream:2255/green,\n",
       " http://jasper:8181/jasper/streams/yellow]"
      ]
     },
     "execution_count": 22,
     "metadata": {},
     "output_type": "execute_result"
    }
   ],
   "source": [
    "jasper.streams()"
   ]
  },
  {
   "cell_type": "code",
   "execution_count": 24,
   "metadata": {},
   "outputs": [
    {
     "data": {
      "text/html": [
       "<div id=\"4549fbc0-adbd-4bb5-a62e-357ec645a654\" style=\"height: 150px; width:100%;\"></div>"
      ]
     },
     "metadata": {},
     "output_type": "display_data"
    },
    {
     "data": {
      "application/javascript": [
       "\n",
       "        require([\"https://cdn.jsdelivr.net/gh/caldwell/renderjson/renderjson.js\"], function() {\n",
       "          document.getElementById('4549fbc0-adbd-4bb5-a62e-357ec645a654').appendChild(renderjson([\n",
       "  {\n",
       "    \"@id\": \"http://jasper:8181/jasper/streams/yellow\",\n",
       "    \"@type\": [\n",
       "      \"http://w3id.org/rsp/vocals#RDFStream\"\n",
       "    ]\n",
       "  },\n",
       "  {\n",
       "    \"@id\": \"_:N9ba26d6386e541149c13b36318ec3f4c\",\n",
       "    \"@type\": [\n",
       "      \"http://w3id.org/rsp/vocals#StreamDescriptor\"\n",
       "    ],\n",
       "    \"http://www.w3.org/ns/dcat#dataset\": [\n",
       "      {\n",
       "        \"@id\": \"http://jasper:8181/jasper/streams/yellow\"\n",
       "      }\n",
       "    ]\n",
       "  }\n",
       "]))\n",
       "        });\n",
       "        "
      ]
     },
     "metadata": {},
     "output_type": "display_data"
    }
   ],
   "source": [
    "yellow = jasper.streams()[2]\n",
    "yellow"
   ]
  },
  {
   "cell_type": "code",
   "execution_count": 25,
   "metadata": {},
   "outputs": [],
   "source": [
    "#the stream has not endpoint"
   ]
  },
  {
   "cell_type": "code",
   "execution_count": 26,
   "metadata": {},
   "outputs": [
    {
     "data": {
      "text/plain": [
       "[]"
      ]
     },
     "execution_count": 26,
     "metadata": {},
     "output_type": "execute_result"
    }
   ],
   "source": [
    "yellow.endpoints()"
   ]
  },
  {
   "cell_type": "code",
   "execution_count": 27,
   "metadata": {},
   "outputs": [],
   "source": [
    "# we need to expose it"
   ]
  },
  {
   "cell_type": "code",
   "execution_count": 28,
   "metadata": {},
   "outputs": [],
   "source": [
    "r = jasper.expose(qid, 'WEBSOCKET')"
   ]
  },
  {
   "cell_type": "code",
   "execution_count": 29,
   "metadata": {},
   "outputs": [
    {
     "data": {
      "text/plain": [
       "[GET ws://jasper:8184/jasper/streams/yellow/observers/746434905]"
      ]
     },
     "execution_count": 29,
     "metadata": {},
     "output_type": "execute_result"
    }
   ],
   "source": [
    "yellow = jasper.streams()[2]\n",
    "yellow.endpoints()"
   ]
  },
  {
   "cell_type": "code",
   "execution_count": 30,
   "metadata": {},
   "outputs": [],
   "source": [
    "endpoint = yellow.endpoints()[0]"
   ]
  },
  {
   "cell_type": "code",
   "execution_count": 31,
   "metadata": {},
   "outputs": [
    {
     "name": "stdout",
     "output_type": "stream",
     "text": [
      "WARNING: WebSocket will be open for a single connection!\n"
     ]
    }
   ],
   "source": [
    "resp = endpoint.call()"
   ]
  },
  {
   "cell_type": "code",
   "execution_count": 32,
   "metadata": {},
   "outputs": [
    {
     "data": {
      "text/html": [
       "<div id=\"9db0c1ef-9db9-4601-9809-9971c9ac8db1\" style=\"height: 150px; width:100%;\"></div>"
      ]
     },
     "metadata": {},
     "output_type": "display_data"
    },
    {
     "data": {
      "application/javascript": [
       "\n",
       "        require([\"https://cdn.jsdelivr.net/gh/caldwell/renderjson/renderjson.js\"], function() {\n",
       "          document.getElementById('9db0c1ef-9db9-4601-9809-9971c9ac8db1').appendChild(renderjson({\"@graph\": [{\"@id\": \"urn:uuid:07c61426-65f7-410e-927f-a3d5a6393236\", \"@type\": \"http://www.streamreasoning.org/ontologies/2018/9/colors#Yellow\", \"from\": [\"http://jasper:8181/1fe2be29-d3ef-4a58-8769-8de245ef6d5c\", \"http://jasper:8181/9320518b-e1b1-434b-bf34-18a931999216\"]}, {\"@id\": \"urn:uuid:0d0976fa-1fc6-433d-92fd-f58c1bebe3c7\", \"@type\": \"http://www.streamreasoning.org/ontologies/2018/9/colors#Yellow\", \"from\": [\"http://jasper:8181/d1666da5-8e5c-4088-82dc-a955791fa106\", \"http://jasper:8181/9320518b-e1b1-434b-bf34-18a931999216\"]}, {\"@id\": \"urn:uuid:33676d65-e22d-41ac-98c7-e7f857018eb0\", \"@type\": \"http://www.streamreasoning.org/ontologies/2018/9/colors#Yellow\", \"from\": [\"http://jasper:8181/b058d51e-4605-40a8-97bf-75e8b7cd79c8\", \"http://jasper:8181/a2b63b1c-5922-41fd-a2ba-513ba33b7a49\"]}, {\"@id\": \"urn:uuid:3ccde82e-5c89-41ce-8475-c6967c2082dd\", \"@type\": \"http://www.streamreasoning.org/ontologies/2018/9/colors#Yellow\", \"from\": [\"http://jasper:8181/1fe2be29-d3ef-4a58-8769-8de245ef6d5c\", \"http://jasper:8181/a2b63b1c-5922-41fd-a2ba-513ba33b7a49\"]}, {\"@id\": \"urn:uuid:41c7a78e-5c22-4330-8aea-909d3256d2bd\", \"@type\": \"http://www.streamreasoning.org/ontologies/2018/9/colors#Yellow\", \"from\": [\"http://jasper:8181/77ae0fb4-1fc5-4687-87de-dedfd6069e34\", \"http://jasper:8181/a2b63b1c-5922-41fd-a2ba-513ba33b7a49\"]}, {\"@id\": \"urn:uuid:8566f3db-7b4b-42e9-9ad1-5f88d3d9a201\", \"@type\": \"http://www.streamreasoning.org/ontologies/2018/9/colors#Yellow\", \"from\": [\"http://jasper:8181/d1666da5-8e5c-4088-82dc-a955791fa106\", \"http://jasper:8181/a2b63b1c-5922-41fd-a2ba-513ba33b7a49\"]}, {\"@id\": \"urn:uuid:8d489ad4-44f1-49a9-b414-f3ec2f1c162b\", \"@type\": \"http://www.streamreasoning.org/ontologies/2018/9/colors#Yellow\", \"from\": [\"http://jasper:8181/b058d51e-4605-40a8-97bf-75e8b7cd79c8\", \"http://jasper:8181/9320518b-e1b1-434b-bf34-18a931999216\"]}, {\"@id\": \"urn:uuid:d5dfcf9d-3164-4628-a38e-fc676a93e721\", \"@type\": \"http://www.streamreasoning.org/ontologies/2018/9/colors#Yellow\", \"from\": [\"http://jasper:8181/7b358524-76fe-4717-8120-26f3cb831636\", \"http://jasper:8181/9320518b-e1b1-434b-bf34-18a931999216\"]}, {\"@id\": \"urn:uuid:e3289865-07b0-4fd0-bd41-163aa4ad041d\", \"@type\": \"http://www.streamreasoning.org/ontologies/2018/9/colors#Yellow\", \"from\": [\"http://jasper:8181/7b358524-76fe-4717-8120-26f3cb831636\", \"http://jasper:8181/a2b63b1c-5922-41fd-a2ba-513ba33b7a49\"]}, {\"@id\": \"urn:uuid:fade072d-8744-4af3-935b-7b5da121b1bf\", \"@type\": \"http://www.streamreasoning.org/ontologies/2018/9/colors#Yellow\", \"from\": [\"http://jasper:8181/77ae0fb4-1fc5-4687-87de-dedfd6069e34\", \"http://jasper:8181/9320518b-e1b1-434b-bf34-18a931999216\"]}], \"@context\": {\"from\": {\"@id\": \"http://www.streamreasoning.org/ontologies/2018/9/colors#from\", \"@type\": \"@id\"}}}))\n",
       "        });\n",
       "        "
      ]
     },
     "metadata": {},
     "output_type": "display_data"
    }
   ],
   "source": [
    "resp"
   ]
  },
  {
   "cell_type": "code",
   "execution_count": null,
   "metadata": {},
   "outputs": [],
   "source": []
  }
 ],
 "metadata": {
  "kernelspec": {
   "display_name": "Python 3",
   "language": "python",
   "name": "python3"
  },
  "language_info": {
   "codemirror_mode": {
    "name": "ipython",
    "version": 3
   },
   "file_extension": ".py",
   "mimetype": "text/x-python",
   "name": "python",
   "nbconvert_exporter": "python",
   "pygments_lexer": "ipython3",
   "version": "3.6.2"
  }
 },
 "nbformat": 4,
 "nbformat_minor": 2
}
