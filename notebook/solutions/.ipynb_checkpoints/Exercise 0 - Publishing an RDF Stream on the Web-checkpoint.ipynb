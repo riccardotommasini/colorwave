{
 "cells": [
  {
   "cell_type": "markdown",
   "metadata": {},
   "source": [
    "# Check the Publisher Endpoint"
   ]
  },
  {
   "cell_type": "code",
   "execution_count": 1,
   "metadata": {},
   "outputs": [],
   "source": [
    "from rsplib import RSPPublisher"
   ]
  },
  {
   "cell_type": "code",
   "execution_count": 2,
   "metadata": {},
   "outputs": [],
   "source": [
    "streamhub = RSPPublisher(\"http://streamhub:9292/streamhub\")"
   ]
  },
  {
   "cell_type": "code",
   "execution_count": 3,
   "metadata": {},
   "outputs": [
    {
     "data": {
      "text/html": [
       "<div>\n",
       "<table border=\"1\" class=\"dataframe\">\n",
       "  <thead>\n",
       "    <tr style=\"text-align: right;\">\n",
       "      <th></th>\n",
       "      <th>Subject</th>\n",
       "      <th>Predicate</th>\n",
       "      <th>Object</th>\n",
       "    </tr>\n",
       "  </thead>\n",
       "  <tbody>\n",
       "    <tr>\n",
       "      <th>0</th>\n",
       "      <td>node1co7urk3ix6</td>\n",
       "      <td>http://w3id.org/rsp/vocals#feature</td>\n",
       "      <td>http://localhost:8181/streamhub/StreamsGetterF...</td>\n",
       "    </tr>\n",
       "    <tr>\n",
       "      <th>1</th>\n",
       "      <td>node1co7urk3ix1</td>\n",
       "      <td>http://w3id.org/rsp/vocals-sd#name</td>\n",
       "      <td>StreamFullRegistrationFeature</td>\n",
       "    </tr>\n",
       "    <tr>\n",
       "      <th>2</th>\n",
       "      <td>node1co7urk3ix8</td>\n",
       "      <td>http://w3id.org/rsp/vocals-sd#name</td>\n",
       "      <td>stream</td>\n",
       "    </tr>\n",
       "    <tr>\n",
       "      <th>3</th>\n",
       "      <td>http://localhost:8181/streamhub</td>\n",
       "      <td>http://w3id.org/rsp/vocals-sd#hasService</td>\n",
       "      <td>node1co7urk3ix7</td>\n",
       "    </tr>\n",
       "    <tr>\n",
       "      <th>4</th>\n",
       "      <td>node1co7urk3ix7</td>\n",
       "      <td>http://w3id.org/rsp/vocals-sd#uri_param</td>\n",
       "      <td>node1co7urk3ix8</td>\n",
       "    </tr>\n",
       "  </tbody>\n",
       "</table>\n",
       "</div>"
      ],
      "text/plain": [
       "                           Subject                                 Predicate  \\\n",
       "0                  node1co7urk3ix6        http://w3id.org/rsp/vocals#feature   \n",
       "1                  node1co7urk3ix1        http://w3id.org/rsp/vocals-sd#name   \n",
       "2                  node1co7urk3ix8        http://w3id.org/rsp/vocals-sd#name   \n",
       "3  http://localhost:8181/streamhub  http://w3id.org/rsp/vocals-sd#hasService   \n",
       "4                  node1co7urk3ix7   http://w3id.org/rsp/vocals-sd#uri_param   \n",
       "\n",
       "                                              Object  \n",
       "0  http://localhost:8181/streamhub/StreamsGetterF...  \n",
       "1                      StreamFullRegistrationFeature  \n",
       "2                                             stream  \n",
       "3                                    node1co7urk3ix7  \n",
       "4                                    node1co7urk3ix8  "
      ]
     },
     "execution_count": 3,
     "metadata": {},
     "output_type": "execute_result"
    }
   ],
   "source": [
    "streamhub.service().rdf_table().head()"
   ]
  },
  {
   "cell_type": "markdown",
   "metadata": {},
   "source": [
    "# Publishing a Stream"
   ]
  },
  {
   "cell_type": "markdown",
   "metadata": {},
   "source": [
    "## Publication Query - SPARQL-like Syntax"
   ]
  },
  {
   "cell_type": "code",
   "execution_count": 4,
   "metadata": {},
   "outputs": [],
   "source": [
    "vocals = '''\n",
    "BASE  <http://streamhub:9292/streamhub>\n",
    "PREFIX xsd: <http://www.w3.org/2001/XMLSchema#>\n",
    "PREFIX rdfs: <http://www.w3.org/2000/01/rdf-schema#>\n",
    "PREFIX dcat: <http://www.w3.org/ns/dcat#>\n",
    "PREFIX frmt: <http://www.w3.org/ns/formats/>\n",
    "PREFIX vocals: <http://w3id.org/rsp/vocals#>\n",
    "PREFIX vsd: <http://w3id.org/rsp/vocals-sd#>\n",
    "REGISTER STREAM :red\n",
    "FROM SOURCE <ws://redstream:2551/red>\n",
    "WHERE {\n",
    "\n",
    "           {this} a vocals:StreamDescriptor .\n",
    "\n",
    "           {publisher} a vsd:PublishingService ;\n",
    "                         vsd:hasFeature vsd:replaying ;\n",
    "                         vsd:resultFormat frmt:JSON-LD .\n",
    "\n",
    "           :RedColorEndpoint a vocals:StreamEndpoint ;\n",
    "                            dcat:title \"A Color Stream Endpoint\"^^xsd:string ;\n",
    "                            dcat:description \"Streaming endpoint to consume Colors via WebSocket\"^^xsd:string ;\n",
    "                            dcat:license <https://creativecommons.org/licenses/by-nc/4.0/> ;\n",
    "                            dcat:format frmt:JSON-LD ;\n",
    "                            dcat:accessURL {source} ;\n",
    "                            vsd:publishedBy {publisher} .\n",
    "\n",
    "           {stream} a vocals:RDFStream ;\n",
    "                    dcat:title \"Red Color Stream\"^^xsd:string ;\n",
    "                    dcat:description \"Stream of red color instances\"^^xsd:string ;\n",
    "                    dcat:publisher {publisher} ;\n",
    "                    dcat:landingPage <https://example.org/rw/colors/> ;\n",
    "                    vocals:hasEndpoint :RedColorEndpoint  .\n",
    "\n",
    "}'''"
   ]
  },
  {
   "cell_type": "code",
   "execution_count": null,
   "metadata": {},
   "outputs": [],
   "source": []
  },
  {
   "cell_type": "code",
   "execution_count": 5,
   "metadata": {},
   "outputs": [
    {
     "data": {
      "text/html": [
       "<div id=\"62facfdd-400b-4106-a9a0-379329d45706\" style=\"height: 150px; width:100%;\"></div>"
      ]
     },
     "metadata": {},
     "output_type": "display_data"
    },
    {
     "data": {
      "application/javascript": [
       "\n",
       "        require([\"https://cdn.jsdelivr.net/gh/caldwell/renderjson/renderjson.js\"], function() {\n",
       "          document.getElementById('62facfdd-400b-4106-a9a0-379329d45706').appendChild(renderjson({\"@id\": \"streams/red\", \"@type\": \"vocals:StreamDescriptor\", \"dcat:dataset\": {\"@id\": \"streams/red\", \"@type\": \"vocals:RDFStream\", \"dcat:description\": \"Stream of red color instances\", \"dcat:landingPage\": \"https://example.org/rw/colors/\", \"dcat:publisher\": \"http://streamhub:9292/streamhub\", \"dcat:title\": \"Red Color Stream\", \"vocals:hasEndpoint\": [[{\"@id\": \"http://streamhub:9292/streamhub/RedColorEndpoint\", \"@type\": \"http://w3id.org/rsp/vocals#StreamEndpoint\", \"dcat:title\": \"A Color Stream Endpoint\", \"dcat:description\": \"Streaming endpoint to consume Colors via WebSocket\", \"dcat:license\": \"https://creativecommons.org/licenses/by-nc/4.0/\", \"dcat:format\": \"http://www.w3.org/ns/formats/JSON-LD\", \"dcat:accessURL\": \"ws://redstream:2551/red\", \"vsd:publishedBy\": \"http://streamhub:9292/streamhub\"}], \"http://streamhub:9292/streamhub/RedColorEndpoint\"]}, \"vsd:publishedBy\": {\"@id\": \"./\", \"@type\": \"vsd:PublishingService\", \"vsd:hasFeature\": \"http://w3id.org/rsp/vocals-sd#replaying\", \"vsd:resultFormat\": \"http://www.w3.org/ns/formats/JSON-LD\"}, \"@context\": {\"frmt\": \"http://www.w3.org/ns/formats/\", \"owl\": \"http://www.w3.org/2002/07/owl#\", \"rdf\": \"http://www.w3.org/1999/02/22-rdf-syntax-ns#\", \"vsd\": \"http://w3id.org/rsp/vocals-sd#\", \"xsd\": \"http://www.w3.org/2001/XMLSchema#\", \"format\": \"http://www.w3.org/ns/formats/\", \"vocals\": \"http://w3id.org/rsp/vocals#\", \"rdfs\": \"http://www.w3.org/2000/01/rdf-schema#\", \"vprov\": \"http://w3id.org/rsp/vocals-prov#\", \"dcat\": \"http://www.w3.org/ns/dcat#\", \"@base\": \"http://streamhub:9292/streamhub/\", \"dcat:accessURL\": {\"@type\": \"xsd:string\"}, \"dcat:description\": {\"@type\": \"http://www.w3.org/2001/XMLSchema#string\"}, \"dcat:title\": {\"@type\": \"http://www.w3.org/2001/XMLSchema#string\"}}}))\n",
       "        });\n",
       "        "
      ]
     },
     "metadata": {},
     "output_type": "display_data"
    }
   ],
   "source": [
    "streamhub.publish(vocals)"
   ]
  },
  {
   "cell_type": "code",
   "execution_count": null,
   "metadata": {},
   "outputs": [],
   "source": []
  },
  {
   "cell_type": "markdown",
   "metadata": {},
   "source": [
    "## Checking if there is any stream"
   ]
  },
  {
   "cell_type": "code",
   "execution_count": 6,
   "metadata": {},
   "outputs": [
    {
     "data": {
      "text/plain": [
       "[http://streamhub:9292/streamhub/streams/red]"
      ]
     },
     "execution_count": 6,
     "metadata": {},
     "output_type": "execute_result"
    }
   ],
   "source": [
    "streamhub.lists()"
   ]
  },
  {
   "cell_type": "code",
   "execution_count": 7,
   "metadata": {},
   "outputs": [
    {
     "data": {
      "text/plain": [
       "GET ws://redstream:2551/red"
      ]
     },
     "execution_count": 7,
     "metadata": {},
     "output_type": "execute_result"
    }
   ],
   "source": [
    "streamhub.lists()[0].endpoints()[0]"
   ]
  },
  {
   "cell_type": "code",
   "execution_count": 8,
   "metadata": {},
   "outputs": [
    {
     "name": "stdout",
     "output_type": "stream",
     "text": [
      "WARNING: WebSocket will be open for a single connection!\n"
     ]
    },
    {
     "data": {
      "text/html": [
       "<div id=\"3051f398-b1fb-47ae-9035-158f3860131f\" style=\"height: 150px; width:100%;\"></div>"
      ]
     },
     "metadata": {},
     "output_type": "display_data"
    },
    {
     "data": {
      "application/javascript": [
       "\n",
       "        require([\"https://cdn.jsdelivr.net/gh/caldwell/renderjson/renderjson.js\"], function() {\n",
       "          document.getElementById('3051f398-b1fb-47ae-9035-158f3860131f').appendChild(renderjson({\"@context\": {\"color\": \"http://www.streamreasoning.org/ontologies/2018/9/colors#\", \"rdf\": \"http://www.w3.org/1999/02/22-rdf-syntax-ns#\", \"rdfs\": \"http://www.w3.org/2000/01/rdf-schema#\"}, \"@id\": \"3d97bf51-ee12-4c34-b43d-45532021225b\", \"@type\": \"color:Red\"}))\n",
       "        });\n",
       "        "
      ]
     },
     "metadata": {},
     "output_type": "display_data"
    }
   ],
   "source": [
    "streamhub.lists()[0].endpoints()[0].call()"
   ]
  },
  {
   "cell_type": "markdown",
   "metadata": {},
   "source": [
    "## Getting the stream just registered"
   ]
  },
  {
   "cell_type": "code",
   "execution_count": 9,
   "metadata": {},
   "outputs": [],
   "source": [
    "redstream = streamhub.lists()[0].endpoints()[0]"
   ]
  },
  {
   "cell_type": "code",
   "execution_count": 14,
   "metadata": {},
   "outputs": [
    {
     "name": "stdout",
     "output_type": "stream",
     "text": [
      "WARNING: WebSocket will be open for a single connection!\n"
     ]
    },
    {
     "data": {
      "text/html": [
       "<div id=\"56189c46-00ee-4f2b-b58e-896a4d8f39b2\" style=\"height: 150px; width:100%;\"></div>"
      ]
     },
     "metadata": {},
     "output_type": "display_data"
    },
    {
     "data": {
      "application/javascript": [
       "\n",
       "        require([\"https://cdn.jsdelivr.net/gh/caldwell/renderjson/renderjson.js\"], function() {\n",
       "          document.getElementById('56189c46-00ee-4f2b-b58e-896a4d8f39b2').appendChild(renderjson({\"@context\": {\"color\": \"http://www.streamreasoning.org/ontologies/2018/9/colors#\", \"rdf\": \"http://www.w3.org/1999/02/22-rdf-syntax-ns#\", \"rdfs\": \"http://www.w3.org/2000/01/rdf-schema#\"}, \"@id\": \"fb4d18d4-4c84-4b05-b898-108c497e50b9\", \"@type\": \"color:Red\"}))\n",
       "        });\n",
       "        "
      ]
     },
     "metadata": {},
     "output_type": "display_data"
    }
   ],
   "source": [
    "redstream.call()"
   ]
  },
  {
   "cell_type": "markdown",
   "metadata": {},
   "source": [
    "## Deleting the stream registered"
   ]
  },
  {
   "cell_type": "code",
   "execution_count": 15,
   "metadata": {},
   "outputs": [
    {
     "data": {
      "text/html": [
       "<div id=\"92991766-a596-4562-856b-20eef60c6de3\" style=\"height: 150px; width:100%;\"></div>"
      ]
     },
     "metadata": {},
     "output_type": "display_data"
    },
    {
     "data": {
      "application/javascript": [
       "\n",
       "        require([\"https://cdn.jsdelivr.net/gh/caldwell/renderjson/renderjson.js\"], function() {\n",
       "          document.getElementById('92991766-a596-4562-856b-20eef60c6de3').appendChild(renderjson({\"@id\": \"streams/red\", \"@type\": \"vocals:StreamDescriptor\", \"dcat:dataset\": {\"@id\": \"streams/red\", \"@type\": \"vocals:RDFStream\", \"dcat:description\": \"Stream of red color instances\", \"dcat:landingPage\": \"https://example.org/rw/colors/\", \"dcat:publisher\": \"http://streamhub:9292/streamhub\", \"dcat:title\": \"Red Color Stream\", \"vocals:hasEndpoint\": [[{\"@id\": \"http://streamhub:9292/streamhub/RedColorEndpoint\", \"@type\": \"http://w3id.org/rsp/vocals#StreamEndpoint\", \"dcat:title\": \"A Color Stream Endpoint\", \"dcat:description\": \"Streaming endpoint to consume Colors via WebSocket\", \"dcat:license\": \"https://creativecommons.org/licenses/by-nc/4.0/\", \"dcat:format\": \"http://www.w3.org/ns/formats/JSON-LD\", \"dcat:accessURL\": \"ws://redstream:2551/red\", \"vsd:publishedBy\": \"http://streamhub:9292/streamhub\"}], \"http://streamhub:9292/streamhub/RedColorEndpoint\"]}, \"vsd:publishedBy\": {\"@id\": \"./\", \"@type\": \"vsd:PublishingService\", \"vsd:hasFeature\": \"http://w3id.org/rsp/vocals-sd#replaying\", \"vsd:resultFormat\": \"http://www.w3.org/ns/formats/JSON-LD\"}, \"@context\": {\"frmt\": \"http://www.w3.org/ns/formats/\", \"owl\": \"http://www.w3.org/2002/07/owl#\", \"rdf\": \"http://www.w3.org/1999/02/22-rdf-syntax-ns#\", \"vsd\": \"http://w3id.org/rsp/vocals-sd#\", \"xsd\": \"http://www.w3.org/2001/XMLSchema#\", \"format\": \"http://www.w3.org/ns/formats/\", \"vocals\": \"http://w3id.org/rsp/vocals#\", \"rdfs\": \"http://www.w3.org/2000/01/rdf-schema#\", \"vprov\": \"http://w3id.org/rsp/vocals-prov#\", \"dcat\": \"http://www.w3.org/ns/dcat#\", \"@base\": \"http://streamhub:9292/streamhub/\", \"dcat:accessURL\": {\"@type\": \"xsd:string\"}, \"dcat:description\": {\"@type\": \"http://www.w3.org/2001/XMLSchema#string\"}, \"dcat:title\": {\"@type\": \"http://www.w3.org/2001/XMLSchema#string\"}}}))\n",
       "        });\n",
       "        "
      ]
     },
     "metadata": {},
     "output_type": "display_data"
    }
   ],
   "source": [
    "streamhub.delete('red')"
   ]
  },
  {
   "cell_type": "code",
   "execution_count": 16,
   "metadata": {},
   "outputs": [
    {
     "data": {
      "text/plain": [
       "[]"
      ]
     },
     "execution_count": 16,
     "metadata": {},
     "output_type": "execute_result"
    }
   ],
   "source": [
    "streamhub.lists()"
   ]
  },
  {
   "cell_type": "code",
   "execution_count": null,
   "metadata": {},
   "outputs": [],
   "source": []
  }
 ],
 "metadata": {
  "kernelspec": {
   "display_name": "Python 3",
   "language": "python",
   "name": "python3"
  },
  "language_info": {
   "codemirror_mode": {
    "name": "ipython",
    "version": 3
   },
   "file_extension": ".py",
   "mimetype": "text/x-python",
   "name": "python",
   "nbconvert_exporter": "python",
   "pygments_lexer": "ipython3",
   "version": "3.6.2"
  }
 },
 "nbformat": 4,
 "nbformat_minor": 2
}
