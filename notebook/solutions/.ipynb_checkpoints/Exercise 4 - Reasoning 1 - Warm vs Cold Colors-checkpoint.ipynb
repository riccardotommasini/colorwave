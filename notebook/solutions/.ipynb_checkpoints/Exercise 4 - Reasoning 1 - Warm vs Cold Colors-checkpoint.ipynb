{
 "cells": [
  {
   "cell_type": "code",
   "execution_count": 1,
   "metadata": {},
   "outputs": [],
   "source": [
    "from rsplib import RSPEngine, RSPPublisher, Stream, rdf_table, load_graph, accessURL"
   ]
  },
  {
   "cell_type": "code",
   "execution_count": 2,
   "metadata": {},
   "outputs": [],
   "source": [
    "jasper = RSPEngine(\"http://jasper:8181/jasper\")"
   ]
  },
  {
   "cell_type": "code",
   "execution_count": 3,
   "metadata": {},
   "outputs": [],
   "source": [
    "qid  = 'reasoning1'\n",
    "tbox = 'https://raw.githubusercontent.com/riccardotommasini/colorwave/master/colors.owl'\n",
    "frmt = 'JSON'\n",
    "body =  ''' \n",
    "        SELECT (COUNT(?w) AS ?cntWarm) (COUNT(?c) AS ?cntCold) ((?cntWarm>?cntCold) as ?moreWarmThanCold)  \n",
    "        FROM NAMED WINDOW <rw> ON <http://redstream:1255/red> [RANGE PT15S STEP PT5S]\n",
    "        FROM NAMED WINDOW <gw> ON <http://greenstream:2255/green> [RANGE PT15S STEP PT5S]\n",
    "        WHERE {\n",
    "            { WINDOW ?w1 { ?w a <http://www.streamreasoning.org/ontologies/2018/9/colors#Warm>.} }\n",
    "            UNION\n",
    "            { WINDOW ?w2 { ?c a <http://www.streamreasoning.org/ontologies/2018/9/colors#Cold> .} }\n",
    "        }\n",
    "    '''"
   ]
  },
  {
   "cell_type": "code",
   "execution_count": null,
   "metadata": {},
   "outputs": [],
   "source": []
  },
  {
   "cell_type": "code",
   "execution_count": 4,
   "metadata": {},
   "outputs": [],
   "source": [
    "reasoning1q = jasper.create(qid, body, tbox, frmt)"
   ]
  },
  {
   "cell_type": "code",
   "execution_count": 5,
   "metadata": {},
   "outputs": [
    {
     "data": {
      "text/plain": [
       "[http://redstream:1255/red,\n",
       " http://greenstream:2255/green,\n",
       " http://jasper:8181/jasper/streams/yellow,\n",
       " http://jasper:8181/jasper/streams/reasoning1]"
      ]
     },
     "execution_count": 5,
     "metadata": {},
     "output_type": "execute_result"
    }
   ],
   "source": [
    "jasper.streams()"
   ]
  },
  {
   "cell_type": "code",
   "execution_count": 6,
   "metadata": {},
   "outputs": [],
   "source": [
    "reasoning1 = jasper.streams()[3]"
   ]
  },
  {
   "cell_type": "code",
   "execution_count": 7,
   "metadata": {},
   "outputs": [
    {
     "data": {
      "text/html": [
       "<div id=\"8555d445-e83c-4597-bae6-26bd6226cf31\" style=\"height: 150px; width:100%;\"></div>"
      ]
     },
     "metadata": {},
     "output_type": "display_data"
    },
    {
     "data": {
      "application/javascript": [
       "\n",
       "        require([\"https://cdn.jsdelivr.net/gh/caldwell/renderjson/renderjson.js\"], function() {\n",
       "          document.getElementById('8555d445-e83c-4597-bae6-26bd6226cf31').appendChild(renderjson([\n",
       "  {\n",
       "    \"@id\": \"_:N7ad5fa31766b4d78a4c4c0b1be80e26e\",\n",
       "    \"@type\": [\n",
       "      \"http://w3id.org/rsp/vocals#StreamDescriptor\"\n",
       "    ],\n",
       "    \"http://www.w3.org/ns/dcat#dataset\": [\n",
       "      {\n",
       "        \"@id\": \"http://jasper:8181/jasper/streams/reasoning1\"\n",
       "      }\n",
       "    ]\n",
       "  },\n",
       "  {\n",
       "    \"@id\": \"http://jasper:8181/jasper/streams/reasoning1\",\n",
       "    \"@type\": [\n",
       "      \"http://w3id.org/rsp/vocals#RDFStream\"\n",
       "    ]\n",
       "  }\n",
       "]))\n",
       "        });\n",
       "        "
      ]
     },
     "metadata": {},
     "output_type": "display_data"
    }
   ],
   "source": [
    "reasoning1"
   ]
  },
  {
   "cell_type": "code",
   "execution_count": 8,
   "metadata": {},
   "outputs": [
    {
     "data": {
      "text/plain": [
       "[]"
      ]
     },
     "execution_count": 8,
     "metadata": {},
     "output_type": "execute_result"
    }
   ],
   "source": [
    "reasoning1.endpoints()"
   ]
  },
  {
   "cell_type": "code",
   "execution_count": 16,
   "metadata": {},
   "outputs": [],
   "source": [
    "r = jasper.expose(qid, 'HTTP', retention=5)"
   ]
  },
  {
   "cell_type": "code",
   "execution_count": 20,
   "metadata": {},
   "outputs": [
    {
     "data": {
      "text/html": [
       "<div id=\"636c5ae7-e013-4a71-9f4b-4b6dece79fba\" style=\"height: 150px; width:100%;\"></div>"
      ]
     },
     "metadata": {},
     "output_type": "display_data"
    },
    {
     "data": {
      "application/javascript": [
       "\n",
       "        require([\"https://cdn.jsdelivr.net/gh/caldwell/renderjson/renderjson.js\"], function() {\n",
       "          document.getElementById('636c5ae7-e013-4a71-9f4b-4b6dece79fba').appendChild(renderjson([\n",
       "  {\n",
       "    \"@id\": \"_:N6586c3cd1f5840489cdf21f81e07d922\",\n",
       "    \"@type\": [\n",
       "      \"http://w3id.org/rsp/vocals#StreamDescriptor\"\n",
       "    ],\n",
       "    \"http://www.w3.org/ns/dcat#dataset\": [\n",
       "      {\n",
       "        \"@id\": \"http://jasper:8181/jasper/streams/reasoning1\"\n",
       "      }\n",
       "    ]\n",
       "  },\n",
       "  {\n",
       "    \"@id\": \"http://jasper:8181/jasper/streams/reasoning1\",\n",
       "    \"@type\": [\n",
       "      \"http://w3id.org/rsp/vocals#RDFStream\"\n",
       "    ],\n",
       "    \"http://w3id.org/rsp/vocals#hasEndpoint\": [\n",
       "      {\n",
       "        \"@id\": \"_:N85b5feac66c148cd8f97f23b0506ee16\"\n",
       "      },\n",
       "      {\n",
       "        \"@id\": \"_:Nd8ee4b8f0ddc4092abf1e963e0f09f74\"\n",
       "      }\n",
       "    ]\n",
       "  },\n",
       "  {\n",
       "    \"@id\": \"_:N85b5feac66c148cd8f97f23b0506ee16\",\n",
       "    \"@type\": [\n",
       "      \"http://w3id.org/rsp/vocals#StreamEndpoint\"\n",
       "    ],\n",
       "    \"http://www.w3.org/ns/dcat#accessURL\": [\n",
       "      {\n",
       "        \"@value\": \"http://jasper:8185/jasper/streams/reasoning1/observers/1332050328\"\n",
       "      }\n",
       "    ]\n",
       "  },\n",
       "  {\n",
       "    \"@id\": \"_:Nd8ee4b8f0ddc4092abf1e963e0f09f74\",\n",
       "    \"@type\": [\n",
       "      \"http://w3id.org/rsp/vocals#StreamEndpoint\"\n",
       "    ],\n",
       "    \"http://www.w3.org/ns/dcat#accessURL\": [\n",
       "      {\n",
       "        \"@value\": \"http://jasper:8186/jasper/streams/reasoning1/observers/1955636826\"\n",
       "      }\n",
       "    ]\n",
       "  }\n",
       "]))\n",
       "        });\n",
       "        "
      ]
     },
     "metadata": {},
     "output_type": "display_data"
    }
   ],
   "source": [
    "reasoning1 = jasper.streams()[3]\n",
    "reasoning1 "
   ]
  },
  {
   "cell_type": "code",
   "execution_count": 21,
   "metadata": {},
   "outputs": [
    {
     "data": {
      "text/plain": [
       "[GET http://jasper:8185/jasper/streams/reasoning1/observers/1332050328,\n",
       " GET http://jasper:8186/jasper/streams/reasoning1/observers/1955636826]"
      ]
     },
     "execution_count": 21,
     "metadata": {},
     "output_type": "execute_result"
    }
   ],
   "source": [
    "reasoning1.endpoints()"
   ]
  },
  {
   "cell_type": "code",
   "execution_count": 22,
   "metadata": {},
   "outputs": [],
   "source": [
    "endpoint = reasoning1.endpoints()[0]"
   ]
  },
  {
   "cell_type": "code",
   "execution_count": 23,
   "metadata": {},
   "outputs": [
    {
     "data": {
      "text/html": [
       "<div>\n",
       "<table border=\"1\" class=\"dataframe\">\n",
       "  <thead>\n",
       "    <tr style=\"text-align: right;\">\n",
       "      <th></th>\n",
       "      <th>head_vars_0</th>\n",
       "      <th>head_vars_1</th>\n",
       "      <th>head_vars_2</th>\n",
       "      <th>results_bindings_0_cntCold_datatype</th>\n",
       "      <th>results_bindings_0_cntCold_type</th>\n",
       "      <th>results_bindings_0_cntCold_value</th>\n",
       "      <th>results_bindings_0_cntWarm_datatype</th>\n",
       "      <th>results_bindings_0_cntWarm_type</th>\n",
       "      <th>results_bindings_0_cntWarm_value</th>\n",
       "      <th>results_bindings_0_moreWarmThanCold_datatype</th>\n",
       "      <th>results_bindings_0_moreWarmThanCold_type</th>\n",
       "      <th>results_bindings_0_moreWarmThanCold_value</th>\n",
       "    </tr>\n",
       "  </thead>\n",
       "  <tbody>\n",
       "    <tr>\n",
       "      <th>0</th>\n",
       "      <td>cntWarm</td>\n",
       "      <td>cntCold</td>\n",
       "      <td>moreWarmThanCold</td>\n",
       "      <td>http://www.w3.org/2001/XMLSchema#integer</td>\n",
       "      <td>literal</td>\n",
       "      <td>3</td>\n",
       "      <td>http://www.w3.org/2001/XMLSchema#integer</td>\n",
       "      <td>literal</td>\n",
       "      <td>3</td>\n",
       "      <td>http://www.w3.org/2001/XMLSchema#boolean</td>\n",
       "      <td>literal</td>\n",
       "      <td>false</td>\n",
       "    </tr>\n",
       "    <tr>\n",
       "      <th>1</th>\n",
       "      <td>cntWarm</td>\n",
       "      <td>cntCold</td>\n",
       "      <td>moreWarmThanCold</td>\n",
       "      <td>http://www.w3.org/2001/XMLSchema#integer</td>\n",
       "      <td>literal</td>\n",
       "      <td>3</td>\n",
       "      <td>http://www.w3.org/2001/XMLSchema#integer</td>\n",
       "      <td>literal</td>\n",
       "      <td>3</td>\n",
       "      <td>http://www.w3.org/2001/XMLSchema#boolean</td>\n",
       "      <td>literal</td>\n",
       "      <td>false</td>\n",
       "    </tr>\n",
       "    <tr>\n",
       "      <th>2</th>\n",
       "      <td>cntWarm</td>\n",
       "      <td>cntCold</td>\n",
       "      <td>moreWarmThanCold</td>\n",
       "      <td>http://www.w3.org/2001/XMLSchema#integer</td>\n",
       "      <td>literal</td>\n",
       "      <td>5</td>\n",
       "      <td>http://www.w3.org/2001/XMLSchema#integer</td>\n",
       "      <td>literal</td>\n",
       "      <td>3</td>\n",
       "      <td>http://www.w3.org/2001/XMLSchema#boolean</td>\n",
       "      <td>literal</td>\n",
       "      <td>false</td>\n",
       "    </tr>\n",
       "    <tr>\n",
       "      <th>3</th>\n",
       "      <td>cntWarm</td>\n",
       "      <td>cntCold</td>\n",
       "      <td>moreWarmThanCold</td>\n",
       "      <td>http://www.w3.org/2001/XMLSchema#integer</td>\n",
       "      <td>literal</td>\n",
       "      <td>5</td>\n",
       "      <td>http://www.w3.org/2001/XMLSchema#integer</td>\n",
       "      <td>literal</td>\n",
       "      <td>3</td>\n",
       "      <td>http://www.w3.org/2001/XMLSchema#boolean</td>\n",
       "      <td>literal</td>\n",
       "      <td>false</td>\n",
       "    </tr>\n",
       "    <tr>\n",
       "      <th>4</th>\n",
       "      <td>cntWarm</td>\n",
       "      <td>cntCold</td>\n",
       "      <td>moreWarmThanCold</td>\n",
       "      <td>http://www.w3.org/2001/XMLSchema#integer</td>\n",
       "      <td>literal</td>\n",
       "      <td>4</td>\n",
       "      <td>http://www.w3.org/2001/XMLSchema#integer</td>\n",
       "      <td>literal</td>\n",
       "      <td>3</td>\n",
       "      <td>http://www.w3.org/2001/XMLSchema#boolean</td>\n",
       "      <td>literal</td>\n",
       "      <td>false</td>\n",
       "    </tr>\n",
       "  </tbody>\n",
       "</table>\n",
       "</div>"
      ],
      "text/plain": [
       "  head_vars_0 head_vars_1       head_vars_2  \\\n",
       "0     cntWarm     cntCold  moreWarmThanCold   \n",
       "1     cntWarm     cntCold  moreWarmThanCold   \n",
       "2     cntWarm     cntCold  moreWarmThanCold   \n",
       "3     cntWarm     cntCold  moreWarmThanCold   \n",
       "4     cntWarm     cntCold  moreWarmThanCold   \n",
       "\n",
       "        results_bindings_0_cntCold_datatype results_bindings_0_cntCold_type  \\\n",
       "0  http://www.w3.org/2001/XMLSchema#integer                         literal   \n",
       "1  http://www.w3.org/2001/XMLSchema#integer                         literal   \n",
       "2  http://www.w3.org/2001/XMLSchema#integer                         literal   \n",
       "3  http://www.w3.org/2001/XMLSchema#integer                         literal   \n",
       "4  http://www.w3.org/2001/XMLSchema#integer                         literal   \n",
       "\n",
       "  results_bindings_0_cntCold_value       results_bindings_0_cntWarm_datatype  \\\n",
       "0                                3  http://www.w3.org/2001/XMLSchema#integer   \n",
       "1                                3  http://www.w3.org/2001/XMLSchema#integer   \n",
       "2                                5  http://www.w3.org/2001/XMLSchema#integer   \n",
       "3                                5  http://www.w3.org/2001/XMLSchema#integer   \n",
       "4                                4  http://www.w3.org/2001/XMLSchema#integer   \n",
       "\n",
       "  results_bindings_0_cntWarm_type results_bindings_0_cntWarm_value  \\\n",
       "0                         literal                                3   \n",
       "1                         literal                                3   \n",
       "2                         literal                                3   \n",
       "3                         literal                                3   \n",
       "4                         literal                                3   \n",
       "\n",
       "  results_bindings_0_moreWarmThanCold_datatype  \\\n",
       "0     http://www.w3.org/2001/XMLSchema#boolean   \n",
       "1     http://www.w3.org/2001/XMLSchema#boolean   \n",
       "2     http://www.w3.org/2001/XMLSchema#boolean   \n",
       "3     http://www.w3.org/2001/XMLSchema#boolean   \n",
       "4     http://www.w3.org/2001/XMLSchema#boolean   \n",
       "\n",
       "  results_bindings_0_moreWarmThanCold_type  \\\n",
       "0                                  literal   \n",
       "1                                  literal   \n",
       "2                                  literal   \n",
       "3                                  literal   \n",
       "4                                  literal   \n",
       "\n",
       "  results_bindings_0_moreWarmThanCold_value  \n",
       "0                                     false  \n",
       "1                                     false  \n",
       "2                                     false  \n",
       "3                                     false  \n",
       "4                                     false  "
      ]
     },
     "execution_count": 23,
     "metadata": {},
     "output_type": "execute_result"
    }
   ],
   "source": [
    "endpoint.call().flatten().dataframe()"
   ]
  },
  {
   "cell_type": "code",
   "execution_count": 24,
   "metadata": {},
   "outputs": [
    {
     "data": {
      "text/html": [
       "<div>\n",
       "<table border=\"1\" class=\"dataframe\">\n",
       "  <thead>\n",
       "    <tr style=\"text-align: right;\">\n",
       "      <th></th>\n",
       "      <th>head_vars_0</th>\n",
       "      <th>head_vars_1</th>\n",
       "      <th>head_vars_2</th>\n",
       "      <th>results_bindings_0_cntCold_datatype</th>\n",
       "      <th>results_bindings_0_cntCold_type</th>\n",
       "      <th>results_bindings_0_cntCold_value</th>\n",
       "      <th>results_bindings_0_cntWarm_datatype</th>\n",
       "      <th>results_bindings_0_cntWarm_type</th>\n",
       "      <th>results_bindings_0_cntWarm_value</th>\n",
       "      <th>results_bindings_0_moreWarmThanCold_datatype</th>\n",
       "      <th>results_bindings_0_moreWarmThanCold_type</th>\n",
       "      <th>results_bindings_0_moreWarmThanCold_value</th>\n",
       "    </tr>\n",
       "  </thead>\n",
       "  <tbody>\n",
       "    <tr>\n",
       "      <th>0</th>\n",
       "      <td>cntWarm</td>\n",
       "      <td>cntCold</td>\n",
       "      <td>moreWarmThanCold</td>\n",
       "      <td>http://www.w3.org/2001/XMLSchema#integer</td>\n",
       "      <td>literal</td>\n",
       "      <td>3</td>\n",
       "      <td>http://www.w3.org/2001/XMLSchema#integer</td>\n",
       "      <td>literal</td>\n",
       "      <td>3</td>\n",
       "      <td>http://www.w3.org/2001/XMLSchema#boolean</td>\n",
       "      <td>literal</td>\n",
       "      <td>false</td>\n",
       "    </tr>\n",
       "    <tr>\n",
       "      <th>1</th>\n",
       "      <td>cntWarm</td>\n",
       "      <td>cntCold</td>\n",
       "      <td>moreWarmThanCold</td>\n",
       "      <td>http://www.w3.org/2001/XMLSchema#integer</td>\n",
       "      <td>literal</td>\n",
       "      <td>5</td>\n",
       "      <td>http://www.w3.org/2001/XMLSchema#integer</td>\n",
       "      <td>literal</td>\n",
       "      <td>3</td>\n",
       "      <td>http://www.w3.org/2001/XMLSchema#boolean</td>\n",
       "      <td>literal</td>\n",
       "      <td>false</td>\n",
       "    </tr>\n",
       "    <tr>\n",
       "      <th>2</th>\n",
       "      <td>cntWarm</td>\n",
       "      <td>cntCold</td>\n",
       "      <td>moreWarmThanCold</td>\n",
       "      <td>http://www.w3.org/2001/XMLSchema#integer</td>\n",
       "      <td>literal</td>\n",
       "      <td>5</td>\n",
       "      <td>http://www.w3.org/2001/XMLSchema#integer</td>\n",
       "      <td>literal</td>\n",
       "      <td>3</td>\n",
       "      <td>http://www.w3.org/2001/XMLSchema#boolean</td>\n",
       "      <td>literal</td>\n",
       "      <td>false</td>\n",
       "    </tr>\n",
       "    <tr>\n",
       "      <th>3</th>\n",
       "      <td>cntWarm</td>\n",
       "      <td>cntCold</td>\n",
       "      <td>moreWarmThanCold</td>\n",
       "      <td>http://www.w3.org/2001/XMLSchema#integer</td>\n",
       "      <td>literal</td>\n",
       "      <td>4</td>\n",
       "      <td>http://www.w3.org/2001/XMLSchema#integer</td>\n",
       "      <td>literal</td>\n",
       "      <td>3</td>\n",
       "      <td>http://www.w3.org/2001/XMLSchema#boolean</td>\n",
       "      <td>literal</td>\n",
       "      <td>false</td>\n",
       "    </tr>\n",
       "    <tr>\n",
       "      <th>4</th>\n",
       "      <td>cntWarm</td>\n",
       "      <td>cntCold</td>\n",
       "      <td>moreWarmThanCold</td>\n",
       "      <td>http://www.w3.org/2001/XMLSchema#integer</td>\n",
       "      <td>literal</td>\n",
       "      <td>4</td>\n",
       "      <td>http://www.w3.org/2001/XMLSchema#integer</td>\n",
       "      <td>literal</td>\n",
       "      <td>3</td>\n",
       "      <td>http://www.w3.org/2001/XMLSchema#boolean</td>\n",
       "      <td>literal</td>\n",
       "      <td>false</td>\n",
       "    </tr>\n",
       "  </tbody>\n",
       "</table>\n",
       "</div>"
      ],
      "text/plain": [
       "  head_vars_0 head_vars_1       head_vars_2  \\\n",
       "0     cntWarm     cntCold  moreWarmThanCold   \n",
       "1     cntWarm     cntCold  moreWarmThanCold   \n",
       "2     cntWarm     cntCold  moreWarmThanCold   \n",
       "3     cntWarm     cntCold  moreWarmThanCold   \n",
       "4     cntWarm     cntCold  moreWarmThanCold   \n",
       "\n",
       "        results_bindings_0_cntCold_datatype results_bindings_0_cntCold_type  \\\n",
       "0  http://www.w3.org/2001/XMLSchema#integer                         literal   \n",
       "1  http://www.w3.org/2001/XMLSchema#integer                         literal   \n",
       "2  http://www.w3.org/2001/XMLSchema#integer                         literal   \n",
       "3  http://www.w3.org/2001/XMLSchema#integer                         literal   \n",
       "4  http://www.w3.org/2001/XMLSchema#integer                         literal   \n",
       "\n",
       "   results_bindings_0_cntCold_value       results_bindings_0_cntWarm_datatype  \\\n",
       "0                                 3  http://www.w3.org/2001/XMLSchema#integer   \n",
       "1                                 5  http://www.w3.org/2001/XMLSchema#integer   \n",
       "2                                 5  http://www.w3.org/2001/XMLSchema#integer   \n",
       "3                                 4  http://www.w3.org/2001/XMLSchema#integer   \n",
       "4                                 4  http://www.w3.org/2001/XMLSchema#integer   \n",
       "\n",
       "  results_bindings_0_cntWarm_type  results_bindings_0_cntWarm_value  \\\n",
       "0                         literal                                 3   \n",
       "1                         literal                                 3   \n",
       "2                         literal                                 3   \n",
       "3                         literal                                 3   \n",
       "4                         literal                                 3   \n",
       "\n",
       "  results_bindings_0_moreWarmThanCold_datatype  \\\n",
       "0     http://www.w3.org/2001/XMLSchema#boolean   \n",
       "1     http://www.w3.org/2001/XMLSchema#boolean   \n",
       "2     http://www.w3.org/2001/XMLSchema#boolean   \n",
       "3     http://www.w3.org/2001/XMLSchema#boolean   \n",
       "4     http://www.w3.org/2001/XMLSchema#boolean   \n",
       "\n",
       "  results_bindings_0_moreWarmThanCold_type  \\\n",
       "0                                  literal   \n",
       "1                                  literal   \n",
       "2                                  literal   \n",
       "3                                  literal   \n",
       "4                                  literal   \n",
       "\n",
       "  results_bindings_0_moreWarmThanCold_value  \n",
       "0                                     false  \n",
       "1                                     false  \n",
       "2                                     false  \n",
       "3                                     false  \n",
       "4                                     false  "
      ]
     },
     "execution_count": 24,
     "metadata": {},
     "output_type": "execute_result"
    }
   ],
   "source": [
    "df = endpoint.call().flatten().dataframe(['results_bindings_0_cntCold_value', 'results_bindings_0_cntWarm_value'])\n",
    "df"
   ]
  },
  {
   "cell_type": "code",
   "execution_count": null,
   "metadata": {},
   "outputs": [],
   "source": []
  }
 ],
 "metadata": {
  "kernelspec": {
   "display_name": "Python 3",
   "language": "python",
   "name": "python3"
  },
  "language_info": {
   "codemirror_mode": {
    "name": "ipython",
    "version": 3
   },
   "file_extension": ".py",
   "mimetype": "text/x-python",
   "name": "python",
   "nbconvert_exporter": "python",
   "pygments_lexer": "ipython3",
   "version": "3.6.2"
  }
 },
 "nbformat": 4,
 "nbformat_minor": 2
}
