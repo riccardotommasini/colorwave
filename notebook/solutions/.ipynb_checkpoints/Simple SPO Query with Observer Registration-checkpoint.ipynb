{
 "cells": [
  {
   "cell_type": "code",
   "execution_count": 55,
   "metadata": {},
   "outputs": [],
   "source": [
    "default_headers = {\n",
    "          'Content-Type': 'application/json',\n",
    "          'Access-Control-Allow-Origin': '*'\n",
    "        }"
   ]
  },
  {
   "cell_type": "code",
   "execution_count": 16,
   "metadata": {},
   "outputs": [],
   "source": [
    "from IPython.display import display_javascript, display_html, display\n",
    "import uuid\n",
    "\n",
    "class RenderJSON(object):\n",
    "    def __init__(self, json_data):\n",
    "        if isinstance(json_data, dict):\n",
    "            self.json_str = json.dumps(json_data)\n",
    "        elif isinstance(json_data, list):\n",
    "            self.json_str = json.dumps(json_data)\n",
    "        else:\n",
    "            self.json_str = json\n",
    "        self.uuid = str(uuid.uuid4())\n",
    "        \n",
    "    def _ipython_display_(self):\n",
    "        display_html('<div id=\"{}\" style=\"height: 150px; width:100%;\"></div>'.format(self.uuid),\n",
    "            raw=True\n",
    "        )\n",
    "        display_javascript(\"\"\"\n",
    "        require([\"https://cdn.jsdelivr.net/gh/caldwell/renderjson/renderjson.js\"], function() {\n",
    "          document.getElementById('%s').appendChild(renderjson(%s))\n",
    "        });\n",
    "        \"\"\" % (self.uuid, self.json_str), raw=True)"
   ]
  },
  {
   "cell_type": "code",
   "execution_count": 106,
   "metadata": {},
   "outputs": [],
   "source": [
    "import requests, json"
   ]
  },
  {
   "cell_type": "code",
   "execution_count": 107,
   "metadata": {},
   "outputs": [],
   "source": [
    "engine = \"http://docker.for.mac.localhost:8181\""
   ]
  },
  {
   "cell_type": "code",
   "execution_count": 108,
   "metadata": {},
   "outputs": [],
   "source": [
    "e = requests.get(engine + \"/jasper\").json()"
   ]
  },
  {
   "cell_type": "code",
   "execution_count": 109,
   "metadata": {},
   "outputs": [
    {
     "data": {
      "text/html": [
       "<div id=\"c211a63b-362c-4a6f-bf54-206146e455d9\" style=\"height: 150px; width:100%;\"></div>"
      ]
     },
     "metadata": {},
     "output_type": "display_data"
    },
    {
     "data": {
      "application/javascript": [
       "\n",
       "        require([\"https://cdn.jsdelivr.net/gh/caldwell/renderjson/renderjson.js\"], function() {\n",
       "          document.getElementById('c211a63b-362c-4a6f-bf54-206146e455d9').appendChild(renderjson({\"@graph\": [{\"@id\": \"_:b0\", \"feature\": \"http://localhost:8181//QueryDeletionFeature\", \"endpoint\": \"/queries/:query\", \"method\": \"DELETE\", \"name\": \"QueryDeletionFeature\", \"uri_param\": \"_:b17\"}, {\"@id\": \"_:b1\", \"feature\": \"http://localhost:8181//StreamsGetterFeature\", \"endpoint\": \"/streams\", \"method\": \"GET\", \"name\": \"StreamsGetterFeature\"}, {\"@id\": \"_:b10\", \"name\": \"source\"}, {\"@id\": \"_:b11\", \"name\": \"body\"}, {\"@id\": \"_:b12\", \"@type\": \"xsd:string\", \"index\": \"1\", \"name\": \"source\"}, {\"@id\": \"_:b13\", \"index\": \"0\", \"name\": \"stream\", \"type\": \"xsd:string\"}, {\"@id\": \"_:b14\", \"@type\": \"xsd:string\", \"index\": \"0\", \"name\": \"body\"}, {\"@id\": \"_:b15\", \"index\": \"0\", \"name\": \"stream\", \"type\": \"xsd:string\"}, {\"@id\": \"_:b16\", \"index\": \"0\", \"name\": \"query\", \"type\": \"xsd:string\"}, {\"@id\": \"_:b17\", \"index\": \"0\", \"name\": \"query\", \"type\": \"xsd:string\"}, {\"@id\": \"_:b18\", \"@type\": \"xsd:string\", \"index\": \"0\", \"name\": \"id\"}, {\"@id\": \"_:b2\", \"feature\": \"http://localhost:8181//QueryRegistrationFeature\", \"body\": \"{\\\"id\\\":\\\"http://www.w3.org/2001/XMLSchema#string\\\",\\\"body\\\":\\\"http://www.w3.org/2001/XMLSchema#string\\\",\\\"tbox\\\":\\\"http://www.w3.org/2001/XMLSchema#string\\\"}\", \"body_param\": [\"_:b8\", \"_:b14\", \"_:b18\"], \"endpoint\": \"/queries\", \"method\": \"POST\", \"name\": \"QueryRegistrationFeature\"}, {\"@id\": \"_:b3\", \"feature\": \"http://localhost:8181//StreamDeletionFeature\", \"endpoint\": \"/streams/:stream\", \"method\": \"DELETE\", \"name\": \"StreamDeletionFeature\", \"uri_param\": \"_:b9\"}, {\"@id\": \"_:b4\", \"feature\": \"http://localhost:8181//QueriesGetterFeature\", \"endpoint\": \"/queries\", \"method\": \"GET\", \"name\": \"QueriesGetterFeature\"}, {\"@id\": \"_:b5\", \"feature\": \"http://localhost:8181//StreamGetterFeature\", \"endpoint\": \"/streams/:stream\", \"method\": \"GET\", \"name\": \"StreamGetterFeature\", \"uri_param\": \"_:b15\"}, {\"@id\": \"_:b6\", \"feature\": \"http://localhost:8181//QueryGetterFeature\", \"endpoint\": \"/queries/:query\", \"method\": \"GET\", \"name\": \"QueryGetterFeature\", \"uri_param\": \"_:b16\"}, {\"@id\": \"_:b7\", \"feature\": \"http://localhost:8181//StreamRegistrationFeature\", \"body\": \"{\\\"source\\\":\\\"http://www.w3.org/2001/XMLSchema#string\\\"}\", \"body_param\": \"_:b12\", \"endpoint\": \"/streams/:stream\", \"method\": \"POST\", \"name\": \"StreamRegistrationFeature\", \"uri_param\": \"_:b13\"}, {\"@id\": \"_:b8\", \"@type\": \"xsd:string\", \"index\": \"0\", \"name\": \"tbox\"}, {\"@id\": \"_:b9\", \"index\": \"0\", \"name\": \"stream\", \"type\": \"xsd:string\"}, {\"@id\": \"http://localhost:8181/jasper\", \"@type\": \"vsd:ProcessingService\", \"base\": \"http://localhost:8181/jasper\", \"hasService\": [\"_:b0\", \"_:b1\", \"_:b2\", \"_:b3\", \"_:b4\", \"_:b5\", \"_:b6\", \"_:b7\"]}], \"@context\": {\"hasService\": {\"@id\": \"http://w3id.org/rsp/vocals-sd#hasService\", \"@type\": \"@id\"}, \"base\": {\"@id\": \"http://w3id.org/rsp/vocals-sd#base\"}, \"index\": {\"@id\": \"http://w3id.org/rsp/vocals-sd#index\"}, \"name\": {\"@id\": \"http://w3id.org/rsp/vocals-sd#name\"}, \"method\": {\"@id\": \"http://w3id.org/rsp/vocals-sd#method\"}, \"endpoint\": {\"@id\": \"http://w3id.org/rsp/vocals-sd#endpoint\"}, \"feature\": {\"@id\": \"http://w3id.org/rsp/vocals#feature\", \"@type\": \"@id\"}, \"uri_param\": {\"@id\": \"http://w3id.org/rsp/vocals-sd#uri_param\", \"@type\": \"@id\"}, \"body\": {\"@id\": \"http://w3id.org/rsp/vocals-sd#body\"}, \"body_param\": {\"@id\": \"http://w3id.org/rsp/vocals-sd#body_param\", \"@type\": \"@id\"}, \"type\": {\"@id\": \"http://w3id.org/rsp/vocals-sd#type\", \"@type\": \"@id\"}, \"frmt\": \"http://www.w3.org/ns/formats/\", \"vsd\": \"http://w3id.org/rsp/vocals-sd#\", \"vocals\": \"http://w3id.org/rsp/vocals#\", \"xsd\": \"http://www.w3.org/2001/XMLSchema#\"}}))\n",
       "        });\n",
       "        "
      ]
     },
     "metadata": {},
     "output_type": "display_data"
    }
   ],
   "source": [
    "RenderJSON(e)"
   ]
  },
  {
   "cell_type": "code",
   "execution_count": 174,
   "metadata": {},
   "outputs": [],
   "source": [
    "l = requests.get(engine + \"/jasper/streams\").json()"
   ]
  },
  {
   "cell_type": "code",
   "execution_count": 175,
   "metadata": {},
   "outputs": [
    {
     "data": {
      "text/html": [
       "<div id=\"b8275e89-4047-433c-83cb-15084f7e56f5\" style=\"height: 150px; width:100%;\"></div>"
      ]
     },
     "metadata": {},
     "output_type": "display_data"
    },
    {
     "data": {
      "application/javascript": [
       "\n",
       "        require([\"https://cdn.jsdelivr.net/gh/caldwell/renderjson/renderjson.js\"], function() {\n",
       "          document.getElementById('b8275e89-4047-433c-83cb-15084f7e56f5').appendChild(renderjson([{\"iri\": \"http://localhost:1255/red\"}, {\"iri\": \"http://localhost:8181/jasper/streams/q2\"}]))\n",
       "        });\n",
       "        "
      ]
     },
     "metadata": {},
     "output_type": "display_data"
    }
   ],
   "source": [
    "RenderJSON(l)"
   ]
  },
  {
   "cell_type": "code",
   "execution_count": 176,
   "metadata": {},
   "outputs": [],
   "source": [
    "qs = requests.get(engine + \"/jasper/queries\").json()"
   ]
  },
  {
   "cell_type": "code",
   "execution_count": 177,
   "metadata": {},
   "outputs": [
    {
     "data": {
      "text/html": [
       "<div id=\"e55b4d64-68ed-4253-b092-a937f53ff0ce\" style=\"height: 150px; width:100%;\"></div>"
      ]
     },
     "metadata": {},
     "output_type": "display_data"
    },
    {
     "data": {
      "application/javascript": [
       "\n",
       "        require([\"https://cdn.jsdelivr.net/gh/caldwell/renderjson/renderjson.js\"], function() {\n",
       "          document.getElementById('e55b4d64-68ed-4253-b092-a937f53ff0ce').appendChild(renderjson([{\"iri\": \"http://localhost:8181/jasper/queries/q2\"}]))\n",
       "        });\n",
       "        "
      ]
     },
     "metadata": {},
     "output_type": "display_data"
    }
   ],
   "source": [
    "RenderJSON(qs)"
   ]
  },
  {
   "cell_type": "code",
   "execution_count": 270,
   "metadata": {},
   "outputs": [
    {
     "data": {
      "text/html": [
       "<div id=\"0d1dec33-6130-42ec-8cbd-dafda1b54eac\" style=\"height: 150px; width:100%;\"></div>"
      ]
     },
     "metadata": {},
     "output_type": "display_data"
    },
    {
     "data": {
      "application/javascript": [
       "\n",
       "        require([\"https://cdn.jsdelivr.net/gh/caldwell/renderjson/renderjson.js\"], function() {\n",
       "          document.getElementById('0d1dec33-6130-42ec-8cbd-dafda1b54eac').appendChild(renderjson({\"id\": \"q1\", \"tbox\": \"file:///Users/riccardo/Desktop/colors.owl\", \"body\": \"CONSTRUCT {?s ?p ?o} FROM NAMED WINDOW <w1> ON <http://localhost:1255/red> [RANGE PT10S STEP PT10S] WHERE { WINDOW ?w { ?s ?p ?o } }\"}))\n",
       "        });\n",
       "        "
      ]
     },
     "metadata": {},
     "output_type": "display_data"
    }
   ],
   "source": [
    "body = {\n",
    "    'id':'q1',\n",
    "    'tbox': 'file:///Users/riccardo/Desktop/colors.owl',\n",
    "    'body': 'CONSTRUCT {?s ?p ?o} FROM NAMED WINDOW <w1> ON <http://localhost:1255/red> [RANGE PT10S STEP PT10S] WHERE { WINDOW ?w { ?s ?p ?o } }'\n",
    "}\n",
    "    \n",
    "data = json.dumps(body)\n",
    "\n",
    "RenderJSON(body)"
   ]
  },
  {
   "cell_type": "code",
   "execution_count": 271,
   "metadata": {},
   "outputs": [],
   "source": [
    "q = requests.post(engine + \"/jasper/queries\", data = data, headers=default_headers).json()"
   ]
  },
  {
   "cell_type": "code",
   "execution_count": 173,
   "metadata": {},
   "outputs": [
    {
     "data": {
      "text/html": [
       "<div id=\"7cdc8635-f02a-4a35-b132-46a57e3b6e94\" style=\"height: 150px; width:100%;\"></div>"
      ]
     },
     "metadata": {},
     "output_type": "display_data"
    },
    {
     "data": {
      "application/javascript": [
       "\n",
       "        require([\"https://cdn.jsdelivr.net/gh/caldwell/renderjson/renderjson.js\"], function() {\n",
       "          document.getElementById('7cdc8635-f02a-4a35-b132-46a57e3b6e94').appendChild(renderjson({\"@id\": \"queries/q2\", \"@type\": \"vprov:Task\", \"prov:generated\": {\"@id\": \"streams/q2\"}, \"prov:uses\": {\"@id\": \"http://localhost:1255/red\"}, \"@context\": {\"@base\": \"http://localhost:8181/jasper/\", \"rdf\": \"http://www.w3.org/1999/02/22-rdf-syntax-ns#\", \"vsd\": \"http://w3id.org/rsp/vocals-sd#\", \"vocals\": \"http://w3id.org/rsp/vocals#\", \"xsd\": \"http://www.w3.org/2001/XMLSchema#\", \"format\": \"http://www.w3.org/ns/formats/\", \"rdfs\": \"http://www.w3.org/2000/01/rdf-schema#\", \"vprov\": \"http://w3id.org/rsp/vocals-prov#\", \"dcat\": \"https://www.w3.org/TR/vocab-dcat/\", \"prov\": \"http://www.w3.org/ns/prov#\"}}))\n",
       "        });\n",
       "        "
      ]
     },
     "metadata": {},
     "output_type": "display_data"
    }
   ],
   "source": [
    "RenderJSON(q)"
   ]
  },
  {
   "cell_type": "code",
   "execution_count": 272,
   "metadata": {},
   "outputs": [],
   "source": [
    "os = requests.get(engine + \"/jasper/observers/q2\").json()"
   ]
  },
  {
   "cell_type": "code",
   "execution_count": 273,
   "metadata": {},
   "outputs": [
    {
     "data": {
      "text/html": [
       "<div id=\"9f0eb68f-74a2-4e8d-a889-9d15fa9738dd\" style=\"height: 150px; width:100%;\"></div>"
      ]
     },
     "metadata": {},
     "output_type": "display_data"
    },
    {
     "data": {
      "application/javascript": [
       "\n",
       "        require([\"https://cdn.jsdelivr.net/gh/caldwell/renderjson/renderjson.js\"], function() {\n",
       "          document.getElementById('9f0eb68f-74a2-4e8d-a889-9d15fa9738dd').appendChild(renderjson([]))\n",
       "        });\n",
       "        "
      ]
     },
     "metadata": {},
     "output_type": "display_data"
    }
   ],
   "source": [
    "RenderJSON(os)"
   ]
  },
  {
   "cell_type": "code",
   "execution_count": 274,
   "metadata": {},
   "outputs": [],
   "source": [
    "data=json.dumps({ \n",
    "    'stream': engine + \"/jasper/queries/q1\",\n",
    "    'protocol': \"WEBSOCKET\" \n",
    "})"
   ]
  },
  {
   "cell_type": "code",
   "execution_count": 275,
   "metadata": {
    "scrolled": true
   },
   "outputs": [],
   "source": [
    "o = requests.post(engine + \"/jasper/observers/q1\", data = json.dumps({'protocol':\"HTTP\", \"retention\":5}) , headers=default_headers).json()"
   ]
  },
  {
   "cell_type": "code",
   "execution_count": 276,
   "metadata": {},
   "outputs": [],
   "source": [
    "os = requests.get(engine + \"/jasper/observers/q1\").json()"
   ]
  },
  {
   "cell_type": "code",
   "execution_count": 277,
   "metadata": {},
   "outputs": [
    {
     "data": {
      "text/html": [
       "<div id=\"c2410c84-95a6-413a-859c-ca1db25a3fc3\" style=\"height: 150px; width:100%;\"></div>"
      ]
     },
     "metadata": {},
     "output_type": "display_data"
    },
    {
     "data": {
      "application/javascript": [
       "\n",
       "        require([\"https://cdn.jsdelivr.net/gh/caldwell/renderjson/renderjson.js\"], function() {\n",
       "          document.getElementById('c2410c84-95a6-413a-859c-ca1db25a3fc3').appendChild(renderjson({\"@type\": \"vocals:StreamDescriptor\", \"dcat:dataset\": {\"@id\": \"http://localhost:8181/jasper/streams/q1\", \"@type\": \"vocals:RDFStream\", \"vocals:hasEndpoint\": [{\"@type\": \"vocals:StreamEndpoint\", \"dcat:accessURL\": \"http://localhost:8182/jasper/streams/q1/observers/513111409\"}]}, \"@context\": {\"dcat\": \"https://www.w3.org/TR/vocab-dcat/\", \"vocals\": \"http://w3id.org/rsp/vocals#\"}}))\n",
       "        });\n",
       "        "
      ]
     },
     "metadata": {},
     "output_type": "display_data"
    }
   ],
   "source": [
    "RenderJSON(o)"
   ]
  },
  {
   "cell_type": "code",
   "execution_count": 278,
   "metadata": {},
   "outputs": [
    {
     "data": {
      "text/html": [
       "<div id=\"34e82645-901d-4af4-a5e5-d6d415069eb9\" style=\"height: 150px; width:100%;\"></div>"
      ]
     },
     "metadata": {},
     "output_type": "display_data"
    },
    {
     "data": {
      "application/javascript": [
       "\n",
       "        require([\"https://cdn.jsdelivr.net/gh/caldwell/renderjson/renderjson.js\"], function() {\n",
       "          document.getElementById('34e82645-901d-4af4-a5e5-d6d415069eb9').appendChild(renderjson([{\"@type\": \"vocals:StreamEndpoint\", \"dcat:accessURL\": \"http://localhost:8182/jasper/streams/q1/observers/513111409\", \"@context\": {\"vocals\": \"http://w3id.org/rsp/vocals#\"}}]))\n",
       "        });\n",
       "        "
      ]
     },
     "metadata": {},
     "output_type": "display_data"
    }
   ],
   "source": [
    "RenderJSON(os)"
   ]
  },
  {
   "cell_type": "code",
   "execution_count": 280,
   "metadata": {},
   "outputs": [],
   "source": [
    "o = requests.post(engine + \"/jasper/observers/q1\", data = json.dumps({'protocol':\"WEBSOCKET\"}) , headers=default_headers).json()"
   ]
  },
  {
   "cell_type": "code",
   "execution_count": 281,
   "metadata": {},
   "outputs": [
    {
     "data": {
      "text/html": [
       "<div id=\"9d38efa9-1bad-4520-a5c7-85b6d51d6e81\" style=\"height: 150px; width:100%;\"></div>"
      ]
     },
     "metadata": {},
     "output_type": "display_data"
    },
    {
     "data": {
      "application/javascript": [
       "\n",
       "        require([\"https://cdn.jsdelivr.net/gh/caldwell/renderjson/renderjson.js\"], function() {\n",
       "          document.getElementById('9d38efa9-1bad-4520-a5c7-85b6d51d6e81').appendChild(renderjson({\"@type\": \"vocals:StreamDescriptor\", \"dcat:dataset\": {\"@id\": \"http://localhost:8181/jasper/streams/q1\", \"@type\": \"vocals:RDFStream\", \"vocals:hasEndpoint\": [{\"@type\": \"vocals:StreamEndpoint\", \"dcat:accessURL\": \"http://localhost:8182/jasper/streams/q1/observers/513111409\"}, {\"@type\": \"vocals:StreamEndpoint\", \"dcat:accessURL\": \"ws://localhost:8183/jasper/streams/q1/observers/1434964989\", \"dcat:format\": \"frmt:JSON-LD\", \"vsd:publishedBy\": \"http://localhost:8181/jasper\"}]}, \"@context\": {\"dcat\": \"http://www.w3.org/ns/dcat#\", \"vocals\": \"http://w3id.org/rsp/vocals#\", \"vsd\": \"http://w3id.org/rsp/vocals-sd#\"}}))\n",
       "        });\n",
       "        "
      ]
     },
     "metadata": {},
     "output_type": "display_data"
    }
   ],
   "source": [
    "RenderJSON(o)"
   ]
  },
  {
   "cell_type": "code",
   "execution_count": 287,
   "metadata": {},
   "outputs": [
    {
     "data": {
      "text/html": [
       "<div id=\"5117607a-f213-42b2-a377-26c5e163b67b\" style=\"height: 150px; width:100%;\"></div>"
      ]
     },
     "metadata": {},
     "output_type": "display_data"
    },
    {
     "data": {
      "application/javascript": [
       "\n",
       "        require([\"https://cdn.jsdelivr.net/gh/caldwell/renderjson/renderjson.js\"], function() {\n",
       "          document.getElementById('5117607a-f213-42b2-a377-26c5e163b67b').appendChild(renderjson({\"id\": \"q2\", \"tbox\": \"file:///Users/riccardo/Desktop/colors.owl\", \"body\": \"CONSTRUCT {?s ?p ?o} FROM NAMED WINDOW <w1> ON <http://localhost:8181/jasper/streams/q9> [RANGE PT10S STEP PT10S] WHERE { WINDOW ?w { ?s ?p ?o } }\"}))\n",
       "        });\n",
       "        "
      ]
     },
     "metadata": {},
     "output_type": "display_data"
    }
   ],
   "source": [
    "body = {\n",
    "    'id':'q2',\n",
    "    'tbox': 'file:///Users/riccardo/Desktop/colors.owl',\n",
    "    'body': 'CONSTRUCT {?s ?p ?o} FROM NAMED WINDOW <w1> ON <http://localhost:8181/jasper/streams/q1> [RANGE PT10S STEP PT10S] WHERE { WINDOW ?w { ?s ?p ?o } }'\n",
    "}\n",
    "    \n",
    "data = json.dumps(body)\n",
    "\n",
    "RenderJSON(body)\n"
   ]
  },
  {
   "cell_type": "code",
   "execution_count": 288,
   "metadata": {},
   "outputs": [],
   "source": [
    "q = requests.post(engine + \"/jasper/queries\", data = data, headers=default_headers)"
   ]
  },
  {
   "cell_type": "code",
   "execution_count": 289,
   "metadata": {},
   "outputs": [
    {
     "data": {
      "text/plain": [
       "'Not found: http://localhost:8181/jasper/streams/q9'"
      ]
     },
     "execution_count": 289,
     "metadata": {},
     "output_type": "execute_result"
    }
   ],
   "source": [
    "q.text"
   ]
  },
  {
   "cell_type": "code",
   "execution_count": 286,
   "metadata": {},
   "outputs": [
    {
     "data": {
      "text/html": [
       "<div id=\"5e594567-def6-4176-b4ab-a0057426ef1d\" style=\"height: 150px; width:100%;\"></div>"
      ]
     },
     "metadata": {},
     "output_type": "display_data"
    },
    {
     "data": {
      "application/javascript": [
       "\n",
       "        require([\"https://cdn.jsdelivr.net/gh/caldwell/renderjson/renderjson.js\"], function() {\n",
       "          document.getElementById('5e594567-def6-4176-b4ab-a0057426ef1d').appendChild(renderjson({\"@id\": \"queries/q2\", \"@type\": \"vprov:Task\", \"prov:generated\": {\"@id\": \"streams/q2\"}, \"prov:uses\": {\"@id\": \"streams/q1\"}, \"@context\": {\"@base\": \"http://localhost:8181/jasper/\", \"rdf\": \"http://www.w3.org/1999/02/22-rdf-syntax-ns#\", \"vsd\": \"http://w3id.org/rsp/vocals-sd#\", \"vocals\": \"http://w3id.org/rsp/vocals#\", \"xsd\": \"http://www.w3.org/2001/XMLSchema#\", \"format\": \"http://www.w3.org/ns/formats/\", \"rdfs\": \"http://www.w3.org/2000/01/rdf-schema#\", \"vprov\": \"http://w3id.org/rsp/vocals-prov#\", \"dcat\": \"http://www.w3.org/ns/dcat#\", \"prov\": \"http://www.w3.org/ns/prov#\"}}))\n",
       "        });\n",
       "        "
      ]
     },
     "metadata": {},
     "output_type": "display_data"
    }
   ],
   "source": [
    "RenderJSON(q.json())"
   ]
  },
  {
   "cell_type": "code",
   "execution_count": 1,
   "metadata": {},
   "outputs": [],
   "source": [
    "from rdflib import Graph, ConjunctiveGraph, plugin,URIRef\n",
    "import requests, json\n",
    "import pprint\n",
    "from rdflib.plugin import register, Parser, Serializer\n",
    "register('json-ld', Parser, 'rdflib_jsonld.parser', 'JsonLDParser')\n",
    "register('json-ld', Serializer, 'rdflib_jsonld.serializer', 'JsonLDSerializer')"
   ]
  },
  {
   "cell_type": "code",
   "execution_count": 2,
   "metadata": {},
   "outputs": [],
   "source": [
    "a = requests.get(\"http://docker.for.mac.localhost:4255/red\").json()"
   ]
  },
  {
   "cell_type": "code",
   "execution_count": 3,
   "metadata": {},
   "outputs": [],
   "source": [
    "data = json.dumps(a)"
   ]
  },
  {
   "cell_type": "code",
   "execution_count": 20,
   "metadata": {},
   "outputs": [],
   "source": [
    "foo = ConjunctiveGraph()\n",
    "bar = foo.parse(data=data, format='json-ld')\n",
    "bar = foo.serialize(destination=None, format='json-ld')"
   ]
  },
  {
   "cell_type": "code",
   "execution_count": 24,
   "metadata": {},
   "outputs": [
    {
     "data": {
      "text/plain": [
       "bytes"
      ]
     },
     "execution_count": 24,
     "metadata": {},
     "output_type": "execute_result"
    }
   ],
   "source": [
    "type(bar)"
   ]
  },
  {
   "cell_type": "code",
   "execution_count": 17,
   "metadata": {},
   "outputs": [],
   "source": [
    "import pandas as pd"
   ]
  },
  {
   "cell_type": "code",
   "execution_count": 20,
   "metadata": {},
   "outputs": [],
   "source": [
    "data = [[t[0],t[1],t[2]] for t in list(foo)]\n",
    "\n",
    "df = pd.DataFrame(data=data, columns=['Subject', 'Predicate', 'Object'])"
   ]
  },
  {
   "cell_type": "code",
   "execution_count": 21,
   "metadata": {},
   "outputs": [
    {
     "data": {
      "text/html": [
       "<div>\n",
       "<table border=\"1\" class=\"dataframe\">\n",
       "  <thead>\n",
       "    <tr style=\"text-align: right;\">\n",
       "      <th></th>\n",
       "      <th>Subject</th>\n",
       "      <th>Predicate</th>\n",
       "      <th>Object</th>\n",
       "    </tr>\n",
       "  </thead>\n",
       "  <tbody>\n",
       "    <tr>\n",
       "      <th>0</th>\n",
       "      <td>http://redstream:1255/red</td>\n",
       "      <td>http://w3id.org/rsp/vocals#hasEndpoint</td>\n",
       "      <td>http://redstream:1255/RedColorStreamEndpoint</td>\n",
       "    </tr>\n",
       "    <tr>\n",
       "      <th>1</th>\n",
       "      <td>http://redstream:1255/red</td>\n",
       "      <td>http://www.w3.org/ns/dcat#landingPage</td>\n",
       "      <td>https://example.org/color/red/</td>\n",
       "    </tr>\n",
       "    <tr>\n",
       "      <th>2</th>\n",
       "      <td>http://redstream:1255/RedColorStreamEndpoint</td>\n",
       "      <td>http://www.w3.org/1999/02/22-rdf-syntax-ns#type</td>\n",
       "      <td>http://w3id.org/rsp/vocals#StreamEndpoint</td>\n",
       "    </tr>\n",
       "    <tr>\n",
       "      <th>3</th>\n",
       "      <td>http://redstream:1255/red</td>\n",
       "      <td>http://www.w3.org/1999/02/22-rdf-syntax-ns#type</td>\n",
       "      <td>http://w3id.org/rsp/vocals#StreamDescriptor</td>\n",
       "    </tr>\n",
       "    <tr>\n",
       "      <th>4</th>\n",
       "      <td>http://redstream:1255/red</td>\n",
       "      <td>http://www.w3.org/1999/02/22-rdf-syntax-ns#type</td>\n",
       "      <td>http://w3id.org/rsp/vocals#RDFStream</td>\n",
       "    </tr>\n",
       "    <tr>\n",
       "      <th>5</th>\n",
       "      <td>http://redstream:1255/RedColorStreamEndpoint</td>\n",
       "      <td>http://www.w3.org/ns/dcat#accessURL</td>\n",
       "      <td>ws://redstream:2551/red</td>\n",
       "    </tr>\n",
       "    <tr>\n",
       "      <th>6</th>\n",
       "      <td>http://redstream:1255/RedColorStreamEndpoint</td>\n",
       "      <td>http://www.w3.org/ns/dcat#license</td>\n",
       "      <td>https://creativecommons.org/licenses/by-nc/4.0/</td>\n",
       "    </tr>\n",
       "    <tr>\n",
       "      <th>7</th>\n",
       "      <td>http://redstream:1255/RedColorStreamEndpoint</td>\n",
       "      <td>http://www.w3.org/ns/dcat#description</td>\n",
       "      <td>Streaming endpoint to consume Red color instan...</td>\n",
       "    </tr>\n",
       "    <tr>\n",
       "      <th>8</th>\n",
       "      <td>http://redstream:1255/RedColorStreamEndpoint</td>\n",
       "      <td>http://www.w3.org/ns/dcat#format</td>\n",
       "      <td>http://www.w3.org/ns/formats/JSON-LD</td>\n",
       "    </tr>\n",
       "    <tr>\n",
       "      <th>9</th>\n",
       "      <td>http://redstream:1255/RedColorStreamEndpoint</td>\n",
       "      <td>http://w3id.org/rsp/vocals-sd#publishedBy</td>\n",
       "      <td>http://streamhub:9292/streamhub</td>\n",
       "    </tr>\n",
       "    <tr>\n",
       "      <th>10</th>\n",
       "      <td>http://streamhub:9292/streamhub</td>\n",
       "      <td>http://w3id.org/rsp/vocals-sd#resultFormat</td>\n",
       "      <td>http://www.w3.org/ns/formats/JSON-LD</td>\n",
       "    </tr>\n",
       "    <tr>\n",
       "      <th>11</th>\n",
       "      <td>http://redstream:1255/red</td>\n",
       "      <td>http://www.w3.org/ns/dcat#publisher</td>\n",
       "      <td>http://streamhub:9292/streamhub</td>\n",
       "    </tr>\n",
       "    <tr>\n",
       "      <th>12</th>\n",
       "      <td>http://streamhub:9292/streamhub</td>\n",
       "      <td>http://www.w3.org/1999/02/22-rdf-syntax-ns#type</td>\n",
       "      <td>http://w3id.org/rsp/vocals-sd#PublishingService</td>\n",
       "    </tr>\n",
       "    <tr>\n",
       "      <th>13</th>\n",
       "      <td>http://redstream:1255/red</td>\n",
       "      <td>http://www.w3.org/ns/dcat#title</td>\n",
       "      <td>Red Color Stream</td>\n",
       "    </tr>\n",
       "    <tr>\n",
       "      <th>14</th>\n",
       "      <td>http://redstream:1255/red</td>\n",
       "      <td>http://www.w3.org/ns/dcat#description</td>\n",
       "      <td>Periodically produces instances of the Red Col...</td>\n",
       "    </tr>\n",
       "    <tr>\n",
       "      <th>15</th>\n",
       "      <td>http://redstream:1255/RedColorStreamEndpoint</td>\n",
       "      <td>http://www.w3.org/ns/dcat#title</td>\n",
       "      <td>Red Color Stream Endpoint</td>\n",
       "    </tr>\n",
       "    <tr>\n",
       "      <th>16</th>\n",
       "      <td>http://streamhub:9292/streamhub</td>\n",
       "      <td>http://w3id.org/rsp/vocals-sd#hasFeature</td>\n",
       "      <td>http://w3id.org/rsp/vocals-sd#replaying</td>\n",
       "    </tr>\n",
       "  </tbody>\n",
       "</table>\n",
       "</div>"
      ],
      "text/plain": [
       "                                         Subject  \\\n",
       "0                      http://redstream:1255/red   \n",
       "1                      http://redstream:1255/red   \n",
       "2   http://redstream:1255/RedColorStreamEndpoint   \n",
       "3                      http://redstream:1255/red   \n",
       "4                      http://redstream:1255/red   \n",
       "5   http://redstream:1255/RedColorStreamEndpoint   \n",
       "6   http://redstream:1255/RedColorStreamEndpoint   \n",
       "7   http://redstream:1255/RedColorStreamEndpoint   \n",
       "8   http://redstream:1255/RedColorStreamEndpoint   \n",
       "9   http://redstream:1255/RedColorStreamEndpoint   \n",
       "10               http://streamhub:9292/streamhub   \n",
       "11                     http://redstream:1255/red   \n",
       "12               http://streamhub:9292/streamhub   \n",
       "13                     http://redstream:1255/red   \n",
       "14                     http://redstream:1255/red   \n",
       "15  http://redstream:1255/RedColorStreamEndpoint   \n",
       "16               http://streamhub:9292/streamhub   \n",
       "\n",
       "                                          Predicate  \\\n",
       "0            http://w3id.org/rsp/vocals#hasEndpoint   \n",
       "1             http://www.w3.org/ns/dcat#landingPage   \n",
       "2   http://www.w3.org/1999/02/22-rdf-syntax-ns#type   \n",
       "3   http://www.w3.org/1999/02/22-rdf-syntax-ns#type   \n",
       "4   http://www.w3.org/1999/02/22-rdf-syntax-ns#type   \n",
       "5               http://www.w3.org/ns/dcat#accessURL   \n",
       "6                 http://www.w3.org/ns/dcat#license   \n",
       "7             http://www.w3.org/ns/dcat#description   \n",
       "8                  http://www.w3.org/ns/dcat#format   \n",
       "9         http://w3id.org/rsp/vocals-sd#publishedBy   \n",
       "10       http://w3id.org/rsp/vocals-sd#resultFormat   \n",
       "11              http://www.w3.org/ns/dcat#publisher   \n",
       "12  http://www.w3.org/1999/02/22-rdf-syntax-ns#type   \n",
       "13                  http://www.w3.org/ns/dcat#title   \n",
       "14            http://www.w3.org/ns/dcat#description   \n",
       "15                  http://www.w3.org/ns/dcat#title   \n",
       "16         http://w3id.org/rsp/vocals-sd#hasFeature   \n",
       "\n",
       "                                               Object  \n",
       "0        http://redstream:1255/RedColorStreamEndpoint  \n",
       "1                      https://example.org/color/red/  \n",
       "2           http://w3id.org/rsp/vocals#StreamEndpoint  \n",
       "3         http://w3id.org/rsp/vocals#StreamDescriptor  \n",
       "4                http://w3id.org/rsp/vocals#RDFStream  \n",
       "5                             ws://redstream:2551/red  \n",
       "6     https://creativecommons.org/licenses/by-nc/4.0/  \n",
       "7   Streaming endpoint to consume Red color instan...  \n",
       "8                http://www.w3.org/ns/formats/JSON-LD  \n",
       "9                     http://streamhub:9292/streamhub  \n",
       "10               http://www.w3.org/ns/formats/JSON-LD  \n",
       "11                    http://streamhub:9292/streamhub  \n",
       "12    http://w3id.org/rsp/vocals-sd#PublishingService  \n",
       "13                                   Red Color Stream  \n",
       "14  Periodically produces instances of the Red Col...  \n",
       "15                          Red Color Stream Endpoint  \n",
       "16            http://w3id.org/rsp/vocals-sd#replaying  "
      ]
     },
     "execution_count": 21,
     "metadata": {},
     "output_type": "execute_result"
    }
   ],
   "source": [
    "df"
   ]
  },
  {
   "cell_type": "code",
   "execution_count": 101,
   "metadata": {},
   "outputs": [
    {
     "data": {
      "text/plain": [
       "['ws://redstream:2551/red']"
      ]
     },
     "execution_count": 101,
     "metadata": {},
     "output_type": "execute_result"
    }
   ],
   "source": [
    "accessURL = URIRef(\"http://www.w3.org/ns/dcat#accessURL\")\n",
    "[o.value for s,p,o in foo.triples( (None,accessURL,None))]\n",
    "\n",
    "\n"
   ]
  },
  {
   "cell_type": "code",
   "execution_count": 94,
   "metadata": {},
   "outputs": [
    {
     "ename": "AttributeError",
     "evalue": "'bytes' object has no attribute 'query'",
     "output_type": "error",
     "traceback": [
      "\u001b[0;31m---------------------------------------------------------------------------\u001b[0m",
      "\u001b[0;31mAttributeError\u001b[0m                            Traceback (most recent call last)",
      "\u001b[0;32m<ipython-input-94-23126e9b7679>\u001b[0m in \u001b[0;36m<module>\u001b[0;34m()\u001b[0m\n\u001b[0;32m----> 1\u001b[0;31m qres = g.query('''PREFIX vsd: <http://w3id.org/rsp/vocals-sd#>\n\u001b[0m\u001b[1;32m      2\u001b[0m \u001b[0mPREFIX\u001b[0m \u001b[0mvocals\u001b[0m\u001b[0;34m:\u001b[0m \u001b[0;34m<\u001b[0m\u001b[0mhttp\u001b[0m\u001b[0;34m:\u001b[0m\u001b[0;34m//\u001b[0m\u001b[0mw3id\u001b[0m\u001b[0;34m.\u001b[0m\u001b[0morg\u001b[0m\u001b[0;34m/\u001b[0m\u001b[0mrsp\u001b[0m\u001b[0;34m/\u001b[0m\u001b[0mvocals\u001b[0m\u001b[0;31m#>\u001b[0m\u001b[0;34m\u001b[0m\u001b[0m\n\u001b[1;32m      3\u001b[0m \u001b[0mPREFIX\u001b[0m \u001b[0mdcat\u001b[0m\u001b[0;34m:\u001b[0m \u001b[0;34m<\u001b[0m\u001b[0mhttp\u001b[0m\u001b[0;34m:\u001b[0m\u001b[0;34m//\u001b[0m\u001b[0mwww\u001b[0m\u001b[0;34m.\u001b[0m\u001b[0mw3\u001b[0m\u001b[0;34m.\u001b[0m\u001b[0morg\u001b[0m\u001b[0;34m/\u001b[0m\u001b[0mns\u001b[0m\u001b[0;34m/\u001b[0m\u001b[0mdcat\u001b[0m\u001b[0;31m#>\u001b[0m\u001b[0;34m\u001b[0m\u001b[0m\n\u001b[1;32m      4\u001b[0m \u001b[0;34m\u001b[0m\u001b[0m\n\u001b[1;32m      5\u001b[0m \u001b[0mSELECT\u001b[0m \u001b[0;34m*\u001b[0m\u001b[0;34m\u001b[0m\u001b[0m\n",
      "\u001b[0;31mAttributeError\u001b[0m: 'bytes' object has no attribute 'query'"
     ]
    }
   ],
   "source": [
    "qres = g.query('''PREFIX vsd: <http://w3id.org/rsp/vocals-sd#>\n",
    "PREFIX vocals: <http://w3id.org/rsp/vocals#>\n",
    "PREFIX dcat: <http://www.w3.org/ns/dcat#>\n",
    "\n",
    "SELECT *\n",
    "WHERE {\n",
    "\n",
    "    ?endpoint dcat:accessURL ?url ;\n",
    "              dcat:format ?format ;\n",
    "              vsd:publishedBy ?service .\n",
    "\n",
    "\n",
    "\n",
    "}''')\n",
    "\n",
    "for t in g.triples():\n",
    "   print(t)"
   ]
  },
  {
   "cell_type": "code",
   "execution_count": 103,
   "metadata": {},
   "outputs": [
    {
     "ename": "ModuleNotFoundError",
     "evalue": "No module named 'rsplib'",
     "output_type": "error",
     "traceback": [
      "\u001b[0;31m---------------------------------------------------------------------------\u001b[0m",
      "\u001b[0;31mModuleNotFoundError\u001b[0m                       Traceback (most recent call last)",
      "\u001b[0;32m<ipython-input-103-d6f874bcc757>\u001b[0m in \u001b[0;36m<module>\u001b[0;34m()\u001b[0m\n\u001b[0;32m----> 1\u001b[0;31m \u001b[0;32mfrom\u001b[0m \u001b[0mrsplib\u001b[0m \u001b[0;32mimport\u001b[0m \u001b[0mStream\u001b[0m\u001b[0;34m\u001b[0m\u001b[0m\n\u001b[0m",
      "\u001b[0;31mModuleNotFoundError\u001b[0m: No module named 'rsplib'"
     ]
    }
   ],
   "source": [
    "from rsplib import Stream"
   ]
  },
  {
   "cell_type": "code",
   "execution_count": null,
   "metadata": {},
   "outputs": [],
   "source": []
  }
 ],
 "metadata": {
  "kernelspec": {
   "display_name": "Python 3",
   "language": "python",
   "name": "python3"
  },
  "language_info": {
   "codemirror_mode": {
    "name": "ipython",
    "version": 3
   },
   "file_extension": ".py",
   "mimetype": "text/x-python",
   "name": "python",
   "nbconvert_exporter": "python",
   "pygments_lexer": "ipython3",
   "version": "3.6.2"
  }
 },
 "nbformat": 4,
 "nbformat_minor": 2
}
