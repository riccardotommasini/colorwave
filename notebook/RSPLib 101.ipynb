{
 "cells": [
  {
   "cell_type": "code",
   "execution_count": 1,
   "metadata": {},
   "outputs": [],
   "source": [
    "from rsplib import RSPEngine, RSPPublisher, Stream\n",
    "import requests"
   ]
  },
  {
   "cell_type": "code",
   "execution_count": 2,
   "metadata": {},
   "outputs": [],
   "source": [
    "jasper = RSPEngine(\"http://jasper:8181/jasper\")"
   ]
  },
  {
   "cell_type": "code",
   "execution_count": 4,
   "metadata": {},
   "outputs": [
    {
     "data": {
      "text/html": [
       "<div>\n",
       "<table border=\"1\" class=\"dataframe\">\n",
       "  <thead>\n",
       "    <tr style=\"text-align: right;\">\n",
       "      <th></th>\n",
       "      <th>Subject</th>\n",
       "      <th>Predicate</th>\n",
       "      <th>Object</th>\n",
       "    </tr>\n",
       "  </thead>\n",
       "  <tbody>\n",
       "    <tr>\n",
       "      <th>0</th>\n",
       "      <td>b8</td>\n",
       "      <td>http://w3id.org/rsp/vocals-sd#method</td>\n",
       "      <td>DELETE</td>\n",
       "    </tr>\n",
       "    <tr>\n",
       "      <th>1</th>\n",
       "      <td>b1</td>\n",
       "      <td>http://w3id.org/rsp/vocals#feature</td>\n",
       "      <td>http://localhost:8181//QueryGetterFeature</td>\n",
       "    </tr>\n",
       "    <tr>\n",
       "      <th>2</th>\n",
       "      <td>http://localhost:8181/jasper</td>\n",
       "      <td>http://w3id.org/rsp/vocals-sd#hasService</td>\n",
       "      <td>b7</td>\n",
       "    </tr>\n",
       "    <tr>\n",
       "      <th>3</th>\n",
       "      <td>b4</td>\n",
       "      <td>http://w3id.org/rsp/vocals-sd#body_param</td>\n",
       "      <td>b15</td>\n",
       "    </tr>\n",
       "    <tr>\n",
       "      <th>4</th>\n",
       "      <td>b7</td>\n",
       "      <td>http://w3id.org/rsp/vocals#feature</td>\n",
       "      <td>http://localhost:8181//StreamsGetterFeature</td>\n",
       "    </tr>\n",
       "    <tr>\n",
       "      <th>5</th>\n",
       "      <td>b5</td>\n",
       "      <td>http://w3id.org/rsp/vocals-sd#uri_param</td>\n",
       "      <td>b19</td>\n",
       "    </tr>\n",
       "    <tr>\n",
       "      <th>6</th>\n",
       "      <td>b9</td>\n",
       "      <td>http://w3id.org/rsp/vocals-sd#name</td>\n",
       "      <td>query</td>\n",
       "    </tr>\n",
       "    <tr>\n",
       "      <th>7</th>\n",
       "      <td>b9</td>\n",
       "      <td>http://w3id.org/rsp/vocals-sd#index</td>\n",
       "      <td>0</td>\n",
       "    </tr>\n",
       "    <tr>\n",
       "      <th>8</th>\n",
       "      <td>b10</td>\n",
       "      <td>http://w3id.org/rsp/vocals-sd#name</td>\n",
       "      <td>body</td>\n",
       "    </tr>\n",
       "    <tr>\n",
       "      <th>9</th>\n",
       "      <td>b0</td>\n",
       "      <td>http://w3id.org/rsp/vocals-sd#index</td>\n",
       "      <td>0</td>\n",
       "    </tr>\n",
       "    <tr>\n",
       "      <th>10</th>\n",
       "      <td>http://localhost:8181/jasper</td>\n",
       "      <td>http://w3id.org/rsp/vocals-sd#hasService</td>\n",
       "      <td>b8</td>\n",
       "    </tr>\n",
       "    <tr>\n",
       "      <th>11</th>\n",
       "      <td>b4</td>\n",
       "      <td>http://w3id.org/rsp/vocals-sd#body</td>\n",
       "      <td>{\"id\":\"http://www.w3.org/2001/XMLSchema#string...</td>\n",
       "    </tr>\n",
       "    <tr>\n",
       "      <th>12</th>\n",
       "      <td>b19</td>\n",
       "      <td>http://w3id.org/rsp/vocals-sd#index</td>\n",
       "      <td>0</td>\n",
       "    </tr>\n",
       "    <tr>\n",
       "      <th>13</th>\n",
       "      <td>b2</td>\n",
       "      <td>http://w3id.org/rsp/vocals-sd#name</td>\n",
       "      <td>QueriesGetterFeature</td>\n",
       "    </tr>\n",
       "    <tr>\n",
       "      <th>14</th>\n",
       "      <td>b19</td>\n",
       "      <td>http://w3id.org/rsp/vocals-sd#type</td>\n",
       "      <td>http://www.w3.org/2001/XMLSchema#string</td>\n",
       "    </tr>\n",
       "    <tr>\n",
       "      <th>15</th>\n",
       "      <td>b8</td>\n",
       "      <td>http://w3id.org/rsp/vocals-sd#endpoint</td>\n",
       "      <td>/queries/:query</td>\n",
       "    </tr>\n",
       "    <tr>\n",
       "      <th>16</th>\n",
       "      <td>b3</td>\n",
       "      <td>http://w3id.org/rsp/vocals-sd#endpoint</td>\n",
       "      <td>/streams/:stream</td>\n",
       "    </tr>\n",
       "    <tr>\n",
       "      <th>17</th>\n",
       "      <td>b13</td>\n",
       "      <td>http://www.w3.org/1999/02/22-rdf-syntax-ns#type</td>\n",
       "      <td>http://www.w3.org/2001/XMLSchema#string</td>\n",
       "    </tr>\n",
       "    <tr>\n",
       "      <th>18</th>\n",
       "      <td>b6</td>\n",
       "      <td>http://w3id.org/rsp/vocals#feature</td>\n",
       "      <td>http://localhost:8181//StreamGetterFeature</td>\n",
       "    </tr>\n",
       "    <tr>\n",
       "      <th>19</th>\n",
       "      <td>b5</td>\n",
       "      <td>http://w3id.org/rsp/vocals#feature</td>\n",
       "      <td>http://localhost:8181//StreamRegistrationFeature</td>\n",
       "    </tr>\n",
       "    <tr>\n",
       "      <th>20</th>\n",
       "      <td>b7</td>\n",
       "      <td>http://w3id.org/rsp/vocals-sd#endpoint</td>\n",
       "      <td>/streams</td>\n",
       "    </tr>\n",
       "    <tr>\n",
       "      <th>21</th>\n",
       "      <td>b5</td>\n",
       "      <td>http://w3id.org/rsp/vocals-sd#body_param</td>\n",
       "      <td>b13</td>\n",
       "    </tr>\n",
       "    <tr>\n",
       "      <th>22</th>\n",
       "      <td>b7</td>\n",
       "      <td>http://w3id.org/rsp/vocals-sd#method</td>\n",
       "      <td>GET</td>\n",
       "    </tr>\n",
       "    <tr>\n",
       "      <th>23</th>\n",
       "      <td>b4</td>\n",
       "      <td>http://w3id.org/rsp/vocals-sd#name</td>\n",
       "      <td>QueryRegistrationFeature</td>\n",
       "    </tr>\n",
       "    <tr>\n",
       "      <th>24</th>\n",
       "      <td>b18</td>\n",
       "      <td>http://w3id.org/rsp/vocals-sd#index</td>\n",
       "      <td>0</td>\n",
       "    </tr>\n",
       "    <tr>\n",
       "      <th>25</th>\n",
       "      <td>b3</td>\n",
       "      <td>http://w3id.org/rsp/vocals#feature</td>\n",
       "      <td>http://localhost:8181//StreamDeletionFeature</td>\n",
       "    </tr>\n",
       "    <tr>\n",
       "      <th>26</th>\n",
       "      <td>b8</td>\n",
       "      <td>http://w3id.org/rsp/vocals-sd#name</td>\n",
       "      <td>QueryDeletionFeature</td>\n",
       "    </tr>\n",
       "    <tr>\n",
       "      <th>27</th>\n",
       "      <td>b16</td>\n",
       "      <td>http://w3id.org/rsp/vocals-sd#type</td>\n",
       "      <td>http://www.w3.org/2001/XMLSchema#string</td>\n",
       "    </tr>\n",
       "    <tr>\n",
       "      <th>28</th>\n",
       "      <td>b4</td>\n",
       "      <td>http://w3id.org/rsp/vocals#feature</td>\n",
       "      <td>http://localhost:8181//QueryRegistrationFeature</td>\n",
       "    </tr>\n",
       "    <tr>\n",
       "      <th>29</th>\n",
       "      <td>b19</td>\n",
       "      <td>http://w3id.org/rsp/vocals-sd#name</td>\n",
       "      <td>stream</td>\n",
       "    </tr>\n",
       "    <tr>\n",
       "      <th>...</th>\n",
       "      <td>...</td>\n",
       "      <td>...</td>\n",
       "      <td>...</td>\n",
       "    </tr>\n",
       "    <tr>\n",
       "      <th>56</th>\n",
       "      <td>b0</td>\n",
       "      <td>http://w3id.org/rsp/vocals-sd#name</td>\n",
       "      <td>format</td>\n",
       "    </tr>\n",
       "    <tr>\n",
       "      <th>57</th>\n",
       "      <td>b8</td>\n",
       "      <td>http://w3id.org/rsp/vocals#feature</td>\n",
       "      <td>http://localhost:8181//QueryDeletionFeature</td>\n",
       "    </tr>\n",
       "    <tr>\n",
       "      <th>58</th>\n",
       "      <td>b2</td>\n",
       "      <td>http://w3id.org/rsp/vocals-sd#method</td>\n",
       "      <td>GET</td>\n",
       "    </tr>\n",
       "    <tr>\n",
       "      <th>59</th>\n",
       "      <td>b13</td>\n",
       "      <td>http://w3id.org/rsp/vocals-sd#index</td>\n",
       "      <td>1</td>\n",
       "    </tr>\n",
       "    <tr>\n",
       "      <th>60</th>\n",
       "      <td>b11</td>\n",
       "      <td>http://w3id.org/rsp/vocals-sd#index</td>\n",
       "      <td>0</td>\n",
       "    </tr>\n",
       "    <tr>\n",
       "      <th>61</th>\n",
       "      <td>b18</td>\n",
       "      <td>http://www.w3.org/1999/02/22-rdf-syntax-ns#type</td>\n",
       "      <td>http://www.w3.org/2001/XMLSchema#string</td>\n",
       "    </tr>\n",
       "    <tr>\n",
       "      <th>62</th>\n",
       "      <td>b1</td>\n",
       "      <td>http://w3id.org/rsp/vocals-sd#name</td>\n",
       "      <td>QueryGetterFeature</td>\n",
       "    </tr>\n",
       "    <tr>\n",
       "      <th>63</th>\n",
       "      <td>b14</td>\n",
       "      <td>http://w3id.org/rsp/vocals-sd#name</td>\n",
       "      <td>query</td>\n",
       "    </tr>\n",
       "    <tr>\n",
       "      <th>64</th>\n",
       "      <td>http://localhost:8181/jasper</td>\n",
       "      <td>http://w3id.org/rsp/vocals-sd#hasService</td>\n",
       "      <td>b3</td>\n",
       "    </tr>\n",
       "    <tr>\n",
       "      <th>65</th>\n",
       "      <td>http://localhost:8181/jasper</td>\n",
       "      <td>http://w3id.org/rsp/vocals-sd#hasService</td>\n",
       "      <td>b2</td>\n",
       "    </tr>\n",
       "    <tr>\n",
       "      <th>66</th>\n",
       "      <td>b12</td>\n",
       "      <td>http://w3id.org/rsp/vocals-sd#index</td>\n",
       "      <td>0</td>\n",
       "    </tr>\n",
       "    <tr>\n",
       "      <th>67</th>\n",
       "      <td>b11</td>\n",
       "      <td>http://w3id.org/rsp/vocals-sd#type</td>\n",
       "      <td>http://www.w3.org/2001/XMLSchema#string</td>\n",
       "    </tr>\n",
       "    <tr>\n",
       "      <th>68</th>\n",
       "      <td>b12</td>\n",
       "      <td>http://w3id.org/rsp/vocals-sd#name</td>\n",
       "      <td>tbox</td>\n",
       "    </tr>\n",
       "    <tr>\n",
       "      <th>69</th>\n",
       "      <td>b5</td>\n",
       "      <td>http://w3id.org/rsp/vocals-sd#name</td>\n",
       "      <td>StreamRegistrationFeature</td>\n",
       "    </tr>\n",
       "    <tr>\n",
       "      <th>70</th>\n",
       "      <td>b14</td>\n",
       "      <td>http://w3id.org/rsp/vocals-sd#type</td>\n",
       "      <td>http://www.w3.org/2001/XMLSchema#string</td>\n",
       "    </tr>\n",
       "    <tr>\n",
       "      <th>71</th>\n",
       "      <td>b2</td>\n",
       "      <td>http://w3id.org/rsp/vocals-sd#endpoint</td>\n",
       "      <td>/queries</td>\n",
       "    </tr>\n",
       "    <tr>\n",
       "      <th>72</th>\n",
       "      <td>b5</td>\n",
       "      <td>http://w3id.org/rsp/vocals-sd#endpoint</td>\n",
       "      <td>/streams/:stream</td>\n",
       "    </tr>\n",
       "    <tr>\n",
       "      <th>73</th>\n",
       "      <td>b16</td>\n",
       "      <td>http://w3id.org/rsp/vocals-sd#index</td>\n",
       "      <td>0</td>\n",
       "    </tr>\n",
       "    <tr>\n",
       "      <th>74</th>\n",
       "      <td>b1</td>\n",
       "      <td>http://w3id.org/rsp/vocals-sd#uri_param</td>\n",
       "      <td>b14</td>\n",
       "    </tr>\n",
       "    <tr>\n",
       "      <th>75</th>\n",
       "      <td>b15</td>\n",
       "      <td>http://w3id.org/rsp/vocals-sd#index</td>\n",
       "      <td>0</td>\n",
       "    </tr>\n",
       "    <tr>\n",
       "      <th>76</th>\n",
       "      <td>b9</td>\n",
       "      <td>http://w3id.org/rsp/vocals-sd#type</td>\n",
       "      <td>http://www.w3.org/2001/XMLSchema#string</td>\n",
       "    </tr>\n",
       "    <tr>\n",
       "      <th>77</th>\n",
       "      <td>b11</td>\n",
       "      <td>http://w3id.org/rsp/vocals-sd#name</td>\n",
       "      <td>stream</td>\n",
       "    </tr>\n",
       "    <tr>\n",
       "      <th>78</th>\n",
       "      <td>b4</td>\n",
       "      <td>http://w3id.org/rsp/vocals-sd#body_param</td>\n",
       "      <td>b0</td>\n",
       "    </tr>\n",
       "    <tr>\n",
       "      <th>79</th>\n",
       "      <td>b1</td>\n",
       "      <td>http://w3id.org/rsp/vocals-sd#endpoint</td>\n",
       "      <td>/queries/:query</td>\n",
       "    </tr>\n",
       "    <tr>\n",
       "      <th>80</th>\n",
       "      <td>b5</td>\n",
       "      <td>http://w3id.org/rsp/vocals-sd#body</td>\n",
       "      <td>{\"source\":\"http://www.w3.org/2001/XMLSchema#st...</td>\n",
       "    </tr>\n",
       "    <tr>\n",
       "      <th>81</th>\n",
       "      <td>b3</td>\n",
       "      <td>http://w3id.org/rsp/vocals-sd#uri_param</td>\n",
       "      <td>b11</td>\n",
       "    </tr>\n",
       "    <tr>\n",
       "      <th>82</th>\n",
       "      <td>b1</td>\n",
       "      <td>http://w3id.org/rsp/vocals-sd#method</td>\n",
       "      <td>GET</td>\n",
       "    </tr>\n",
       "    <tr>\n",
       "      <th>83</th>\n",
       "      <td>b4</td>\n",
       "      <td>http://w3id.org/rsp/vocals-sd#body_param</td>\n",
       "      <td>b18</td>\n",
       "    </tr>\n",
       "    <tr>\n",
       "      <th>84</th>\n",
       "      <td>b4</td>\n",
       "      <td>http://w3id.org/rsp/vocals-sd#endpoint</td>\n",
       "      <td>/queries</td>\n",
       "    </tr>\n",
       "    <tr>\n",
       "      <th>85</th>\n",
       "      <td>b3</td>\n",
       "      <td>http://w3id.org/rsp/vocals-sd#method</td>\n",
       "      <td>DELETE</td>\n",
       "    </tr>\n",
       "  </tbody>\n",
       "</table>\n",
       "<p>86 rows × 3 columns</p>\n",
       "</div>"
      ],
      "text/plain": [
       "                         Subject  \\\n",
       "0                             b8   \n",
       "1                             b1   \n",
       "2   http://localhost:8181/jasper   \n",
       "3                             b4   \n",
       "4                             b7   \n",
       "5                             b5   \n",
       "6                             b9   \n",
       "7                             b9   \n",
       "8                            b10   \n",
       "9                             b0   \n",
       "10  http://localhost:8181/jasper   \n",
       "11                            b4   \n",
       "12                           b19   \n",
       "13                            b2   \n",
       "14                           b19   \n",
       "15                            b8   \n",
       "16                            b3   \n",
       "17                           b13   \n",
       "18                            b6   \n",
       "19                            b5   \n",
       "20                            b7   \n",
       "21                            b5   \n",
       "22                            b7   \n",
       "23                            b4   \n",
       "24                           b18   \n",
       "25                            b3   \n",
       "26                            b8   \n",
       "27                           b16   \n",
       "28                            b4   \n",
       "29                           b19   \n",
       "..                           ...   \n",
       "56                            b0   \n",
       "57                            b8   \n",
       "58                            b2   \n",
       "59                           b13   \n",
       "60                           b11   \n",
       "61                           b18   \n",
       "62                            b1   \n",
       "63                           b14   \n",
       "64  http://localhost:8181/jasper   \n",
       "65  http://localhost:8181/jasper   \n",
       "66                           b12   \n",
       "67                           b11   \n",
       "68                           b12   \n",
       "69                            b5   \n",
       "70                           b14   \n",
       "71                            b2   \n",
       "72                            b5   \n",
       "73                           b16   \n",
       "74                            b1   \n",
       "75                           b15   \n",
       "76                            b9   \n",
       "77                           b11   \n",
       "78                            b4   \n",
       "79                            b1   \n",
       "80                            b5   \n",
       "81                            b3   \n",
       "82                            b1   \n",
       "83                            b4   \n",
       "84                            b4   \n",
       "85                            b3   \n",
       "\n",
       "                                          Predicate  \\\n",
       "0              http://w3id.org/rsp/vocals-sd#method   \n",
       "1                http://w3id.org/rsp/vocals#feature   \n",
       "2          http://w3id.org/rsp/vocals-sd#hasService   \n",
       "3          http://w3id.org/rsp/vocals-sd#body_param   \n",
       "4                http://w3id.org/rsp/vocals#feature   \n",
       "5           http://w3id.org/rsp/vocals-sd#uri_param   \n",
       "6                http://w3id.org/rsp/vocals-sd#name   \n",
       "7               http://w3id.org/rsp/vocals-sd#index   \n",
       "8                http://w3id.org/rsp/vocals-sd#name   \n",
       "9               http://w3id.org/rsp/vocals-sd#index   \n",
       "10         http://w3id.org/rsp/vocals-sd#hasService   \n",
       "11               http://w3id.org/rsp/vocals-sd#body   \n",
       "12              http://w3id.org/rsp/vocals-sd#index   \n",
       "13               http://w3id.org/rsp/vocals-sd#name   \n",
       "14               http://w3id.org/rsp/vocals-sd#type   \n",
       "15           http://w3id.org/rsp/vocals-sd#endpoint   \n",
       "16           http://w3id.org/rsp/vocals-sd#endpoint   \n",
       "17  http://www.w3.org/1999/02/22-rdf-syntax-ns#type   \n",
       "18               http://w3id.org/rsp/vocals#feature   \n",
       "19               http://w3id.org/rsp/vocals#feature   \n",
       "20           http://w3id.org/rsp/vocals-sd#endpoint   \n",
       "21         http://w3id.org/rsp/vocals-sd#body_param   \n",
       "22             http://w3id.org/rsp/vocals-sd#method   \n",
       "23               http://w3id.org/rsp/vocals-sd#name   \n",
       "24              http://w3id.org/rsp/vocals-sd#index   \n",
       "25               http://w3id.org/rsp/vocals#feature   \n",
       "26               http://w3id.org/rsp/vocals-sd#name   \n",
       "27               http://w3id.org/rsp/vocals-sd#type   \n",
       "28               http://w3id.org/rsp/vocals#feature   \n",
       "29               http://w3id.org/rsp/vocals-sd#name   \n",
       "..                                              ...   \n",
       "56               http://w3id.org/rsp/vocals-sd#name   \n",
       "57               http://w3id.org/rsp/vocals#feature   \n",
       "58             http://w3id.org/rsp/vocals-sd#method   \n",
       "59              http://w3id.org/rsp/vocals-sd#index   \n",
       "60              http://w3id.org/rsp/vocals-sd#index   \n",
       "61  http://www.w3.org/1999/02/22-rdf-syntax-ns#type   \n",
       "62               http://w3id.org/rsp/vocals-sd#name   \n",
       "63               http://w3id.org/rsp/vocals-sd#name   \n",
       "64         http://w3id.org/rsp/vocals-sd#hasService   \n",
       "65         http://w3id.org/rsp/vocals-sd#hasService   \n",
       "66              http://w3id.org/rsp/vocals-sd#index   \n",
       "67               http://w3id.org/rsp/vocals-sd#type   \n",
       "68               http://w3id.org/rsp/vocals-sd#name   \n",
       "69               http://w3id.org/rsp/vocals-sd#name   \n",
       "70               http://w3id.org/rsp/vocals-sd#type   \n",
       "71           http://w3id.org/rsp/vocals-sd#endpoint   \n",
       "72           http://w3id.org/rsp/vocals-sd#endpoint   \n",
       "73              http://w3id.org/rsp/vocals-sd#index   \n",
       "74          http://w3id.org/rsp/vocals-sd#uri_param   \n",
       "75              http://w3id.org/rsp/vocals-sd#index   \n",
       "76               http://w3id.org/rsp/vocals-sd#type   \n",
       "77               http://w3id.org/rsp/vocals-sd#name   \n",
       "78         http://w3id.org/rsp/vocals-sd#body_param   \n",
       "79           http://w3id.org/rsp/vocals-sd#endpoint   \n",
       "80               http://w3id.org/rsp/vocals-sd#body   \n",
       "81          http://w3id.org/rsp/vocals-sd#uri_param   \n",
       "82             http://w3id.org/rsp/vocals-sd#method   \n",
       "83         http://w3id.org/rsp/vocals-sd#body_param   \n",
       "84           http://w3id.org/rsp/vocals-sd#endpoint   \n",
       "85             http://w3id.org/rsp/vocals-sd#method   \n",
       "\n",
       "                                               Object  \n",
       "0                                              DELETE  \n",
       "1           http://localhost:8181//QueryGetterFeature  \n",
       "2                                                  b7  \n",
       "3                                                 b15  \n",
       "4         http://localhost:8181//StreamsGetterFeature  \n",
       "5                                                 b19  \n",
       "6                                               query  \n",
       "7                                                   0  \n",
       "8                                                body  \n",
       "9                                                   0  \n",
       "10                                                 b8  \n",
       "11  {\"id\":\"http://www.w3.org/2001/XMLSchema#string...  \n",
       "12                                                  0  \n",
       "13                               QueriesGetterFeature  \n",
       "14            http://www.w3.org/2001/XMLSchema#string  \n",
       "15                                    /queries/:query  \n",
       "16                                   /streams/:stream  \n",
       "17            http://www.w3.org/2001/XMLSchema#string  \n",
       "18         http://localhost:8181//StreamGetterFeature  \n",
       "19   http://localhost:8181//StreamRegistrationFeature  \n",
       "20                                           /streams  \n",
       "21                                                b13  \n",
       "22                                                GET  \n",
       "23                           QueryRegistrationFeature  \n",
       "24                                                  0  \n",
       "25       http://localhost:8181//StreamDeletionFeature  \n",
       "26                               QueryDeletionFeature  \n",
       "27            http://www.w3.org/2001/XMLSchema#string  \n",
       "28    http://localhost:8181//QueryRegistrationFeature  \n",
       "29                                             stream  \n",
       "..                                                ...  \n",
       "56                                             format  \n",
       "57        http://localhost:8181//QueryDeletionFeature  \n",
       "58                                                GET  \n",
       "59                                                  1  \n",
       "60                                                  0  \n",
       "61            http://www.w3.org/2001/XMLSchema#string  \n",
       "62                                 QueryGetterFeature  \n",
       "63                                              query  \n",
       "64                                                 b3  \n",
       "65                                                 b2  \n",
       "66                                                  0  \n",
       "67            http://www.w3.org/2001/XMLSchema#string  \n",
       "68                                               tbox  \n",
       "69                          StreamRegistrationFeature  \n",
       "70            http://www.w3.org/2001/XMLSchema#string  \n",
       "71                                           /queries  \n",
       "72                                   /streams/:stream  \n",
       "73                                                  0  \n",
       "74                                                b14  \n",
       "75                                                  0  \n",
       "76            http://www.w3.org/2001/XMLSchema#string  \n",
       "77                                             stream  \n",
       "78                                                 b0  \n",
       "79                                    /queries/:query  \n",
       "80  {\"source\":\"http://www.w3.org/2001/XMLSchema#st...  \n",
       "81                                                b11  \n",
       "82                                                GET  \n",
       "83                                                b18  \n",
       "84                                           /queries  \n",
       "85                                             DELETE  \n",
       "\n",
       "[86 rows x 3 columns]"
      ]
     },
     "execution_count": 4,
     "metadata": {},
     "output_type": "execute_result"
    }
   ],
   "source": [
    "jasper.service().table()"
   ]
  },
  {
   "cell_type": "code",
   "execution_count": 4,
   "metadata": {},
   "outputs": [],
   "source": [
    "streamhub = RSPPublisher(\"http://streamhub:9292/streamhub\")"
   ]
  },
  {
   "cell_type": "code",
   "execution_count": 5,
   "metadata": {},
   "outputs": [
    {
     "data": {
      "text/html": [
       "<div id=\"afa0effb-dfd3-48eb-be8c-132fe04fd801\" style=\"height: 150px; width:100%;\"></div>"
      ]
     },
     "metadata": {},
     "output_type": "display_data"
    },
    {
     "data": {
      "application/javascript": [
       "\n",
       "        require([\"https://cdn.jsdelivr.net/gh/caldwell/renderjson/renderjson.js\"], function() {\n",
       "          document.getElementById('afa0effb-dfd3-48eb-be8c-132fe04fd801').appendChild(renderjson({\"@graph\": [{\"@id\": \"_:node1co57ahimx1\", \"vocals:feature\": {\"@id\": \"http://localhost:8181/streamhub/StreamFullRegistrationFeature\"}, \"vsd:body\": \"{\\\"query\\\":\\\"http://www.w3.org/2001/XMLSchema#string\\\"}\", \"vsd:body_param\": {\"@id\": \"_:node1co57ahimx3\"}, \"vsd:endpoint\": \"/streams\", \"vsd:method\": \"POST\", \"vsd:name\": \"StreamFullRegistrationFeature\"}, {\"@id\": \"_:node1co57ahimx2\", \"vsd:name\": \"query\"}, {\"@id\": \"_:node1co57ahimx3\", \"@type\": \"xsd:string\", \"vsd:index\": \"0\", \"vsd:name\": \"query\"}, {\"@id\": \"_:node1co57ahimx4\", \"vocals:feature\": {\"@id\": \"http://localhost:8181/streamhub/StreamGetterFeature\"}, \"vsd:endpoint\": \"/streams/:stream\", \"vsd:method\": \"GET\", \"vsd:name\": \"StreamGetterFeature\", \"vsd:uri_param\": {\"@id\": \"_:node1co57ahimx5\"}}, {\"@id\": \"_:node1co57ahimx5\", \"vsd:index\": \"0\", \"vsd:name\": \"stream\", \"vsd:type\": {\"@id\": \"xsd:string\"}}, {\"@id\": \"_:node1co57ahimx6\", \"vocals:feature\": {\"@id\": \"http://localhost:8181/streamhub/StreamsGetterFeature\"}, \"vsd:endpoint\": \"/streams\", \"vsd:method\": \"GET\", \"vsd:name\": \"StreamsGetterFeature\"}, {\"@id\": \"_:node1co57ahimx7\", \"vocals:feature\": {\"@id\": \"http://localhost:8181/streamhub/StreamDeletionFeature\"}, \"vsd:endpoint\": \"/streams/:stream\", \"vsd:method\": \"DELETE\", \"vsd:name\": \"StreamDeletionFeature\", \"vsd:uri_param\": {\"@id\": \"_:node1co57ahimx8\"}}, {\"@id\": \"_:node1co57ahimx8\", \"vsd:index\": \"0\", \"vsd:name\": \"stream\", \"vsd:type\": {\"@id\": \"xsd:string\"}}, {\"@id\": \"http://localhost:8181/streamhub\", \"@type\": \"vsd:PublishingService\", \"vsd:base\": \"http://localhost:8181\", \"vsd:hasService\": [{\"@id\": \"_:node1co57ahimx1\"}, {\"@id\": \"_:node1co57ahimx4\"}, {\"@id\": \"_:node1co57ahimx6\"}, {\"@id\": \"_:node1co57ahimx7\"}]}], \"@context\": {\"frmt\": \"http://www.w3.org/ns/formats/\", \"vsd\": \"http://w3id.org/rsp/vocals-sd#\", \"vocals\": \"http://w3id.org/rsp/vocals#\", \"xsd\": \"http://www.w3.org/2001/XMLSchema#\", \"vprov\": \"http://w3id.org/rsp/vocals-prov#\"}}))\n",
       "        });\n",
       "        "
      ]
     },
     "metadata": {},
     "output_type": "display_data"
    }
   ],
   "source": [
    "streamhub.service()"
   ]
  },
  {
   "cell_type": "code",
   "execution_count": 6,
   "metadata": {},
   "outputs": [
    {
     "data": {
      "text/html": [
       "<div id=\"e354f05d-abb9-4f20-acd3-01657d308736\" style=\"height: 150px; width:100%;\"></div>"
      ]
     },
     "metadata": {},
     "output_type": "display_data"
    },
    {
     "data": {
      "application/javascript": [
       "\n",
       "        require([\"https://cdn.jsdelivr.net/gh/caldwell/renderjson/renderjson.js\"], function() {\n",
       "          document.getElementById('e354f05d-abb9-4f20-acd3-01657d308736').appendChild(renderjson([]))\n",
       "        });\n",
       "        "
      ]
     },
     "metadata": {},
     "output_type": "display_data"
    }
   ],
   "source": [
    "jasper.streams()"
   ]
  },
  {
   "cell_type": "code",
   "execution_count": null,
   "metadata": {},
   "outputs": [],
   "source": []
  },
  {
   "cell_type": "code",
   "execution_count": 7,
   "metadata": {},
   "outputs": [
    {
     "data": {
      "text/html": [
       "<div id=\"7d499a95-cc7a-4e9c-81ae-57e6ef9e045a\" style=\"height: 150px; width:100%;\"></div>"
      ]
     },
     "metadata": {},
     "output_type": "display_data"
    },
    {
     "data": {
      "application/javascript": [
       "\n",
       "        require([\"https://cdn.jsdelivr.net/gh/caldwell/renderjson/renderjson.js\"], function() {\n",
       "          document.getElementById('7d499a95-cc7a-4e9c-81ae-57e6ef9e045a').appendChild(renderjson([]))\n",
       "        });\n",
       "        "
      ]
     },
     "metadata": {},
     "output_type": "display_data"
    }
   ],
   "source": [
    "jasper.listq()"
   ]
  },
  {
   "cell_type": "code",
   "execution_count": 8,
   "metadata": {},
   "outputs": [
    {
     "data": {
      "text/html": [
       "<div id=\"bbc3d727-d951-4489-9b00-219a497e1cb7\" style=\"height: 150px; width:100%;\"></div>"
      ]
     },
     "metadata": {},
     "output_type": "display_data"
    },
    {
     "data": {
      "application/javascript": [
       "\n",
       "        require([\"https://cdn.jsdelivr.net/gh/caldwell/renderjson/renderjson.js\"], function() {\n",
       "          document.getElementById('bbc3d727-d951-4489-9b00-219a497e1cb7').appendChild(renderjson([]))\n",
       "        });\n",
       "        "
      ]
     },
     "metadata": {},
     "output_type": "display_data"
    }
   ],
   "source": [
    "jasper.tasks()"
   ]
  },
  {
   "cell_type": "code",
   "execution_count": 9,
   "metadata": {},
   "outputs": [
    {
     "data": {
      "text/html": [
       "<div id=\"ae0bc1b6-142a-4ed3-a97c-0df0835336ed\" style=\"height: 150px; width:100%;\"></div>"
      ]
     },
     "metadata": {},
     "output_type": "display_data"
    },
    {
     "data": {
      "application/javascript": [
       "\n",
       "        require([\"https://cdn.jsdelivr.net/gh/caldwell/renderjson/renderjson.js\"], function() {\n",
       "          document.getElementById('ae0bc1b6-142a-4ed3-a97c-0df0835336ed').appendChild(renderjson([]))\n",
       "        });\n",
       "        "
      ]
     },
     "metadata": {},
     "output_type": "display_data"
    }
   ],
   "source": [
    "streamhub.streams()"
   ]
  },
  {
   "cell_type": "code",
   "execution_count": 1,
   "metadata": {},
   "outputs": [],
   "source": [
    "from rsplib import RSPEngine, RSPPublisher, Stream, rdf_table\n"
   ]
  },
  {
   "cell_type": "code",
   "execution_count": 2,
   "metadata": {},
   "outputs": [],
   "source": [
    "s = Stream(\"http://redstream:1255/red\")"
   ]
  },
  {
   "cell_type": "code",
   "execution_count": 3,
   "metadata": {},
   "outputs": [],
   "source": [
    "es = s.endpoints()"
   ]
  },
  {
   "cell_type": "code",
   "execution_count": 4,
   "metadata": {},
   "outputs": [
    {
     "name": "stdout",
     "output_type": "stream",
     "text": [
      "Single Connection to WebSocket.\n"
     ]
    }
   ],
   "source": [
    "g = es[0].call()"
   ]
  },
  {
   "cell_type": "code",
   "execution_count": 5,
   "metadata": {},
   "outputs": [
    {
     "data": {
      "text/plain": [
       "<Graph identifier=N2ad907a1d5774a2f884401d590f65070 (<class 'rdflib.graph.ConjunctiveGraph'>)>"
      ]
     },
     "execution_count": 5,
     "metadata": {},
     "output_type": "execute_result"
    }
   ],
   "source": [
    "g.rdf()"
   ]
  },
  {
   "cell_type": "code",
   "execution_count": 12,
   "metadata": {},
   "outputs": [
    {
     "data": {
      "text/html": [
       "<div>\n",
       "<table border=\"1\" class=\"dataframe\">\n",
       "  <thead>\n",
       "    <tr style=\"text-align: right;\">\n",
       "      <th></th>\n",
       "      <th>Subject</th>\n",
       "      <th>Predicate</th>\n",
       "      <th>Object</th>\n",
       "    </tr>\n",
       "  </thead>\n",
       "  <tbody>\n",
       "    <tr>\n",
       "      <th>0</th>\n",
       "      <td>file:///home/jovyan/work/1788d080-60ed-4b14-85...</td>\n",
       "      <td>http://www.w3.org/1999/02/22-rdf-syntax-ns#type</td>\n",
       "      <td>http://www.streamreasoning.org/ontologies/2018...</td>\n",
       "    </tr>\n",
       "  </tbody>\n",
       "</table>\n",
       "</div>"
      ],
      "text/plain": [
       "                                             Subject  \\\n",
       "0  file:///home/jovyan/work/1788d080-60ed-4b14-85...   \n",
       "\n",
       "                                         Predicate  \\\n",
       "0  http://www.w3.org/1999/02/22-rdf-syntax-ns#type   \n",
       "\n",
       "                                              Object  \n",
       "0  http://www.streamreasoning.org/ontologies/2018...  "
      ]
     },
     "execution_count": 12,
     "metadata": {},
     "output_type": "execute_result"
    }
   ],
   "source": [
    "g.rdf_table()"
   ]
  },
  {
   "cell_type": "code",
   "execution_count": 10,
   "metadata": {},
   "outputs": [
    {
     "data": {
      "text/html": [
       "<div id=\"044e6b3a-9f9c-4db1-9fd2-36f337853d5f\" style=\"height: 150px; width:100%;\"></div>"
      ]
     },
     "metadata": {},
     "output_type": "display_data"
    },
    {
     "data": {
      "application/javascript": [
       "\n",
       "        require([\"https://cdn.jsdelivr.net/gh/caldwell/renderjson/renderjson.js\"], function() {\n",
       "          document.getElementById('044e6b3a-9f9c-4db1-9fd2-36f337853d5f').appendChild(renderjson([\n",
       "  {\n",
       "    \"@id\": \"file:///home/jovyan/work/1788d080-60ed-4b14-8520-4a9beb447885\",\n",
       "    \"@type\": [\n",
       "      \"http://www.streamreasoning.org/ontologies/2018/9/colors#Red\"\n",
       "    ]\n",
       "  }\n",
       "]))\n",
       "        });\n",
       "        "
      ]
     },
     "metadata": {},
     "output_type": "display_data"
    }
   ],
   "source": [
    "s1 = Stream(res=g)\n",
    "s1\n"
   ]
  },
  {
   "cell_type": "code",
   "execution_count": 9,
   "metadata": {},
   "outputs": [
    {
     "data": {
      "text/html": [
       "<div id=\"06f3f1dc-8fd1-4c8b-bc43-8193af342e70\" style=\"height: 150px; width:100%;\"></div>"
      ]
     },
     "metadata": {},
     "output_type": "display_data"
    },
    {
     "data": {
      "application/javascript": [
       "\n",
       "        require([\"https://cdn.jsdelivr.net/gh/caldwell/renderjson/renderjson.js\"], function() {\n",
       "          document.getElementById('06f3f1dc-8fd1-4c8b-bc43-8193af342e70').appendChild(renderjson([\n",
       "  {\n",
       "    \"@id\": \"file:///home/jovyan/work/1788d080-60ed-4b14-8520-4a9beb447885\",\n",
       "    \"@type\": [\n",
       "      \"http://www.streamreasoning.org/ontologies/2018/9/colors#Red\"\n",
       "    ]\n",
       "  }\n",
       "]))\n",
       "        });\n",
       "        "
      ]
     },
     "metadata": {},
     "output_type": "display_data"
    }
   ],
   "source": [
    "s1 = Stream(graph=g.rdf())\n",
    "s1\n"
   ]
  },
  {
   "cell_type": "code",
   "execution_count": 6,
   "metadata": {},
   "outputs": [
    {
     "name": "stdout",
     "output_type": "stream",
     "text": [
      "Single Connection to WebSocket.\n"
     ]
    },
    {
     "data": {
      "text/plain": [
       "'{\\n  \"@context\": {\\n    \"color\": \"http://www.streamreasoning.org/ontologies/2018/9/colors#\",\\n    \"rdf\": \"http://www.w3.org/1999/02/22-rdf-syntax-ns#\",\\n    \"rdfs\": \"http://www.w3.org/2000/01/rdf-schema#\"\\n  },\\n  \"@id\": \"d38f5cda-945b-4b3a-8dfe-c9dbec30de94\",\\n  \"@type\": \"color:Red\"\\n}'"
      ]
     },
     "execution_count": 6,
     "metadata": {},
     "output_type": "execute_result"
    }
   ],
   "source": [
    "es[0].call()"
   ]
  },
  {
   "cell_type": "code",
   "execution_count": 7,
   "metadata": {},
   "outputs": [
    {
     "name": "stdout",
     "output_type": "stream",
     "text": [
      "Single Connection to WebSocket.\n"
     ]
    },
    {
     "data": {
      "text/plain": [
       "'{\\n  \"@context\": {\\n    \"color\": \"http://www.streamreasoning.org/ontologies/2018/9/colors#\",\\n    \"rdf\": \"http://www.w3.org/1999/02/22-rdf-syntax-ns#\",\\n    \"rdfs\": \"http://www.w3.org/2000/01/rdf-schema#\"\\n  },\\n  \"@id\": \"5568d28a-0136-4ff0-b773-82c9f4623955\",\\n  \"@type\": \"color:Red\"\\n}'"
      ]
     },
     "execution_count": 7,
     "metadata": {},
     "output_type": "execute_result"
    }
   ],
   "source": [
    "es[0].call()"
   ]
  },
  {
   "cell_type": "code",
   "execution_count": 8,
   "metadata": {},
   "outputs": [
    {
     "name": "stdout",
     "output_type": "stream",
     "text": [
      "Single Connection to WebSocket.\n"
     ]
    },
    {
     "data": {
      "text/plain": [
       "'{\\n  \"@context\": {\\n    \"color\": \"http://www.streamreasoning.org/ontologies/2018/9/colors#\",\\n    \"rdf\": \"http://www.w3.org/1999/02/22-rdf-syntax-ns#\",\\n    \"rdfs\": \"http://www.w3.org/2000/01/rdf-schema#\"\\n  },\\n  \"@id\": \"96fc11f1-a376-4c1f-9159-d7a3f036cd23\",\\n  \"@type\": \"color:Red\"\\n}'"
      ]
     },
     "execution_count": 8,
     "metadata": {},
     "output_type": "execute_result"
    }
   ],
   "source": [
    "es[0].call()"
   ]
  },
  {
   "cell_type": "code",
   "execution_count": 9,
   "metadata": {},
   "outputs": [
    {
     "name": "stdout",
     "output_type": "stream",
     "text": [
      "Single Connection to WebSocket.\n"
     ]
    },
    {
     "data": {
      "text/plain": [
       "'{\\n  \"@context\": {\\n    \"color\": \"http://www.streamreasoning.org/ontologies/2018/9/colors#\",\\n    \"rdf\": \"http://www.w3.org/1999/02/22-rdf-syntax-ns#\",\\n    \"rdfs\": \"http://www.w3.org/2000/01/rdf-schema#\"\\n  },\\n  \"@id\": \"ed480f2e-91df-4bf5-9f7e-b4d360ac8287\",\\n  \"@type\": \"color:Red\"\\n}'"
      ]
     },
     "execution_count": 9,
     "metadata": {},
     "output_type": "execute_result"
    }
   ],
   "source": [
    "es[0].call()"
   ]
  },
  {
   "cell_type": "code",
   "execution_count": null,
   "metadata": {},
   "outputs": [],
   "source": []
  }
 ],
 "metadata": {
  "kernelspec": {
   "display_name": "Python 3",
   "language": "python",
   "name": "python3"
  },
  "language_info": {
   "codemirror_mode": {
    "name": "ipython",
    "version": 3
   },
   "file_extension": ".py",
   "mimetype": "text/x-python",
   "name": "python",
   "nbconvert_exporter": "python",
   "pygments_lexer": "ipython3",
   "version": "3.6.2"
  }
 },
 "nbformat": 4,
 "nbformat_minor": 2
}
